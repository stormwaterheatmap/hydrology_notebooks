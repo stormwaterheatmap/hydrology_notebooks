{
 "cells": [
  {
   "cell_type": "markdown",
   "metadata": {},
   "source": [
    "\n",
    "King County Fish Passage Hydrology Tool \n",
    "---\n",
    "---"
   ]
  },
  {
   "cell_type": "markdown",
   "metadata": {},
   "source": [
    "## License\n",
    "###### © 2020 Geosyntec Consultants Inc. The copyright holders grant the freedom to copy, modify, convey, adapt, and/or redistribute this work under the terms of the [Mozilla Public Licesnse 2.0](https://spdx.org/licenses/MPL-2.0.html)"
   ]
  },
  {
   "cell_type": "markdown",
   "metadata": {},
   "source": [
    "## Overview\n",
    "This tool supports King County's comprehensive inventory and assessment of assets on watercourses to\n",
    "determine if the assets are barriers to fish passage. King County is performing the assessment using\n",
    "methodology outlined in the Washington Department of Fish and Wildlife's Fish Passage Inventory,\n",
    "Assessment, and Prioritization Manual (WDFW, 2019).\n",
    "The Level B assessment outlined in the WDFW\n",
    "2019 Manual provides for a hydraulic analysis to determine if a culvert meets the velocity and depth\n",
    "requirements for fish passage between low and high fish passage flows. Per the WDFW 2019 Manual:\n",
    "For an instream feature to be considered a non-barrier, it should not obstruct upstream migration\n",
    "at any time between the low and high fish passage flows at that location:\n",
    "\n",
    "* Low fish passage flow is the 95% exceedance flow; and\n",
    "* High fish passage flow is the 10% exceedance flow during the months of adult upstream migration.\n",
    "\n",
    "### Data Sources \n",
    "\n",
    "Data used in this tool has been provided from the Nature Conservancy's Stormwater Heatmap Project. Documentation on the Stormwater Heatmap is in progress. Below is a brief summary of data sources: \n",
    "\n",
    "\n",
    "* Digital Elevation Model - [USGS National Hydrography (NHD Plus High Resolution Raster Data)](https://www.usgs.gov/core-science-systems/ngp/national-hydrography/nhdplus-high-resolution)\n",
    "* Soils - [USDA Gridded SURGO Database](https://www.nrcs.usda.gov/wps/portal/nrcs/detail/soils/home/?cid=nrcs142p2_053628)\n",
    "* Slope - USGS National Elevation Dataset (https://ned.usgs.gov)\n",
    "* Level B Sites - Spatial data provided by King County \n",
    "* Land cover and hydrology- The Nature Conservancy Stormwater Heatmap \n",
    "\n",
    "Documentation for the Stormwater Heatmap is in progress. Hydrology simulations were performed using [PyHSPF](https://github.com/djlampert/PyHSPF). Watershed factors used in this simulation were selected based on stormwater modeling guidance from the Department of Ecology. See the [Western Washington Hydrology Model Users Manual for more information.](https://fortress.wa.gov/ecy/madcap/wq/2014SWMMWWinteractive/2014%20SWMMWW.htm#Topics/VolumeIII2014/VolIII%20AppB%202014.htm%3FTocPath%3D2014%2520SWMMWW%7CVolume%2520III%2520-%2520Hydrologic%2520Analysis%2520and%2520Flow%2520Control%2520BMPs%7C)\n",
    "\n",
    "### Limitations\n",
    "\n",
    "##### Results not calibrated \n",
    "Hydrology simulations were performed on a hydrologic response unit basins using regional parameters. Parameters have not been calibrated to actual data. A model-based gridded precipitation dataset was used (see [Mauger et al 2018](https://cig.uw.edu/news-and-events/publications/new-projections-of-changing-heavy-precipitation-in-king-county/) ). \n",
    "\n",
    "##### Model does not include routing or storage \n",
    "Modeling was performed on a lumped parameter basis. Attenuation due to routing or storage is not reflected in the model. For large watersheds (greater than ~ 1 square mile) high flows may not be accurate. \n",
    "\n",
    "##### Model does not include deep groundwater baseflow\n",
    "The modeling results include all hspf flow paths (surface flow, interflow, and groundwater flow), however baseflow from deep groundwater is not included. Consistent with WDFW guidance, results in this notebook have assumed a minimum baseflow of 1 cfs. \n",
    "\n",
    "---"
   ]
  },
  {
   "cell_type": "markdown",
   "metadata": {},
   "source": [
    "## Version information \n",
    "alpha version - for evaluation. Released 15 Jan 2020\n",
    "\n",
    "##### [Report a bug or other issue](mailto:incoming+geosyntec-king-county-fish-passage-tool-public-16324449-ai7zp34q4yd1im1aedhzmlalo-issue@incoming.gitlab.com)\n",
    "\n",
    "---"
   ]
  },
  {
   "cell_type": "markdown",
   "metadata": {},
   "source": [
    "## 1. Project set up\n",
    "Import libraries and set paths"
   ]
  },
  {
   "cell_type": "code",
   "execution_count": null,
   "metadata": {},
   "outputs": [],
   "source": [
    "from pathlib import Path\n",
    "from datetime import datetime\n",
    "from functools import partial\n",
    "\n",
    "from google.oauth2 import service_account\n",
    "import ee\n",
    "\n",
    "import pandas\n",
    "import pandas_gbq\n",
    "\n",
    "import geopandas\n",
    "from whitebox import WhiteboxTools\n",
    "\n",
    "import ipywidgets\n",
    "from ipywidgets import widgets\n",
    "from IPython.display import display\n",
    "import ipyleaflet\n",
    "from ipyleaflet import GeoData, LayersControl, basemaps\n",
    "from sidecar import Sidecar\n",
    "import folium\n",
    "\n",
    "import pikestreet\n",
    "\n",
    "\n",
    "datadir = Path('..', '01-data').absolute()\n",
    "outputdir = Path('..', '02-output', datetime.today().strftime('%Y%m%d')).absolute()\n",
    "outputdir.mkdir(exist_ok=True, parents=True)\n",
    "\n",
    "wbt = WhiteboxTools()\n",
    "wbt.work_dir = str(Path('.').absolute())\n",
    "wbt.verbose = False\n",
    "\n",
    "%matplotlib inline"
   ]
  },
  {
   "cell_type": "markdown",
   "metadata": {},
   "source": [
    "## 2. User Configuration \n",
    "#### Notebook variables\n",
    "Edit the variables below for your particular case"
   ]
  },
  {
   "cell_type": "code",
   "execution_count": null,
   "metadata": {},
   "outputs": [],
   "source": [
    "#Location of shapefile with analysis locaitons\n",
    "sitefile = datadir / 'from_king_county' / 'levelBsites.geojson'\n",
    "sites = geopandas.read_file(sitefile)\n",
    "\n",
    "#Beginning year \n",
    "year0 = 1970 \n",
    "#end year \n",
    "yearN = 2000 \n",
    "\n",
    "#array of all months (1-12)\n",
    "all_months = list(range(1,13))\n",
    "\n",
    "#low flow is set for all months \n",
    "low_flow_months = all_months \n",
    "\n",
    "#high flow is set for upstream migration  \n",
    "high_flow_months = list(range(1,2)) #high flow is calculated for January only \n",
    "\n",
    "numofQuantiles = 20 #number of quantitles to calculate"
   ]
  },
  {
   "cell_type": "markdown",
   "metadata": {},
   "source": [
    "#### Earth Engine Authentication\n",
    "This notebook requires a Google Earth Engine Account to query and analyze spatial data. Visit https://earthengine.google.com/signup to sign up for an account.  \n",
    "\n",
    "After you have registered your account. Run the `ee.Authenticate` function to authenticate your access to Earth Engine servers and `ee.Initialize` to initialize it. Upon running the following cell you'll be asked to grant Earth Engine access to your Google account. Follow the instructions printed to the cell. (Sometimes this takes awhile). "
   ]
  },
  {
   "cell_type": "code",
   "execution_count": null,
   "metadata": {},
   "outputs": [],
   "source": [
    "#ee.Authenticate() #<---Uncomment and run the first time you need to authenticate your google earth account\n",
    "ee.Initialize()"
   ]
  },
  {
   "cell_type": "markdown",
   "metadata": {},
   "source": [
    "#### Local directory information"
   ]
  },
  {
   "cell_type": "markdown",
   "metadata": {},
   "source": [
    "This notebook creates a local directory with today's date to store data. After you complete your analysis, you may want to delete the files in your local directory. \n",
    "The cell below outputs the working directory, the directory for input data, and the output directory. "
   ]
  },
  {
   "cell_type": "code",
   "execution_count": null,
   "metadata": {},
   "outputs": [],
   "source": [
    "print('Working directory:', wbt.work_dir)\n",
    "print('Input data directory:', datadir)\n",
    "print('Output data directory:', outputdir)"
   ]
  },
  {
   "cell_type": "markdown",
   "metadata": {},
   "source": [
    "## 3. Site Selection\n",
    "\n",
    "Execute the cell below to display a map of locations to analyze. Once you have selected a point to analyze, select the 'Click to Analyze Site' button.\n",
    "\n",
    "The notebook will then download a dem to your local directory and begin delineating the watershed. When the button turns green and check mark appears you can proceed to the next cell. "
   ]
  },
  {
   "cell_type": "code",
   "execution_count": null,
   "metadata": {},
   "outputs": [],
   "source": [
    "# Create the text boxes, etc. \n",
    "latitudeBox = widgets.FloatText(value=0, description='Lat:', disabled=True)\n",
    "longitudeBox = widgets.FloatText(value=0, description='Lng:', disabled=True)\n",
    "ID = widgets.Textarea(value='ID here', description='ID:', disabled=True)\n",
    "       \n",
    "point_layer = GeoData(geo_dataframe=sites, name='Level B Sites')\n",
    "textarea = widgets.VBox([latitudeBox, longitudeBox, ID])\n",
    "info_panel = widgets.Label(value='',  disabled=True, layout = {'visibility': 'hidden'})\n",
    "\n",
    "\n",
    "watershed_dict= dict()\n",
    "map1 = ipyleaflet.Map(\n",
    "    zoom=9,\n",
    "    center=(47.49169, -122.243516),\n",
    "    layout=widgets.Layout(height='400px'),\n",
    "    basemap=basemaps.Esri.WorldTopoMap\n",
    ");\n",
    "\n",
    "\n",
    "#Add level B Sites\n",
    "accept_button = widgets.Button(\n",
    "    description='Click to Analyze Site',\n",
    "    disabled=True,\n",
    "    button_style='', # 'success', 'info', 'warning', 'danger' or ''\n",
    "    tooltip='Analyze Site',\n",
    "    layout = {'margin': '10px 10px 10px 10px'},\n",
    ")\n",
    "\n",
    "_point_handler = partial(pikestreet.onclick_handler, sites=sites, mapobj=map1,\n",
    "                         lat_box=latitudeBox, lng_box=longitudeBox,\n",
    "                         watershed_dict=watershed_dict, wbt=wbt,\n",
    "                         accept_button=accept_button, id_box=ID)\n",
    "\n",
    "_button_clicker = partial(pikestreet.accept_button_click_handler, mapobj=map1,\n",
    "                          watershed_dict=watershed_dict, ee=ee, wbt=wbt,\n",
    "                          outputdir=outputdir, info_panel=info_panel)\n",
    "\n",
    "point_layer.on_click(_point_handler)\n",
    "accept_button.on_click(_button_clicker)\n",
    "\n",
    "map1.add_layer(point_layer)\n",
    "map1.add_control(LayersControl(position='topright'))\n",
    "\n",
    "col2 = widgets.VBox([accept_button, textarea, info_panel])\n",
    "output_area = widgets.VBox([map1, col2])\n",
    "with Sidecar(title='Watershed Delineator') as sc:\n",
    "    display(output_area)"
   ]
  },
  {
   "cell_type": "markdown",
   "metadata": {},
   "source": [
    "## 4. Land use, soils, and slope data \n",
    "\n",
    "Execute the cell below to get land use, soils and slope information for the watershed. "
   ]
  },
  {
   "cell_type": "code",
   "execution_count": null,
   "metadata": {},
   "outputs": [],
   "source": [
    "pikestreet.detail_map(watershed_dict, ee=ee)"
   ]
  },
  {
   "cell_type": "markdown",
   "metadata": {},
   "source": [
    "|              |    |  | \n",
    ":-------------------------:|:-------------------------:|:-------------------------:\n",
    "![alt text](legend_1.PNG \"Title\")  | ![alt text](legend_2.PNG \"Title\")| ![alt text](legend_0.PNG \"Title\") \n",
    "\n"
   ]
  },
  {
   "cell_type": "markdown",
   "metadata": {},
   "source": [
    "#### Get HRUs\n",
    "These categories are combined to create \"hydrologic response units\" or HRUs. These are used to query the hydrology results. "
   ]
  },
  {
   "cell_type": "code",
   "execution_count": null,
   "metadata": {},
   "outputs": [],
   "source": [
    "HRUs = (\n",
    "    pikestreet.get_HRUs_in_watershed(ee, watershed_dict['watershed_geometry'],\n",
    "                                     image_file=\"users/stormwaterheatmap/public/hrus_2m\")\n",
    "        .pipe(pikestreet.process_HRUs)\n",
    ")\n",
    "pikestreet.hru_barchart(HRUs)"
   ]
  },
  {
   "cell_type": "markdown",
   "metadata": {},
   "source": [
    "## 5. Get flow values from Big Query\n",
    "\n",
    "#### Authenticate with service account credentials\n",
    "a key file: `stormwaterheatmap-hydrology-8308154a1232.json` has been generated for use with this notebook. It is located in the data directory. Use this to create credintals to the Big Query api. "
   ]
  },
  {
   "cell_type": "code",
   "execution_count": null,
   "metadata": {},
   "outputs": [],
   "source": [
    "key_path = datadir / \"stormwaterheatmap-hydrology-8308154a1232.json\"\n",
    "project_id = \"stormwaterheatmap-hydrology\"\n",
    "pandas_gbq.context.project = project_id\n",
    "pandas_gbq.context.credentials = service_account.Credentials.from_service_account_file(\n",
    "    str(key_path)\n",
    ")\n",
    "\n",
    "centroid = watershed_dict['centroid'].iloc[0]\n",
    "geohash = pikestreet.get_geohash_of_point(centroid, project_id=project_id)\n",
    "\n",
    "low_flow_quants = pikestreet.get_flow_quantiles(HRUs, geohash, year0, yearN, numofQuantiles, *low_flow_months)\n",
    "high_flow_quants = pikestreet.get_flow_quantiles(HRUs, geohash, year0, yearN, numofQuantiles, *high_flow_months)\n",
    "\n",
    "quants = pikestreet.process_quantiles(low_flow_quants, 'Qlow').merge(\n",
    "    pikestreet.process_quantiles(high_flow_quants, 'Qhigh'), on=['Exceedance']\n",
    ")\n",
    "\n",
    "#set a minimum 1 cfs flow\n",
    "quants['Qlow'] = quants['Qlow'].clip(lower = 1)\n",
    "quants['Qhigh'] = quants['Qhigh'].clip(lower = 1)\n",
    "\n",
    "qplot = pikestreet.prob_plot(quants)\n",
    "\n",
    "summary_table = quants.style.apply(\n",
    "    lambda x: [\"background: #1e88e5\" if x['Exceedance']==0.10  else(\"background: #F58518\" if x['Exceedance']==0.95 else \"\") for v in x], axis = 1).hide_index()\n",
    "display(pikestreet.hilo_flow_widgets(quants),qplot.mark_line() + qplot.mark_point(),summary_table)"
   ]
  },
  {
   "cell_type": "code",
   "execution_count": null,
   "metadata": {},
   "outputs": [],
   "source": []
  }
 ],
 "metadata": {
  "kernel_info": {
   "name": "white-box"
  },
  "kernelspec": {
   "display_name": "Python (white-box)",
   "language": "python",
   "name": "white-box"
  },
  "language_info": {
   "codemirror_mode": {
    "name": "ipython",
    "version": 3
   },
   "file_extension": ".py",
   "mimetype": "text/x-python",
   "name": "python",
   "nbconvert_exporter": "python",
   "pygments_lexer": "ipython3",
   "version": "3.6.7"
  },
  "nteract": {
   "version": "0.15.0"
  },
  "widgets": {
   "application/vnd.jupyter.widget-state+json": {
    "state": {
     "08893db94c124708bd00bf46c04c83c0": {
      "model_module": "@jupyter-widgets/controls",
      "model_module_version": "1.5.0",
      "model_name": "FloatTextModel",
      "state": {
       "description": "Lng:",
       "disabled": true,
       "layout": "IPY_MODEL_400ead45b11d4d07a75b58efb830118a",
       "step": null,
       "style": "IPY_MODEL_ec3f6e9aadba4ee1acbaa0f0880c1fdf",
       "value": -122.31042579366114
      }
     },
     "09f8d493b6d549008e5c2a23678c7f22": {
      "model_module": "jupyter-leaflet",
      "model_module_version": "^0.11.4",
      "model_name": "LeafletZoomControlModel",
      "state": {
       "_model_module_version": "^0.11.4",
       "_view_count": null,
       "_view_module_version": "^0.11.4",
       "options": [
        "position",
        "zoom_in_text",
        "zoom_in_title",
        "zoom_out_text",
        "zoom_out_title"
       ]
      }
     },
     "0bc0f38dafc6450c930316bb4611cc43": {
      "model_module": "@jupyter-widgets/base",
      "model_module_version": "1.2.0",
      "model_name": "LayoutModel",
      "state": {}
     },
     "13976e1f29e64ec49829d42cef652483": {
      "model_module": "@jupyter-widgets/base",
      "model_module_version": "1.2.0",
      "model_name": "LayoutModel",
      "state": {}
     },
     "21d23c56b2f64e899faf5933030c170b": {
      "model_module": "@jupyter-widgets/controls",
      "model_module_version": "1.5.0",
      "model_name": "ButtonModel",
      "state": {
       "button_style": "success",
       "description": "Click to Analyze Site",
       "disabled": true,
       "icon": "check",
       "layout": "IPY_MODEL_6c2682de0e944405b4fcffbbda65dcb2",
       "style": "IPY_MODEL_60540d3fbfc34b22b83f7dab5928c473",
       "tooltip": "Analyze Site"
      }
     },
     "22580ab7ecc34fecb66486769ffa5b7d": {
      "model_module": "@jupyter-widgets/controls",
      "model_module_version": "1.5.0",
      "model_name": "VBoxModel",
      "state": {
       "children": [
        "IPY_MODEL_c91f464f16bb4f94bf219f081b896ec6",
        "IPY_MODEL_bf8f5549526a41c4b40656de238aaf04"
       ],
       "layout": "IPY_MODEL_814aecc2d91a43f19aa25bdca6483e75"
      }
     },
     "28320e61aaaa4b669a37b99647c568a1": {
      "model_module": "jupyter-leaflet",
      "model_module_version": "^0.11.4",
      "model_name": "LeafletGeoJSONModel",
      "state": {
       "_model_module_version": "^0.11.4",
       "_view_count": null,
       "_view_module_version": "^0.11.4",
       "data": {
        "features": [
         {
          "geometry": {
           "coordinates": [
            [
             [
              [
               -122.31038700387867,
               47.513512344592904
              ],
              [
               -122.31029717235027,
               47.513512344592904
              ],
              [
               -122.31029717235027,
               47.51360217612132
              ],
              [
               -122.31011750929345,
               47.51360217612132
              ],
              [
               -122.31011750929345,
               47.513512344592904
              ],
              [
               -122.31002767776504,
               47.513512344592904
              ],
              [
               -122.31002767776504,
               47.51342251306449
              ],
              [
               -122.30993784623662,
               47.51342251306449
              ],
              [
               -122.30993784623662,
               47.51333268153608
              ],
              [
               -122.30984801470821,
               47.51333268153608
              ],
              [
               -122.30984801470821,
               47.51324285000767
              ],
              [
               -122.3097581831798,
               47.51324285000767
              ],
              [
               -122.3097581831798,
               47.51315301847926
              ],
              [
               -122.30957852012297,
               47.51315301847926
              ],
              [
               -122.30957852012297,
               47.513063186950845
              ],
              [
               -122.30948868859456,
               47.513063186950845
              ],
              [
               -122.30948868859456,
               47.51243436625196
              ],
              [
               -122.30939885706614,
               47.51243436625196
              ],
              [
               -122.30939885706614,
               47.51126655638261
              ],
              [
               -122.30948868859456,
               47.51126655638261
              ],
              [
               -122.30948868859456,
               47.510458072626896
              ],
              [
               -122.30939885706614,
               47.510458072626896
              ],
              [
               -122.30939885706614,
               47.510188578041664
              ],
              [
               -122.30930902553774,
               47.510188578041664
              ],
              [
               -122.30930902553774,
               47.509739420399605
              ],
              [
               -122.30921919400933,
               47.509739420399605
              ],
              [
               -122.30921919400933,
               47.50964958887119
              ],
              [
               -122.30912936248092,
               47.50964958887119
              ],
              [
               -122.30912936248092,
               47.50938009428595
              ],
              [
               -122.3090395309525,
               47.50938009428595
              ],
              [
               -122.3090395309525,
               47.509020768172306
              ],
              [
               -122.30894969942409,
               47.509020768172306
              ],
              [
               -122.30894969942409,
               47.50866144205866
              ],
              [
               -122.30885986789568,
               47.50866144205866
              ],
              [
               -122.30885986789568,
               47.5082122844166
              ],
              [
               -122.30877003636726,
               47.5082122844166
              ],
              [
               -122.30877003636726,
               47.50812245288819
              ],
              [
               -122.30868020483885,
               47.50812245288819
              ],
              [
               -122.30868020483885,
               47.508032621359774
              ],
              [
               -122.30859037331044,
               47.508032621359774
              ],
              [
               -122.30859037331044,
               47.50731396913248
              ],
              [
               -122.30850054178202,
               47.50731396913248
              ],
              [
               -122.30850054178202,
               47.50722413760407
              ],
              [
               -122.30841071025361,
               47.50722413760407
              ],
              [
               -122.30841071025361,
               47.507134306075656
              ],
              [
               -122.30832087872521,
               47.507134306075656
              ],
              [
               -122.30832087872521,
               47.50704447454724
              ],
              [
               -122.3082310471968,
               47.50704447454724
              ],
              [
               -122.3082310471968,
               47.50695464301883
              ],
              [
               -122.30814121566839,
               47.50695464301883
              ],
              [
               -122.30814121566839,
               47.50524784397901
              ],
              [
               -122.30805138413997,
               47.50524784397901
              ],
              [
               -122.30805138413997,
               47.50488851786536
              ],
              [
               -122.30796155261156,
               47.50488851786536
              ],
              [
               -122.30796155261156,
               47.50452919175171
              ],
              [
               -122.30787172108315,
               47.50452919175171
              ],
              [
               -122.30787172108315,
               47.50434952869489
              ],
              [
               -122.30778188955473,
               47.50434952869489
              ],
              [
               -122.30778188955473,
               47.504259697166475
              ],
              [
               -122.30769205802632,
               47.504259697166475
              ],
              [
               -122.30769205802632,
               47.50416986563806
              ],
              [
               -122.3076022264979,
               47.50416986563806
              ],
              [
               -122.3076022264979,
               47.50390037105283
              ],
              [
               -122.30751239496949,
               47.50390037105283
              ],
              [
               -122.30751239496949,
               47.503810539524416
              ],
              [
               -122.30733273191268,
               47.503810539524416
              ],
              [
               -122.30733273191268,
               47.503541044939176
              ],
              [
               -122.30742256344108,
               47.503541044939176
              ],
              [
               -122.3076022264979,
               47.503541044939176
              ],
              [
               -122.3076022264979,
               47.50345121341076
              ],
              [
               -122.30769205802632,
               47.50345121341076
              ],
              [
               -122.30769205802632,
               47.50336138188236
              ],
              [
               -122.30778188955473,
               47.50336138188236
              ],
              [
               -122.30778188955473,
               47.503271550353944
              ],
              [
               -122.30787172108315,
               47.503271550353944
              ],
              [
               -122.30787172108315,
               47.50318171882553
              ],
              [
               -122.30796155261156,
               47.50318171882553
              ],
              [
               -122.30805138413997,
               47.50318171882553
              ],
              [
               -122.30805138413997,
               47.50309188729712
              ],
              [
               -122.30814121566839,
               47.50309188729712
              ],
              [
               -122.30814121566839,
               47.503002055768704
              ],
              [
               -122.3082310471968,
               47.503002055768704
              ],
              [
               -122.3082310471968,
               47.5029122242403
              ],
              [
               -122.30832087872521,
               47.5029122242403
              ],
              [
               -122.30841071025361,
               47.5029122242403
              ],
              [
               -122.30841071025361,
               47.502822392711884
              ],
              [
               -122.30850054178202,
               47.502822392711884
              ],
              [
               -122.30859037331044,
               47.502822392711884
              ],
              [
               -122.30859037331044,
               47.50273256118347
              ],
              [
               -122.30868020483885,
               47.50273256118347
              ],
              [
               -122.30868020483885,
               47.50264272965506
              ],
              [
               -122.30894969942409,
               47.50264272965506
              ],
              [
               -122.30894969942409,
               47.50273256118347
              ],
              [
               -122.30921919400933,
               47.50273256118347
              ],
              [
               -122.30921919400933,
               47.50264272965506
              ],
              [
               -122.30930902553774,
               47.50264272965506
              ],
              [
               -122.30939885706614,
               47.50264272965506
              ],
              [
               -122.30939885706614,
               47.502552898126645
              ],
              [
               -122.30948868859456,
               47.502552898126645
              ],
              [
               -122.30966835165138,
               47.502552898126645
              ],
              [
               -122.30966835165138,
               47.50246306659823
              ],
              [
               -122.3097581831798,
               47.50246306659823
              ],
              [
               -122.30984801470821,
               47.50246306659823
              ],
              [
               -122.30984801470821,
               47.502373235069825
              ],
              [
               -122.30993784623662,
               47.502373235069825
              ],
              [
               -122.31002767776504,
               47.502373235069825
              ],
              [
               -122.31002767776504,
               47.50228340354141
              ],
              [
               -122.31029717235027,
               47.50228340354141
              ],
              [
               -122.31029717235027,
               47.502373235069825
              ],
              [
               -122.31083616152074,
               47.502373235069825
              ],
              [
               -122.31083616152074,
               47.50228340354141
              ],
              [
               -122.31092599304915,
               47.50228340354141
              ],
              [
               -122.31101582457757,
               47.50228340354141
              ],
              [
               -122.31101582457757,
               47.502193572013
              ],
              [
               -122.31110565610598,
               47.502193572013
              ],
              [
               -122.31110565610598,
               47.502103740484586
              ],
              [
               -122.3111954876344,
               47.502103740484586
              ],
              [
               -122.3111954876344,
               47.50201390895617
              ],
              [
               -122.3112853191628,
               47.50201390895617
              ],
              [
               -122.3112853191628,
               47.501924077427766
              ],
              [
               -122.3113751506912,
               47.501924077427766
              ],
              [
               -122.3113751506912,
               47.50183424589935
              ],
              [
               -122.31146498221962,
               47.50183424589935
              ],
              [
               -122.31146498221962,
               47.50174441437094
              ],
              [
               -122.31155481374803,
               47.50174441437094
              ],
              [
               -122.31155481374803,
               47.50129525672888
              ],
              [
               -122.31146498221962,
               47.50129525672888
              ],
              [
               -122.31146498221962,
               47.50120542520047
              ],
              [
               -122.3113751506912,
               47.50120542520047
              ],
              [
               -122.3113751506912,
               47.50102576214364
              ],
              [
               -122.3112853191628,
               47.50102576214364
              ],
              [
               -122.3112853191628,
               47.500935930615235
              ],
              [
               -122.3111954876344,
               47.500935930615235
              ],
              [
               -122.3111954876344,
               47.50084609908682
              ],
              [
               -122.31110565610598,
               47.50084609908682
              ],
              [
               -122.31110565610598,
               47.50075626755841
              ],
              [
               -122.31101582457757,
               47.50075626755841
              ],
              [
               -122.31101582457757,
               47.500666436029995
              ],
              [
               -122.31110565610598,
               47.500666436029995
              ],
              [
               -122.31110565610598,
               47.50057660450158
              ],
              [
               -122.3111954876344,
               47.50057660450158
              ],
              [
               -122.3111954876344,
               47.50048677297317
              ],
              [
               -122.3112853191628,
               47.50048677297317
              ],
              [
               -122.3112853191628,
               47.50039694144476
              ],
              [
               -122.3113751506912,
               47.50039694144476
              ],
              [
               -122.3113751506912,
               47.50030710991635
              ],
              [
               -122.31146498221962,
               47.50030710991635
              ],
              [
               -122.31146498221962,
               47.500217278387936
              ],
              [
               -122.31155481374803,
               47.500217278387936
              ],
              [
               -122.31209380291851,
               47.500217278387936
              ],
              [
               -122.31209380291851,
               47.50012744685952
              ],
              [
               -122.31218363444692,
               47.50012744685952
              ],
              [
               -122.31218363444692,
               47.50003761533111
              ],
              [
               -122.31227346597534,
               47.50003761533111
              ],
              [
               -122.31227346597534,
               47.4999477838027
              ],
              [
               -122.31236329750374,
               47.4999477838027
              ],
              [
               -122.31236329750374,
               47.49985795227429
              ],
              [
               -122.31245312903215,
               47.49985795227429
              ],
              [
               -122.31245312903215,
               47.49976812074588
              ],
              [
               -122.31254296056056,
               47.49976812074588
              ],
              [
               -122.31254296056056,
               47.499678289217464
              ],
              [
               -122.31263279208898,
               47.499678289217464
              ],
              [
               -122.31263279208898,
               47.49958845768905
              ],
              [
               -122.31272262361739,
               47.49958845768905
              ],
              [
               -122.31272262361739,
               47.49949862616064
              ],
              [
               -122.3128124551458,
               47.49949862616064
              ],
              [
               -122.3128124551458,
               47.49940879463223
              ],
              [
               -122.31290228667422,
               47.49940879463223
              ],
              [
               -122.31290228667422,
               47.499229131575404
              ],
              [
               -122.31299211820263,
               47.499229131575404
              ],
              [
               -122.31299211820263,
               47.49913930004699
              ],
              [
               -122.31308194973104,
               47.49913930004699
              ],
              [
               -122.31308194973104,
               47.49904946851858
              ],
              [
               -122.31317178125946,
               47.49904946851858
              ],
              [
               -122.31317178125946,
               47.49895963699017
              ],
              [
               -122.31326161278787,
               47.49895963699017
              ],
              [
               -122.31326161278787,
               47.49886980546176
              ],
              [
               -122.31335144431627,
               47.49886980546176
              ],
              [
               -122.31335144431627,
               47.498779973933345
              ],
              [
               -122.31344127584468,
               47.498779973933345
              ],
              [
               -122.31344127584468,
               47.49869014240493
              ],
              [
               -122.3135311073731,
               47.49869014240493
              ],
              [
               -122.3135311073731,
               47.49860031087652
              ],
              [
               -122.31362093890151,
               47.49860031087652
              ],
              [
               -122.31362093890151,
               47.498510479348106
              ],
              [
               -122.31371077042992,
               47.498510479348106
              ],
              [
               -122.31371077042992,
               47.4984206478197
              ],
              [
               -122.31380060195833,
               47.4984206478197
              ],
              [
               -122.31380060195833,
               47.498330816291286
              ],
              [
               -122.31389043348675,
               47.498330816291286
              ],
              [
               -122.31389043348675,
               47.49824098476287
              ],
              [
               -122.31398026501516,
               47.49824098476287
              ],
              [
               -122.31398026501516,
               47.49815115323446
              ],
              [
               -122.31407009654357,
               47.49815115323446
              ],
              [
               -122.31407009654357,
               47.49806132170605
              ],
              [
               -122.31415992807199,
               47.49806132170605
              ],
              [
               -122.31415992807199,
               47.49797149017764
              ],
              [
               -122.3142497596004,
               47.49797149017764
              ],
              [
               -122.3142497596004,
               47.49788165864923
              ],
              [
               -122.3143395911288,
               47.49788165864923
              ],
              [
               -122.3143395911288,
               47.497791827120814
              ],
              [
               -122.31442942265721,
               47.497791827120814
              ],
              [
               -122.31442942265721,
               47.4977019955924
              ],
              [
               -122.31451925418563,
               47.4977019955924
              ],
              [
               -122.31451925418563,
               47.497522332535574
              ],
              [
               -122.31460908571404,
               47.497522332535574
              ],
              [
               -122.31460908571404,
               47.49743250100717
              ],
              [
               -122.31469891724245,
               47.49743250100717
              ],
              [
               -122.31469891724245,
               47.497342669478755
              ],
              [
               -122.31478874877087,
               47.497342669478755
              ],
              [
               -122.31478874877087,
               47.49725283795034
              ],
              [
               -122.31487858029928,
               47.49725283795034
              ],
              [
               -122.31487858029928,
               47.497073174893515
              ],
              [
               -122.31496841182769,
               47.497073174893515
              ],
              [
               -122.31496841182769,
               47.49716300642193
              ],
              [
               -122.3150582433561,
               47.49716300642193
              ],
              [
               -122.3150582433561,
               47.49725283795034
              ],
              [
               -122.31514807488452,
               47.49725283795034
              ],
              [
               -122.31514807488452,
               47.497342669478755
              ],
              [
               -122.31523790641293,
               47.497342669478755
              ],
              [
               -122.31523790641293,
               47.49743250100717
              ],
              [
               -122.31532773794133,
               47.49743250100717
              ],
              [
               -122.31532773794133,
               47.497522332535574
              ],
              [
               -122.31541756946974,
               47.497522332535574
              ],
              [
               -122.31541756946974,
               47.49761216406399
              ],
              [
               -122.31559723252657,
               47.49761216406399
              ],
              [
               -122.31559723252657,
               47.4977019955924
              ],
              [
               -122.31568706405498,
               47.4977019955924
              ],
              [
               -122.31568706405498,
               47.497791827120814
              ],
              [
               -122.3157768955834,
               47.497791827120814
              ],
              [
               -122.3157768955834,
               47.49788165864923
              ],
              [
               -122.31586672711181,
               47.49788165864923
              ],
              [
               -122.31586672711181,
               47.49797149017764
              ],
              [
               -122.31604639016864,
               47.49797149017764
              ],
              [
               -122.31604639016864,
               47.49824098476287
              ],
              [
               -122.31613622169705,
               47.49824098476287
              ],
              [
               -122.31613622169705,
               47.498330816291286
              ],
              [
               -122.31622605322546,
               47.498330816291286
              ],
              [
               -122.31622605322546,
               47.4984206478197
              ],
              [
               -122.31631588475386,
               47.4984206478197
              ],
              [
               -122.31631588475386,
               47.498510479348106
              ],
              [
               -122.31667521086752,
               47.498510479348106
              ],
              [
               -122.31667521086752,
               47.49860031087652
              ],
              [
               -122.31685487392434,
               47.49860031087652
              ],
              [
               -122.31685487392434,
               47.49869014240493
              ],
              [
               -122.31703453698117,
               47.49869014240493
              ],
              [
               -122.31703453698117,
               47.49931896310382
              ],
              [
               -122.31712436850958,
               47.49931896310382
              ],
              [
               -122.31712436850958,
               47.49949862616064
              ],
              [
               -122.317214200038,
               47.49949862616064
              ],
              [
               -122.317214200038,
               47.49958845768905
              ],
              [
               -122.3173040315664,
               47.49958845768905
              ],
              [
               -122.3173040315664,
               47.49985795227429
              ],
              [
               -122.31739386309481,
               47.49985795227429
              ],
              [
               -122.31739386309481,
               47.50084609908682
              ],
              [
               -122.3173040315664,
               47.50084609908682
              ],
              [
               -122.3173040315664,
               47.50129525672888
              ],
              [
               -122.317214200038,
               47.50129525672888
              ],
              [
               -122.317214200038,
               47.502193572013
              ],
              [
               -122.31712436850958,
               47.502193572013
              ],
              [
               -122.31712436850958,
               47.5029122242403
              ],
              [
               -122.317214200038,
               47.5029122242403
              ],
              [
               -122.317214200038,
               47.50345121341076
              ],
              [
               -122.31712436850958,
               47.50345121341076
              ],
              [
               -122.31712436850958,
               47.503720707996
              ],
              [
               -122.31703453698117,
               47.503720707996
              ],
              [
               -122.31703453698117,
               47.503810539524416
              ],
              [
               -122.31694470545276,
               47.503810539524416
              ],
              [
               -122.31694470545276,
               47.50452919175171
              ],
              [
               -122.31703453698117,
               47.50452919175171
              ],
              [
               -122.31703453698117,
               47.50461902328012
              ],
              [
               -122.31712436850958,
               47.50461902328012
              ],
              [
               -122.31712436850958,
               47.50497834939377
              ],
              [
               -122.317214200038,
               47.50497834939377
              ],
              [
               -122.317214200038,
               47.50515801245059
              ],
              [
               -122.3173040315664,
               47.50515801245059
              ],
              [
               -122.3173040315664,
               47.505697001621066
              ],
              [
               -122.317214200038,
               47.505697001621066
              ],
              [
               -122.317214200038,
               47.50587666467789
              ],
              [
               -122.31712436850958,
               47.50587666467789
              ],
              [
               -122.31712436850958,
               47.506146159263125
              ],
              [
               -122.31703453698117,
               47.506146159263125
              ],
              [
               -122.31703453698117,
               47.50632582231995
              ],
              [
               -122.31694470545276,
               47.50632582231995
              ],
              [
               -122.31694470545276,
               47.50686481149042
              ],
              [
               -122.31685487392434,
               47.50686481149042
              ],
              [
               -122.31685487392434,
               47.50740380066089
              ],
              [
               -122.31676504239593,
               47.50740380066089
              ],
              [
               -122.31667521086752,
               47.50740380066089
              ],
              [
               -122.31667521086752,
               47.5074936321893
              ],
              [
               -122.3165853793391,
               47.5074936321893
              ],
              [
               -122.3165853793391,
               47.507583463717715
              ],
              [
               -122.31649554781069,
               47.507583463717715
              ],
              [
               -122.31649554781069,
               47.509020768172306
              ],
              [
               -122.31640571628228,
               47.509020768172306
              ],
              [
               -122.31640571628228,
               47.50920043122913
              ],
              [
               -122.31631588475386,
               47.50920043122913
              ],
              [
               -122.31631588475386,
               47.509290262757546
              ],
              [
               -122.31622605322546,
               47.509290262757546
              ],
              [
               -122.31622605322546,
               47.50938009428595
              ],
              [
               -122.31613622169705,
               47.50938009428595
              ],
              [
               -122.31613622169705,
               47.509469925814365
              ],
              [
               -122.31604639016864,
               47.509469925814365
              ],
              [
               -122.31604639016864,
               47.50955975734278
              ],
              [
               -122.31595655864022,
               47.50955975734278
              ],
              [
               -122.31595655864022,
               47.50964958887119
              ],
              [
               -122.31586672711181,
               47.50964958887119
              ],
              [
               -122.31586672711181,
               47.509739420399605
              ],
              [
               -122.3157768955834,
               47.509739420399605
              ],
              [
               -122.3157768955834,
               47.50982925192802
              ],
              [
               -122.31568706405498,
               47.50982925192802
              ],
              [
               -122.31568706405498,
               47.509919083456424
              ],
              [
               -122.31559723252657,
               47.509919083456424
              ],
              [
               -122.31550740099816,
               47.509919083456424
              ],
              [
               -122.31550740099816,
               47.51000891498484
              ],
              [
               -122.31541756946974,
               47.51000891498484
              ],
              [
               -122.31541756946974,
               47.51009874651325
              ],
              [
               -122.31532773794133,
               47.51009874651325
              ],
              [
               -122.31532773794133,
               47.510188578041664
              ],
              [
               -122.31523790641293,
               47.510188578041664
              ],
              [
               -122.31523790641293,
               47.51027840957008
              ],
              [
               -122.31514807488452,
               47.51027840957008
              ],
              [
               -122.31514807488452,
               47.51036824109848
              ],
              [
               -122.31487858029928,
               47.51036824109848
              ],
              [
               -122.31478874877087,
               47.51036824109848
              ],
              [
               -122.31478874877087,
               47.510458072626896
              ],
              [
               -122.31469891724245,
               47.510458072626896
              ],
              [
               -122.31460908571404,
               47.510458072626896
              ],
              [
               -122.31460908571404,
               47.51054790415531
              ],
              [
               -122.31451925418563,
               47.51054790415531
              ],
              [
               -122.31451925418563,
               47.51063773568372
              ],
              [
               -122.31442942265721,
               47.51063773568372
              ],
              [
               -122.31442942265721,
               47.510727567212136
              ],
              [
               -122.3143395911288,
               47.510727567212136
              ],
              [
               -122.3143395911288,
               47.51081739874055
              ],
              [
               -122.3142497596004,
               47.51081739874055
              ],
              [
               -122.3142497596004,
               47.510907230268955
              ],
              [
               -122.31415992807199,
               47.510907230268955
              ],
              [
               -122.31415992807199,
               47.51099706179737
              ],
              [
               -122.31407009654357,
               47.51099706179737
              ],
              [
               -122.31407009654357,
               47.51108689332578
              ],
              [
               -122.31389043348675,
               47.51108689332578
              ],
              [
               -122.31380060195833,
               47.51108689332578
              ],
              [
               -122.31380060195833,
               47.511176724854195
              ],
              [
               -122.31371077042992,
               47.511176724854195
              ],
              [
               -122.31371077042992,
               47.51126655638261
              ],
              [
               -122.31362093890151,
               47.51126655638261
              ],
              [
               -122.31362093890151,
               47.511356387911015
              ],
              [
               -122.3135311073731,
               47.511356387911015
              ],
              [
               -122.3135311073731,
               47.51144621943943
              ],
              [
               -122.31308194973104,
               47.51144621943943
              ],
              [
               -122.31299211820263,
               47.51144621943943
              ],
              [
               -122.31299211820263,
               47.51153605096784
              ],
              [
               -122.31290228667422,
               47.51153605096784
              ],
              [
               -122.31290228667422,
               47.511625882496254
              ],
              [
               -122.3128124551458,
               47.511625882496254
              ],
              [
               -122.3128124551458,
               47.51171571402467
              ],
              [
               -122.31272262361739,
               47.51171571402467
              ],
              [
               -122.31272262361739,
               47.51189537708149
              ],
              [
               -122.31263279208898,
               47.51189537708149
              ],
              [
               -122.31263279208898,
               47.5119852086099
              ],
              [
               -122.31254296056056,
               47.5119852086099
              ],
              [
               -122.31254296056056,
               47.51207504013831
              ],
              [
               -122.31245312903215,
               47.51207504013831
              ],
              [
               -122.31245312903215,
               47.51216487166673
              ],
              [
               -122.31236329750374,
               47.51216487166673
              ],
              [
               -122.31236329750374,
               47.512344534723546
              ],
              [
               -122.31227346597534,
               47.512344534723546
              ],
              [
               -122.31227346597534,
               47.51243436625196
              ],
              [
               -122.31218363444692,
               47.51243436625196
              ],
              [
               -122.31218363444692,
               47.51252419778037
              ],
              [
               -122.31209380291851,
               47.51252419778037
              ],
              [
               -122.31209380291851,
               47.512614029308786
              ],
              [
               -122.3120039713901,
               47.512614029308786
              ],
              [
               -122.3120039713901,
               47.5127038608372
              ],
              [
               -122.31191413986168,
               47.5127038608372
              ],
              [
               -122.31191413986168,
               47.51279369236561
              ],
              [
               -122.31182430833327,
               47.51279369236561
              ],
              [
               -122.31182430833327,
               47.51288352389402
              ],
              [
               -122.31173447680486,
               47.51288352389402
              ],
              [
               -122.31173447680486,
               47.51297335542243
              ],
              [
               -122.31164464527644,
               47.51297335542243
              ],
              [
               -122.31164464527644,
               47.513063186950845
              ],
              [
               -122.31155481374803,
               47.513063186950845
              ],
              [
               -122.31155481374803,
               47.51315301847926
              ],
              [
               -122.31146498221962,
               47.51315301847926
              ],
              [
               -122.31146498221962,
               47.51324285000767
              ],
              [
               -122.3113751506912,
               47.51324285000767
              ],
              [
               -122.3113751506912,
               47.51333268153608
              ],
              [
               -122.3112853191628,
               47.51333268153608
              ],
              [
               -122.3112853191628,
               47.51342251306449
              ],
              [
               -122.3111954876344,
               47.51342251306449
              ],
              [
               -122.31110565610598,
               47.51342251306449
              ],
              [
               -122.31110565610598,
               47.513512344592904
              ],
              [
               -122.31092599304915,
               47.513512344592904
              ],
              [
               -122.31092599304915,
               47.51342251306449
              ],
              [
               -122.31038700387867,
               47.51342251306449
              ],
              [
               -122.31038700387867,
               47.513512344592904
              ]
             ]
            ],
            [
             [
              [
               -122.31047683540709,
               47.51360217612132
              ],
              [
               -122.31038700387867,
               47.51360217612132
              ],
              [
               -122.31038700387867,
               47.513512344592904
              ],
              [
               -122.31047683540709,
               47.513512344592904
              ],
              [
               -122.31047683540709,
               47.51360217612132
              ]
             ]
            ],
            [
             [
              [
               -122.31047683540709,
               47.51360217612132
              ],
              [
               -122.3105666669355,
               47.51360217612132
              ],
              [
               -122.31101582457757,
               47.51360217612132
              ],
              [
               -122.31101582457757,
               47.51369200764973
              ],
              [
               -122.3111954876344,
               47.51369200764973
              ],
              [
               -122.3111954876344,
               47.51387167070655
              ],
              [
               -122.31110565610598,
               47.51387167070655
              ],
              [
               -122.31110565610598,
               47.51396150223496
              ],
              [
               -122.31083616152074,
               47.51396150223496
              ],
              [
               -122.31083616152074,
               47.51387167070655
              ],
              [
               -122.31065649846391,
               47.51387167070655
              ],
              [
               -122.31065649846391,
               47.513781839178144
              ],
              [
               -122.3105666669355,
               47.513781839178144
              ],
              [
               -122.3105666669355,
               47.51369200764973
              ],
              [
               -122.31047683540709,
               47.51369200764973
              ],
              [
               -122.31047683540709,
               47.51360217612132
              ]
             ]
            ]
           ],
           "type": "MultiPolygon"
          },
          "id": "1",
          "properties": {},
          "type": "Feature"
         }
        ],
        "type": "FeatureCollection"
       },
       "name": "watershed"
      }
     },
     "2ca80b2646dd46a9adae5f37185b8ee8": {
      "model_module": "@jupyter-widgets/controls",
      "model_module_version": "1.5.0",
      "model_name": "DescriptionStyleModel",
      "state": {
       "description_width": ""
      }
     },
     "2d403d8790c140c5b697d801a4e8f5f2": {
      "model_module": "jupyter-leaflet",
      "model_module_version": "^0.11.4",
      "model_name": "LeafletGeoJSONModel",
      "state": {
       "_model_module_version": "^0.11.4",
       "_view_count": null,
       "_view_module_version": "^0.11.4",
       "data": {
        "features": [
         {
          "geometry": {
           "coordinates": [
            -122.01567539605597,
            47.41393104774702
           ],
           "type": "Point"
          },
          "id": "0",
          "properties": {
           "AboveNaturalBarrier": null,
           "ApprovedBy": null,
           "ApprovedDate": null,
           "AssetID": 4140,
           "AssignedTo": null,
           "BarrierType": "40",
           "CurrentStatus": "Active",
           "DBAssetID": "FPS-4140",
           "DSPermission": null,
           "DataStage": "Process",
           "FieldVisitDate": "2019-05-21T06:13:06",
           "FieldVisitedBy": "ZM, KK, AW",
           "FishPassageBarrierStatusCode": "Unknown",
           "FishPassageFeatureTypeCode": 1,
           "FishPresent": "No",
           "FishUse": 10,
           "FishUseCriteriaCode": 12,
           "FloodingImpactsToRoad": "No",
           "GlobalID": "{60289FF6-4C2E-4BC5-BF92-A02721093A2A}",
           "InfrastructureDBAssetID": null,
           "InspectedBy": "ZM, KK, AW",
           "InspectedDate": "2019-05-21T06:13:06",
           "InspectionStatus": "Level A and Level B Complete",
           "InventoryArea": 1,
           "LastEditBy": "wongand",
           "LastEditDate": "2019-08-09T09:46:04",
           "LoadDate": "2019-05-21T06:13:06",
           "LoadedBy": "ZM,KK",
           "Method": null,
           "NoAssessmentReason": null,
           "Notes": "DSC and DS xsection data collected DS of culvert directly north of this site",
           "OBJECTID": 1,
           "OfficeReviewBy": "Kat",
           "OwnerEntity": "Roads",
           "PercentFishPassability": "99",
           "PollutionIndicator": "Not Applicable",
           "PotentialSpecies": null,
           "Priority": null,
           "QCFlag": null,
           "Revisit": null,
           "USPermission": null,
           "WDFWID": null
          },
          "type": "Feature"
         },
         {
          "geometry": {
           "coordinates": [
            -121.97920890525545,
            47.35450841586498
           ],
           "type": "Point"
          },
          "id": "1",
          "properties": {
           "AboveNaturalBarrier": "Wetland-y area downstream is an ephemeral swale.",
           "ApprovedBy": null,
           "ApprovedDate": null,
           "AssetID": 1764,
           "AssignedTo": null,
           "BarrierType": "40",
           "CurrentStatus": "Active",
           "DBAssetID": "FPS-1764",
           "DSPermission": "Acquire",
           "DataStage": "Process",
           "FieldVisitDate": "2019-03-05T00:00:00",
           "FieldVisitedBy": "EL, JB, AW, BR",
           "FishPassageBarrierStatusCode": "99",
           "FishPassageFeatureTypeCode": 1,
           "FishPresent": "No",
           "FishUse": 20,
           "FishUseCriteriaCode": 12,
           "FloodingImpactsToRoad": "No",
           "GlobalID": "{163BBAB9-DCE3-4829-9F91-A35136B9FFB1}",
           "InfrastructureDBAssetID": null,
           "InspectedBy": "EL, JB, AW, BR",
           "InspectedDate": "2019-03-05T00:00:00",
           "InspectionStatus": "Level A and Level B Complete",
           "InventoryArea": 2,
           "LastEditBy": "wongand",
           "LastEditDate": "2019-09-11T14:08:04",
           "LoadDate": "2019-04-01T12:00:00",
           "LoadedBy": "randleb",
           "Method": null,
           "NoAssessmentReason": null,
           "Notes": "Training and refining of protocols. Area downstream is an ephemeral swale with no defined channel.",
           "OBJECTID": 2,
           "OfficeReviewBy": "Andrea",
           "OwnerEntity": "Roads",
           "PercentFishPassability": "99",
           "PollutionIndicator": "Not Applicable",
           "PotentialSpecies": null,
           "Priority": null,
           "QCFlag": null,
           "Revisit": null,
           "USPermission": "Acquire",
           "WDFWID": "1320142"
          },
          "type": "Feature"
         },
         {
          "geometry": {
           "coordinates": [
            -121.9866690900153,
            47.42231036418716
           ],
           "type": "Point"
          },
          "id": "2",
          "properties": {
           "AboveNaturalBarrier": null,
           "ApprovedBy": null,
           "ApprovedDate": null,
           "AssetID": 244,
           "AssignedTo": null,
           "BarrierType": "40",
           "CurrentStatus": "Active",
           "DBAssetID": "FPS-244",
           "DSPermission": "Granted",
           "DataStage": "Process",
           "FieldVisitDate": "2019-07-01T00:00:00",
           "FieldVisitedBy": "KK, LL, AW, ZM",
           "FishPassageBarrierStatusCode": "99",
           "FishPassageFeatureTypeCode": 1,
           "FishPresent": "No",
           "FishUse": 10,
           "FishUseCriteriaCode": 12,
           "FloodingImpactsToRoad": "No",
           "GlobalID": "{9F33D8BC-BE05-4406-9E90-E96685292FA3}",
           "InfrastructureDBAssetID": null,
           "InspectedBy": "KK, LL, AW, ZM",
           "InspectedDate": "2019-07-01T00:00:00",
           "InspectionStatus": "Level A and Level B Complete",
           "InventoryArea": 1,
           "LastEditBy": "wongand",
           "LastEditDate": "2019-08-09T09:45:14",
           "LoadDate": "2019-04-01T12:00:00",
           "LoadedBy": "randleb",
           "Method": null,
           "NoAssessmentReason": null,
           "Notes": "stickleback fry present ds",
           "OBJECTID": 3,
           "OfficeReviewBy": "Kat",
           "OwnerEntity": "Roads",
           "PercentFishPassability": "99",
           "PollutionIndicator": "Not Applicable",
           "PotentialSpecies": null,
           "Priority": null,
           "QCFlag": null,
           "Revisit": null,
           "USPermission": "Acquire",
           "WDFWID": "982382"
          },
          "type": "Feature"
         },
         {
          "geometry": {
           "coordinates": [
            -121.99115488786762,
            47.408216890930134
           ],
           "type": "Point"
          },
          "id": "3",
          "properties": {
           "AboveNaturalBarrier": null,
           "ApprovedBy": null,
           "ApprovedDate": null,
           "AssetID": 2061,
           "AssignedTo": null,
           "BarrierType": "40",
           "CurrentStatus": "Active",
           "DBAssetID": "FPS-2061",
           "DSPermission": "Acquire",
           "DataStage": "Process",
           "FieldVisitDate": "2019-06-24T17:45:24",
           "FieldVisitedBy": "KK, RC",
           "FishPassageBarrierStatusCode": "99",
           "FishPassageFeatureTypeCode": 1,
           "FishPresent": "No",
           "FishUse": 10,
           "FishUseCriteriaCode": 12,
           "FloodingImpactsToRoad": "No",
           "GlobalID": "{654C3DF6-34A9-4796-AD48-53BC9B2B8148}",
           "InfrastructureDBAssetID": null,
           "InspectedBy": "KK, RC",
           "InspectedDate": "2019-06-24T17:45:24",
           "InspectionStatus": "Level A and Level B Complete",
           "InventoryArea": 1,
           "LastEditBy": "wongand",
           "LastEditDate": "2019-08-09T09:45:43",
           "LoadDate": "2019-04-01T12:00:00",
           "LoadedBy": "randleb",
           "Method": null,
           "NoAssessmentReason": null,
           "Notes": "lamprey downstream",
           "OBJECTID": 4,
           "OfficeReviewBy": "Rachel",
           "OwnerEntity": "Roads",
           "PercentFishPassability": "99",
           "PollutionIndicator": "Floatables",
           "PotentialSpecies": null,
           "Priority": null,
           "QCFlag": null,
           "Revisit": null,
           "USPermission": "Acquire",
           "WDFWID": null
          },
          "type": "Feature"
         },
         {
          "geometry": {
           "coordinates": [
            -122.28120441535833,
            47.2684986732346
           ],
           "type": "Point"
          },
          "id": "4",
          "properties": {
           "AboveNaturalBarrier": null,
           "ApprovedBy": null,
           "ApprovedDate": null,
           "AssetID": 1429,
           "AssignedTo": null,
           "BarrierType": "40",
           "CurrentStatus": "Active",
           "DBAssetID": "FPS-1429",
           "DSPermission": "Acquire",
           "DataStage": "Process",
           "FieldVisitDate": "2019-07-02T17:21:16",
           "FieldVisitedBy": "ZM, KK",
           "FishPassageBarrierStatusCode": "Unknown",
           "FishPassageFeatureTypeCode": 1,
           "FishPresent": "No",
           "FishUse": 10,
           "FishUseCriteriaCode": 12,
           "FloodingImpactsToRoad": "Yes",
           "GlobalID": "{D8682B39-FC85-432F-8AA7-66639E55CB73}",
           "InfrastructureDBAssetID": null,
           "InspectedBy": "ZM, KK",
           "InspectedDate": "2019-07-02T17:21:16",
           "InspectionStatus": "Level A and Level B Complete",
           "InventoryArea": 4,
           "LastEditBy": "wongand",
           "LastEditDate": "2019-08-05T10:16:18",
           "LoadDate": "2019-04-01T12:00:00",
           "LoadedBy": "randleb",
           "Method": null,
           "NoAssessmentReason": null,
           "Notes": "No road associated with culvert",
           "OBJECTID": 5,
           "OfficeReviewBy": "Kat",
           "OwnerEntity": "Roads",
           "PercentFishPassability": "99",
           "PollutionIndicator": "Floatables",
           "PotentialSpecies": null,
           "Priority": null,
           "QCFlag": null,
           "Revisit": null,
           "USPermission": "Acquire",
           "WDFWID": null
          },
          "type": "Feature"
         },
         {
          "geometry": {
           "coordinates": [
            -122.04212194742547,
            47.40203260738753
           ],
           "type": "Point"
          },
          "id": "5",
          "properties": {
           "AboveNaturalBarrier": null,
           "ApprovedBy": null,
           "ApprovedDate": null,
           "AssetID": 2611,
           "AssignedTo": null,
           "BarrierType": "40",
           "CurrentStatus": "Active",
           "DBAssetID": "FPS-2611",
           "DSPermission": null,
           "DataStage": "Process",
           "FieldVisitDate": "2019-05-15T17:32:07",
           "FieldVisitedBy": "KK, AW, ZM",
           "FishPassageBarrierStatusCode": "Unknown",
           "FishPassageFeatureTypeCode": 1,
           "FishPresent": "No",
           "FishUse": 10,
           "FishUseCriteriaCode": 12,
           "FloodingImpactsToRoad": "No",
           "GlobalID": "{66D91C52-92E9-40AC-9289-216E281D8F58}",
           "InfrastructureDBAssetID": null,
           "InspectedBy": "KK, AW, ZM",
           "InspectedDate": "2019-05-15T17:32:07",
           "InspectionStatus": "Level A and Level B Complete",
           "InventoryArea": 1,
           "LastEditBy": "wongand",
           "LastEditDate": "2019-08-09T09:46:00",
           "LoadDate": "2019-04-01T12:00:00",
           "LoadedBy": "randleb",
           "Method": null,
           "NoAssessmentReason": null,
           "Notes": "",
           "OBJECTID": 6,
           "OfficeReviewBy": "Kat",
           "OwnerEntity": "Roads",
           "PercentFishPassability": "99",
           "PollutionIndicator": "Not Applicable",
           "PotentialSpecies": null,
           "Priority": null,
           "QCFlag": null,
           "Revisit": null,
           "USPermission": null,
           "WDFWID": null
          },
          "type": "Feature"
         },
         {
          "geometry": {
           "coordinates": [
            -121.9826545903109,
            47.42213443197297
           ],
           "type": "Point"
          },
          "id": "6",
          "properties": {
           "AboveNaturalBarrier": null,
           "ApprovedBy": null,
           "ApprovedDate": null,
           "AssetID": 1449,
           "AssignedTo": null,
           "BarrierType": "40",
           "CurrentStatus": "Active",
           "DBAssetID": "FPS-1449",
           "DSPermission": "Acquire",
           "DataStage": "Process",
           "FieldVisitDate": "2019-04-22T17:40:38",
           "FieldVisitedBy": "KK, AW, LL, ZM",
           "FishPassageBarrierStatusCode": "99",
           "FishPassageFeatureTypeCode": 1,
           "FishPresent": "No",
           "FishUse": 10,
           "FishUseCriteriaCode": 12,
           "FloodingImpactsToRoad": "No",
           "GlobalID": "{85A5CEF2-3960-450D-959A-B00A7DA72678}",
           "InfrastructureDBAssetID": null,
           "InspectedBy": "KK, AW, LL, ZM",
           "InspectedDate": "2019-04-22T17:40:38",
           "InspectionStatus": "Level A and Level B Complete",
           "InventoryArea": 1,
           "LastEditBy": "zmoore",
           "LastEditDate": "2019-09-10T16:16:50",
           "LoadDate": "2019-04-01T12:00:00",
           "LoadedBy": "randleb",
           "Method": null,
           "NoAssessmentReason": null,
           "Notes": "Possibly need to redo?",
           "OBJECTID": 7,
           "OfficeReviewBy": "Zach",
           "OwnerEntity": "Roads",
           "PercentFishPassability": "99",
           "PollutionIndicator": "Not Applicable",
           "PotentialSpecies": null,
           "Priority": null,
           "QCFlag": null,
           "Revisit": null,
           "USPermission": "Acquire",
           "WDFWID": null
          },
          "type": "Feature"
         },
         {
          "geometry": {
           "coordinates": [
            -121.98358438455725,
            47.422145854467594
           ],
           "type": "Point"
          },
          "id": "7",
          "properties": {
           "AboveNaturalBarrier": null,
           "ApprovedBy": null,
           "ApprovedDate": null,
           "AssetID": 1450,
           "AssignedTo": null,
           "BarrierType": "40",
           "CurrentStatus": "Active",
           "DBAssetID": "FPS-1450",
           "DSPermission": "Acquire",
           "DataStage": "Process",
           "FieldVisitDate": "2019-04-18T21:39:46",
           "FieldVisitedBy": "LL, AW, KK, ZM",
           "FishPassageBarrierStatusCode": "99",
           "FishPassageFeatureTypeCode": 1,
           "FishPresent": "Yes",
           "FishUse": 10,
           "FishUseCriteriaCode": 12,
           "FloodingImpactsToRoad": "No",
           "GlobalID": "{E63E1EAD-F5E7-4B45-8F66-B1D239806031}",
           "InfrastructureDBAssetID": null,
           "InspectedBy": "",
           "InspectedDate": "2019-04-18T21:39:46",
           "InspectionStatus": "Level A and Level B Complete",
           "InventoryArea": 1,
           "LastEditBy": "wongand",
           "LastEditDate": "2019-08-09T09:45:26",
           "LoadDate": "2019-04-01T12:00:00",
           "LoadedBy": "randleb",
           "Method": null,
           "NoAssessmentReason": null,
           "Notes": "copy level B from US site (FPS-1449)",
           "OBJECTID": 8,
           "OfficeReviewBy": null,
           "OwnerEntity": "Roads",
           "PercentFishPassability": "99",
           "PollutionIndicator": "Floatables",
           "PotentialSpecies": null,
           "Priority": null,
           "QCFlag": null,
           "Revisit": null,
           "USPermission": "Acquire",
           "WDFWID": "982383"
          },
          "type": "Feature"
         },
         {
          "geometry": {
           "coordinates": [
            -122.49956118589655,
            47.466289609
           ],
           "type": "Point"
          },
          "id": "8",
          "properties": {
           "AboveNaturalBarrier": null,
           "ApprovedBy": null,
           "ApprovedDate": null,
           "AssetID": 9228,
           "AssignedTo": null,
           "BarrierType": "40",
           "CurrentStatus": "Active",
           "DBAssetID": "FPS-9228",
           "DSPermission": null,
           "DataStage": "Process",
           "FieldVisitDate": "2019-08-01T18:44:14",
           "FieldVisitedBy": "KK, ZM, AW",
           "FishPassageBarrierStatusCode": "99",
           "FishPassageFeatureTypeCode": 1,
           "FishPresent": "No",
           "FishUse": 10,
           "FishUseCriteriaCode": 12,
           "FloodingImpactsToRoad": "No",
           "GlobalID": "{A6C24043-0470-4087-96F7-3A2BA5202E7B}",
           "InfrastructureDBAssetID": null,
           "InspectedBy": "KK, ZM, AW",
           "InspectedDate": "2019-08-01T18:44:14",
           "InspectionStatus": "Level A and Level B Complete",
           "InventoryArea": 7,
           "LastEditBy": "wongand",
           "LastEditDate": "2019-08-09T09:46:26",
           "LoadDate": "2019-07-25T21:56:51",
           "LoadedBy": "RC",
           "Method": null,
           "NoAssessmentReason": null,
           "Notes": null,
           "OBJECTID": 9,
           "OfficeReviewBy": "Zach",
           "OwnerEntity": "Roads",
           "PercentFishPassability": "99",
           "PollutionIndicator": "Not Applicable",
           "PotentialSpecies": null,
           "Priority": null,
           "QCFlag": null,
           "Revisit": null,
           "USPermission": null,
           "WDFWID": null
          },
          "type": "Feature"
         },
         {
          "geometry": {
           "coordinates": [
            -122.48170874809104,
            47.42426810713975
           ],
           "type": "Point"
          },
          "id": "9",
          "properties": {
           "AboveNaturalBarrier": null,
           "ApprovedBy": null,
           "ApprovedDate": null,
           "AssetID": 108,
           "AssignedTo": null,
           "BarrierType": "40",
           "CurrentStatus": "Active",
           "DBAssetID": "FPS-108",
           "DSPermission": "Acquire",
           "DataStage": "Process",
           "FieldVisitDate": "2019-08-01T21:13:14",
           "FieldVisitedBy": "LL, RC",
           "FishPassageBarrierStatusCode": "Unknown",
           "FishPassageFeatureTypeCode": 1,
           "FishPresent": "Yes",
           "FishUse": 10,
           "FishUseCriteriaCode": 11,
           "FloodingImpactsToRoad": "No",
           "GlobalID": "{3B1B323B-56E1-493E-9C52-E0B693D6A909}",
           "InfrastructureDBAssetID": null,
           "InspectedBy": "LL, RC ",
           "InspectedDate": "2019-08-01T21:13:14",
           "InspectionStatus": "Level A and Level B Complete",
           "InventoryArea": 7,
           "LastEditBy": "wongand",
           "LastEditDate": "2019-08-09T09:45:36",
           "LoadDate": "2019-04-01T12:00:00",
           "LoadedBy": "randleb",
           "Method": null,
           "NoAssessmentReason": null,
           "Notes": "Side RB overflow pipe, tiny ds ditch pipe LB, stream incised, undercut, pipe enters inside near inlet",
           "OBJECTID": 10,
           "OfficeReviewBy": "Liora",
           "OwnerEntity": "Roads",
           "PercentFishPassability": "99",
           "PollutionIndicator": "Not Applicable",
           "PotentialSpecies": null,
           "Priority": null,
           "QCFlag": null,
           "Revisit": null,
           "USPermission": "Acquire",
           "WDFWID": null
          },
          "type": "Feature"
         },
         {
          "geometry": {
           "coordinates": [
            -122.31042579366114,
            47.51324591666263
           ],
           "type": "Point"
          },
          "id": "10",
          "properties": {
           "AboveNaturalBarrier": null,
           "ApprovedBy": null,
           "ApprovedDate": null,
           "AssetID": 2425,
           "AssignedTo": null,
           "BarrierType": "40",
           "CurrentStatus": "Active",
           "DBAssetID": "FPS-2425",
           "DSPermission": "Granted",
           "DataStage": "Field Review",
           "FieldVisitDate": "2019-03-05T17:50:57",
           "FieldVisitedBy": "AW, EL, JB, BR",
           "FishPassageBarrierStatusCode": "99",
           "FishPassageFeatureTypeCode": 1,
           "FishPresent": "No",
           "FishUse": 10,
           "FishUseCriteriaCode": 12,
           "FloodingImpactsToRoad": "No",
           "GlobalID": "{A041F288-6CCF-4093-8B5F-154655121373}",
           "InfrastructureDBAssetID": null,
           "InspectedBy": null,
           "InspectedDate": "2019-03-05T17:50:57",
           "InspectionStatus": "Level A and Level B Complete",
           "InventoryArea": 6,
           "LastEditBy": "wongand",
           "LastEditDate": "2019-09-11T14:06:35",
           "LoadDate": "2019-04-01T12:00:00",
           "LoadedBy": "randleb",
           "Method": null,
           "NoAssessmentReason": null,
           "Notes": "Missing photos and road fill dimensions.",
           "OBJECTID": 11,
           "OfficeReviewBy": "Brett",
           "OwnerEntity": "Roads",
           "PercentFishPassability": "99",
           "PollutionIndicator": "Not Applicable",
           "PotentialSpecies": null,
           "Priority": null,
           "QCFlag": null,
           "Revisit": null,
           "USPermission": "Granted",
           "WDFWID": null
          },
          "type": "Feature"
         },
         {
          "geometry": {
           "coordinates": [
            -122.01387303722932,
            47.36526984679018
           ],
           "type": "Point"
          },
          "id": "11",
          "properties": {
           "AboveNaturalBarrier": null,
           "ApprovedBy": null,
           "ApprovedDate": null,
           "AssetID": 2798,
           "AssignedTo": null,
           "BarrierType": "40",
           "CurrentStatus": "Active",
           "DBAssetID": "FPS-2798",
           "DSPermission": "Acquire",
           "DataStage": "Process",
           "FieldVisitDate": "2019-06-20T21:50:50",
           "FieldVisitedBy": "RC, KK, LL",
           "FishPassageBarrierStatusCode": "99",
           "FishPassageFeatureTypeCode": 1,
           "FishPresent": "No",
           "FishUse": 10,
           "FishUseCriteriaCode": 13,
           "FloodingImpactsToRoad": "No",
           "GlobalID": "{DD4B0C2B-64AE-4779-8332-5E50E88B7A66}",
           "InfrastructureDBAssetID": null,
           "InspectedBy": "RC, KK, LL",
           "InspectedDate": "2019-06-20T21:50:50",
           "InspectionStatus": "Level A and Level B Complete",
           "InventoryArea": 2,
           "LastEditBy": "wongand",
           "LastEditDate": "2019-08-09T09:45:30",
           "LoadDate": "2019-04-01T12:00:00",
           "LoadedBy": "randleb",
           "Method": null,
           "NoAssessmentReason": null,
           "Notes": "City of Kent doing box/arch culvert replacement for fish passage, watershed upstream. Salmonids seen at visit and reported spawning last season. Rust holes in sides of al culverts, one culvert is squashed due to deterioration",
           "OBJECTID": 12,
           "OfficeReviewBy": "Kat",
           "OwnerEntity": "TBD",
           "PercentFishPassability": "99",
           "PollutionIndicator": "Not Applicable",
           "PotentialSpecies": " Sockeye, Chinook, Coho, Steelhead, Resident Trout",
           "Priority": "High",
           "QCFlag": null,
           "Revisit": null,
           "USPermission": "Acquire",
           "WDFWID": "1320137"
          },
          "type": "Feature"
         },
         {
          "geometry": {
           "coordinates": [
            -122.30482437172117,
            47.282833807501646
           ],
           "type": "Point"
          },
          "id": "12",
          "properties": {
           "AboveNaturalBarrier": "Inspected within last 5 years",
           "ApprovedBy": null,
           "ApprovedDate": null,
           "AssetID": 1994,
           "AssignedTo": null,
           "BarrierType": "40",
           "CurrentStatus": "Active",
           "DBAssetID": "FPS-1994",
           "DSPermission": null,
           "DataStage": "Process",
           "FieldVisitDate": "2019-07-17T21:44:07",
           "FieldVisitedBy": "KK, LL",
           "FishPassageBarrierStatusCode": "99",
           "FishPassageFeatureTypeCode": 1,
           "FishPresent": "No",
           "FishUse": 10,
           "FishUseCriteriaCode": 12,
           "FloodingImpactsToRoad": "No",
           "GlobalID": "{2A26CE02-13F6-4417-936E-52146982295C}",
           "InfrastructureDBAssetID": null,
           "InspectedBy": "KK, LL",
           "InspectedDate": "2019-07-17T21:44:07",
           "InspectionStatus": "Level A and Level B Complete",
           "InventoryArea": 4,
           "LastEditBy": "llewellynl",
           "LastEditDate": "2019-07-18T09:38:28",
           "LoadDate": "2019-04-01T12:00:00",
           "LoadedBy": "randleb",
           "Method": null,
           "NoAssessmentReason": null,
           "Notes": "Levell B collected, needs to be run",
           "OBJECTID": 13,
           "OfficeReviewBy": "Liora",
           "OwnerEntity": "FMD",
           "PercentFishPassability": "99",
           "PollutionIndicator": "Not Applicable",
           "PotentialSpecies": " Chum, Coho, Steelhead, SR Cutthroat, Resident Trout",
           "Priority": null,
           "QCFlag": null,
           "Revisit": null,
           "USPermission": null,
           "WDFWID": "932922"
          },
          "type": "Feature"
         },
         {
          "geometry": {
           "coordinates": [
            -122.00931916409412,
            47.34751349426702
           ],
           "type": "Point"
          },
          "id": "13",
          "properties": {
           "AboveNaturalBarrier": null,
           "ApprovedBy": null,
           "ApprovedDate": null,
           "AssetID": 1234,
           "AssignedTo": null,
           "BarrierType": "40",
           "CurrentStatus": "Active",
           "DBAssetID": "FPS-1234",
           "DSPermission": "Granted",
           "DataStage": "Process",
           "FieldVisitDate": "2019-05-15T19:43:43",
           "FieldVisitedBy": "LL, ZM, AW",
           "FishPassageBarrierStatusCode": "99",
           "FishPassageFeatureTypeCode": 1,
           "FishPresent": "Yes",
           "FishUse": 10,
           "FishUseCriteriaCode": 11,
           "FloodingImpactsToRoad": "No",
           "GlobalID": "{02E88174-2B54-4264-9199-D1221715E34A}",
           "InfrastructureDBAssetID": null,
           "InspectedBy": "LL, ZM, AW",
           "InspectedDate": "2019-05-15T19:43:43",
           "InspectionStatus": "Level A and Level B Complete",
           "InventoryArea": 2,
           "LastEditBy": "wongand",
           "LastEditDate": "2019-08-09T09:45:29",
           "LoadDate": "2019-04-01T12:00:00",
           "LoadedBy": "randleb",
           "Method": null,
           "NoAssessmentReason": null,
           "Notes": "kk, RC with x data",
           "OBJECTID": 14,
           "OfficeReviewBy": "Liora",
           "OwnerEntity": "Parks",
           "PercentFishPassability": "99",
           "PollutionIndicator": "Not Applicable",
           "PotentialSpecies": " Coho, Steelhead, SR Cutthroat, Resident Trout, lamprey",
           "Priority": null,
           "QCFlag": null,
           "Revisit": null,
           "USPermission": "Granted",
           "WDFWID": "930441"
          },
          "type": "Feature"
         },
         {
          "geometry": {
           "coordinates": [
            -122.12472229105111,
            47.663132961891215
           ],
           "type": "Point"
          },
          "id": "14",
          "properties": {
           "AboveNaturalBarrier": null,
           "ApprovedBy": null,
           "ApprovedDate": null,
           "AssetID": 2719,
           "AssignedTo": null,
           "BarrierType": "40",
           "CurrentStatus": "Active",
           "DBAssetID": "FPS-2719",
           "DSPermission": "Granted",
           "DataStage": "QC",
           "FieldVisitDate": "2019-05-14T20:16:27",
           "FieldVisitedBy": "KK, ZM, RC",
           "FishPassageBarrierStatusCode": "99",
           "FishPassageFeatureTypeCode": 1,
           "FishPresent": "No",
           "FishUse": 10,
           "FishUseCriteriaCode": 12,
           "FloodingImpactsToRoad": "No",
           "GlobalID": "{C183464E-85CF-49C9-9C98-95ABDFE42275}",
           "InfrastructureDBAssetID": null,
           "InspectedBy": "KK, ZM, RC",
           "InspectedDate": "2019-05-14T20:16:27",
           "InspectionStatus": "Level A Complete Level B Needed",
           "InventoryArea": 12,
           "LastEditBy": "kkrohn",
           "LastEditDate": "2019-10-02T08:01:49",
           "LoadDate": "2019-04-01T12:00:00",
           "LoadedBy": "randleb",
           "Method": null,
           "NoAssessmentReason": null,
           "Notes": "Dry stream bed",
           "OBJECTID": 15,
           "OfficeReviewBy": "Kat",
           "OwnerEntity": "Roads",
           "PercentFishPassability": "99",
           "PollutionIndicator": "Not Applicable",
           "PotentialSpecies": null,
           "Priority": null,
           "QCFlag": null,
           "Revisit": null,
           "USPermission": "Granted",
           "WDFWID": null
          },
          "type": "Feature"
         },
         {
          "geometry": {
           "coordinates": [
            -121.8530205566442,
            47.43991505306348
           ],
           "type": "Point"
          },
          "id": "15",
          "properties": {
           "AboveNaturalBarrier": null,
           "ApprovedBy": null,
           "ApprovedDate": null,
           "AssetID": 424,
           "AssignedTo": null,
           "BarrierType": null,
           "CurrentStatus": "Active",
           "DBAssetID": "FPS-424",
           "DSPermission": "Denied",
           "DataStage": "Acquire",
           "FieldVisitDate": "2019-05-02T00:00:00",
           "FieldVisitedBy": "RC, ZM",
           "FishPassageBarrierStatusCode": "99",
           "FishPassageFeatureTypeCode": null,
           "FishPresent": null,
           "FishUse": null,
           "FishUseCriteriaCode": null,
           "FloodingImpactsToRoad": null,
           "GlobalID": "{7F2F9FAB-9CB6-4F1D-8DD2-C5F4B0012B91}",
           "InfrastructureDBAssetID": null,
           "InspectedBy": "RC, ZM",
           "InspectedDate": "2019-05-02T00:00:00",
           "InspectionStatus": "Level A and Level B Complete",
           "InventoryArea": 1,
           "LastEditBy": "rcrawford",
           "LastEditDate": "2019-10-21T08:25:05",
           "LoadDate": "2019-04-01T12:00:00",
           "LoadedBy": "randleb",
           "Method": null,
           "NoAssessmentReason": null,
           "Notes": "Access not granted. Multiple trespassing signs and gate blocks access to site.",
           "OBJECTID": 16,
           "OfficeReviewBy": "Rachel",
           "OwnerEntity": "Roads",
           "PercentFishPassability": null,
           "PollutionIndicator": null,
           "PotentialSpecies": null,
           "Priority": null,
           "QCFlag": "PercentFishPassability null |FloodingImpactsToRoad null |FishPassageFeatureTypeCode null |FishPresent null ",
           "Revisit": "Access",
           "USPermission": "Denied",
           "WDFWID": null
          },
          "type": "Feature"
         },
         {
          "geometry": {
           "coordinates": [
            -122.00710636543484,
            47.74379991129897
           ],
           "type": "Point"
          },
          "id": "16",
          "properties": {
           "AboveNaturalBarrier": "Inspected within last 5 years",
           "ApprovedBy": null,
           "ApprovedDate": null,
           "AssetID": 442,
           "AssignedTo": null,
           "BarrierType": "40",
           "CurrentStatus": "Active",
           "DBAssetID": "FPS-442",
           "DSPermission": "Acquire",
           "DataStage": "Acquire",
           "FieldVisitDate": null,
           "FieldVisitedBy": null,
           "FishPassageBarrierStatusCode": "99",
           "FishPassageFeatureTypeCode": 1,
           "FishPresent": null,
           "FishUse": 10,
           "FishUseCriteriaCode": 12,
           "FloodingImpactsToRoad": null,
           "GlobalID": "{33777917-E583-4EF7-B2FE-9768D2E8F06E}",
           "InfrastructureDBAssetID": null,
           "InspectedBy": "Washington Department of Fish and Wildlife",
           "InspectedDate": "2018-12-27T00:00:00",
           "InspectionStatus": "Level A Complete Level B Needed",
           "InventoryArea": 15,
           "LastEditBy": "randleb",
           "LastEditDate": "2019-06-28T13:00:31",
           "LoadDate": "2019-04-01T12:00:00",
           "LoadedBy": "randleb",
           "Method": null,
           "NoAssessmentReason": null,
           "Notes": null,
           "OBJECTID": 17,
           "OfficeReviewBy": null,
           "OwnerEntity": "Roads",
           "PercentFishPassability": "99",
           "PollutionIndicator": null,
           "PotentialSpecies": null,
           "Priority": null,
           "QCFlag": "FieldVisitDate null ",
           "Revisit": null,
           "USPermission": "Acquire",
           "WDFWID": "700098"
          },
          "type": "Feature"
         },
         {
          "geometry": {
           "coordinates": [
            -122.20812636881656,
            47.35094915108424
           ],
           "type": "Point"
          },
          "id": "17",
          "properties": {
           "AboveNaturalBarrier": null,
           "ApprovedBy": null,
           "ApprovedDate": null,
           "AssetID": 456,
           "AssignedTo": null,
           "BarrierType": "40",
           "CurrentStatus": "Active",
           "DBAssetID": "FPS-456",
           "DSPermission": "Granted",
           "DataStage": "Process",
           "FieldVisitDate": "2019-06-13T21:06:11",
           "FieldVisitedBy": "KK, ZM",
           "FishPassageBarrierStatusCode": "99",
           "FishPassageFeatureTypeCode": 1,
           "FishPresent": "Yes",
           "FishUse": 10,
           "FishUseCriteriaCode": 11,
           "FloodingImpactsToRoad": "No",
           "GlobalID": "{2A8FA4BD-FE75-44FD-9C48-A814E1380AF1}",
           "InfrastructureDBAssetID": null,
           "InspectedBy": "KK, ZM",
           "InspectedDate": "2019-06-13T21:06:11",
           "InspectionStatus": "Level A and Level B Complete",
           "InventoryArea": 4,
           "LastEditBy": "rcrawford",
           "LastEditDate": "2019-10-02T08:24:04",
           "LoadDate": "2019-04-01T12:00:00",
           "LoadedBy": "randleb",
           "Method": null,
           "NoAssessmentReason": null,
           "Notes": "many coho on both sides. 1.34 foot headroom. Original LVL B information was lost. revisited",
           "OBJECTID": 18,
           "OfficeReviewBy": "Liora",
           "OwnerEntity": "Roads",
           "PercentFishPassability": "99",
           "PollutionIndicator": "Floatables",
           "PotentialSpecies": null,
           "Priority": null,
           "QCFlag": null,
           "Revisit": null,
           "USPermission": "Granted",
           "WDFWID": null
          },
          "type": "Feature"
         },
         {
          "geometry": {
           "coordinates": [
            -122.00551713653851,
            47.18666730495566
           ],
           "type": "Point"
          },
          "id": "18",
          "properties": {
           "AboveNaturalBarrier": null,
           "ApprovedBy": null,
           "ApprovedDate": null,
           "AssetID": 767,
           "AssignedTo": null,
           "BarrierType": "40",
           "CurrentStatus": "Active",
           "DBAssetID": "FPS-767",
           "DSPermission": null,
           "DataStage": "Process",
           "FieldVisitDate": "2019-10-16T20:38:10",
           "FieldVisitedBy": "ZM LL",
           "FishPassageBarrierStatusCode": "99",
           "FishPassageFeatureTypeCode": 1,
           "FishPresent": "No",
           "FishUse": 10,
           "FishUseCriteriaCode": 12,
           "FloodingImpactsToRoad": "No",
           "GlobalID": "{31C51223-78D5-40FA-990C-691E1DA5FEED}",
           "InfrastructureDBAssetID": null,
           "InspectedBy": "ZM LL",
           "InspectedDate": "2019-10-16T20:38:10",
           "InspectionStatus": "Level A and Level B Complete",
           "InventoryArea": 3,
           "LastEditBy": "ZM LL",
           "LastEditDate": "2019-10-16T20:38:10",
           "LoadDate": "2019-04-01T12:00:00",
           "LoadedBy": "randleb",
           "Method": null,
           "NoAssessmentReason": null,
           "Notes": null,
           "OBJECTID": 19,
           "OfficeReviewBy": "Zach",
           "OwnerEntity": "Roads",
           "PercentFishPassability": "99",
           "PollutionIndicator": "Floatables",
           "PotentialSpecies": null,
           "Priority": null,
           "QCFlag": null,
           "Revisit": null,
           "USPermission": null,
           "WDFWID": "920156"
          },
          "type": "Feature"
         },
         {
          "geometry": {
           "coordinates": [
            -122.01187320310922,
            47.429590328726704
           ],
           "type": "Point"
          },
          "id": "19",
          "properties": {
           "AboveNaturalBarrier": null,
           "ApprovedBy": null,
           "ApprovedDate": null,
           "AssetID": 204,
           "AssignedTo": null,
           "BarrierType": "40",
           "CurrentStatus": "Active",
           "DBAssetID": "FPS-204",
           "DSPermission": "Acquire",
           "DataStage": "Acquire",
           "FieldVisitDate": "2019-06-25T18:53:53",
           "FieldVisitedBy": "KK, RC",
           "FishPassageBarrierStatusCode": "99",
           "FishPassageFeatureTypeCode": 1,
           "FishPresent": "No",
           "FishUse": 10,
           "FishUseCriteriaCode": 12,
           "FloodingImpactsToRoad": "No",
           "GlobalID": "{5157B17E-7250-4E1D-96C2-74DFC1F50CF1}",
           "InfrastructureDBAssetID": null,
           "InspectedBy": "KK, RC",
           "InspectedDate": "2019-06-25T18:53:53",
           "InspectionStatus": "Level A Complete Level B Needed",
           "InventoryArea": 8,
           "LastEditBy": "rcrawford",
           "LastEditDate": "2019-10-02T08:17:05",
           "LoadDate": "2019-04-01T12:00:00",
           "LoadedBy": "randleb",
           "Method": null,
           "NoAssessmentReason": null,
           "Notes": "Driveway ditch, no DS control (revisit to complete level B)",
           "OBJECTID": 20,
           "OfficeReviewBy": "Rachel",
           "OwnerEntity": "Roads",
           "PercentFishPassability": "99",
           "PollutionIndicator": "Not Applicable",
           "PotentialSpecies": null,
           "Priority": null,
           "QCFlag": null,
           "Revisit": null,
           "USPermission": "Acquire",
           "WDFWID": null
          },
          "type": "Feature"
         },
         {
          "geometry": {
           "coordinates": [
            -122.05471154868974,
            47.440712253565465
           ],
           "type": "Point"
          },
          "id": "20",
          "properties": {
           "AboveNaturalBarrier": null,
           "ApprovedBy": null,
           "ApprovedDate": null,
           "AssetID": 2516,
           "AssignedTo": null,
           "BarrierType": "40",
           "CurrentStatus": "Active",
           "DBAssetID": "FPS-2516",
           "DSPermission": "Acquire",
           "DataStage": "Process",
           "FieldVisitDate": "2019-09-25T19:31:58",
           "FieldVisitedBy": "AW, LL, RC",
           "FishPassageBarrierStatusCode": "99",
           "FishPassageFeatureTypeCode": 1,
           "FishPresent": "No",
           "FishUse": 10,
           "FishUseCriteriaCode": 12,
           "FloodingImpactsToRoad": "No",
           "GlobalID": "{71D9E40E-368B-4659-9F0A-9D8A8DF89787}",
           "InfrastructureDBAssetID": null,
           "InspectedBy": "AW, LL, RC",
           "InspectedDate": "2019-09-25T19:31:58",
           "InspectionStatus": "Level A and Level B Complete",
           "InventoryArea": 8,
           "LastEditBy": "rcrawford",
           "LastEditDate": "2019-10-02T08:44:33",
           "LoadDate": "2019-04-01T12:00:00",
           "LoadedBy": "randleb",
           "Method": null,
           "NoAssessmentReason": null,
           "Notes": null,
           "OBJECTID": 21,
           "OfficeReviewBy": "Rachel",
           "OwnerEntity": "Roads",
           "PercentFishPassability": "99",
           "PollutionIndicator": "Floatables",
           "PotentialSpecies": null,
           "Priority": null,
           "QCFlag": null,
           "Revisit": null,
           "USPermission": "Acquire",
           "WDFWID": null
          },
          "type": "Feature"
         },
         {
          "geometry": {
           "coordinates": [
            -121.97336253657052,
            47.41606094092214
           ],
           "type": "Point"
          },
          "id": "21",
          "properties": {
           "AboveNaturalBarrier": null,
           "ApprovedBy": null,
           "ApprovedDate": null,
           "AssetID": 256,
           "AssignedTo": null,
           "BarrierType": "40",
           "CurrentStatus": "Active",
           "DBAssetID": "FPS-256",
           "DSPermission": null,
           "DataStage": "QC",
           "FieldVisitDate": "2019-05-02T17:12:38",
           "FieldVisitedBy": "ZM, RC",
           "FishPassageBarrierStatusCode": "99",
           "FishPassageFeatureTypeCode": 1,
           "FishPresent": "No",
           "FishUse": 10,
           "FishUseCriteriaCode": 12,
           "FloodingImpactsToRoad": "No",
           "GlobalID": "{0B2DF5C2-6352-4A37-BA24-978F3FC41780}",
           "InfrastructureDBAssetID": null,
           "InspectedBy": "ZM, RC",
           "InspectedDate": "2019-05-02T17:12:38",
           "InspectionStatus": "Level A Complete Level B Needed",
           "InventoryArea": 1,
           "LastEditBy": "kkrohn",
           "LastEditDate": "2019-10-02T08:04:13",
           "LoadDate": "2019-04-01T12:00:00",
           "LoadedBy": "randleb",
           "Method": null,
           "NoAssessmentReason": null,
           "Notes": null,
           "OBJECTID": 22,
           "OfficeReviewBy": null,
           "OwnerEntity": "Roads",
           "PercentFishPassability": "99",
           "PollutionIndicator": null,
           "PotentialSpecies": null,
           "Priority": null,
           "QCFlag": null,
           "Revisit": "Access",
           "USPermission": null,
           "WDFWID": null
          },
          "type": "Feature"
         },
         {
          "geometry": {
           "coordinates": [
            -122.09186834249881,
            47.260867751949505
           ],
           "type": "Point"
          },
          "id": "22",
          "properties": {
           "AboveNaturalBarrier": null,
           "ApprovedBy": null,
           "ApprovedDate": null,
           "AssetID": 319,
           "AssignedTo": null,
           "BarrierType": "40",
           "CurrentStatus": "Active",
           "DBAssetID": "FPS-319",
           "DSPermission": "Acquire",
           "DataStage": "Acquire",
           "FieldVisitDate": "2019-05-29T21:18:17",
           "FieldVisitedBy": "KK, LL",
           "FishPassageBarrierStatusCode": "99",
           "FishPassageFeatureTypeCode": 1,
           "FishPresent": "No",
           "FishUse": 10,
           "FishUseCriteriaCode": 12,
           "FloodingImpactsToRoad": "No",
           "GlobalID": "{FE336F92-DD7F-477E-A368-48A2213CF8E9}",
           "InfrastructureDBAssetID": null,
           "InspectedBy": "KK, LL",
           "InspectedDate": "2019-05-29T21:18:17",
           "InspectionStatus": "Level A Complete Level B Needed",
           "InventoryArea": 3,
           "LastEditBy": "randleb",
           "LastEditDate": "2019-10-21T07:55:38",
           "LoadDate": "2019-04-01T12:00:00",
           "LoadedBy": "randleb",
           "Method": null,
           "NoAssessmentReason": null,
           "Notes": "Lvl B needed- DS permission may be needed. Don't forget to get road fill measurements! Multiple conflicting Roads projects NFB assessments- continue with Level B.",
           "OBJECTID": 23,
           "OfficeReviewBy": "Kat",
           "OwnerEntity": "Roads",
           "PercentFishPassability": "99",
           "PollutionIndicator": "Poor standing water quality",
           "PotentialSpecies": null,
           "Priority": null,
           "QCFlag": null,
           "Revisit": null,
           "USPermission": "Acquire",
           "WDFWID": null
          },
          "type": "Feature"
         },
         {
          "geometry": {
           "coordinates": [
            -122.11499964052942,
            47.25754462710819
           ],
           "type": "Point"
          },
          "id": "23",
          "properties": {
           "AboveNaturalBarrier": "Inspected within last 5 years",
           "ApprovedBy": null,
           "ApprovedDate": null,
           "AssetID": 2125,
           "AssignedTo": null,
           "BarrierType": "40",
           "CurrentStatus": "Active",
           "DBAssetID": "FPS-2125",
           "DSPermission": "Acquire",
           "DataStage": "Acquire",
           "FieldVisitDate": null,
           "FieldVisitedBy": null,
           "FishPassageBarrierStatusCode": "99",
           "FishPassageFeatureTypeCode": 1,
           "FishPresent": null,
           "FishUse": 10,
           "FishUseCriteriaCode": 12,
           "FloodingImpactsToRoad": null,
           "GlobalID": "{B2367CD8-3C9D-47EB-AC24-8D000CBC6272}",
           "InfrastructureDBAssetID": null,
           "InspectedBy": "Washington Department of Fish and Wildlife",
           "InspectedDate": "2016-04-12T00:00:00",
           "InspectionStatus": "Level A Complete Level B Needed",
           "InventoryArea": 3,
           "LastEditBy": "randleb",
           "LastEditDate": "2019-06-28T13:00:23",
           "LoadDate": "2019-04-01T12:00:00",
           "LoadedBy": "randleb",
           "Method": null,
           "NoAssessmentReason": null,
           "Notes": null,
           "OBJECTID": 24,
           "OfficeReviewBy": null,
           "OwnerEntity": "Roads",
           "PercentFishPassability": "99",
           "PollutionIndicator": null,
           "PotentialSpecies": null,
           "Priority": null,
           "QCFlag": "FieldVisitDate null ",
           "Revisit": null,
           "USPermission": "Acquire",
           "WDFWID": "933715"
          },
          "type": "Feature"
         },
         {
          "geometry": {
           "coordinates": [
            -122.07312963128823,
            47.2571985781827
           ],
           "type": "Point"
          },
          "id": "24",
          "properties": {
           "AboveNaturalBarrier": null,
           "ApprovedBy": null,
           "ApprovedDate": null,
           "AssetID": 2445,
           "AssignedTo": null,
           "BarrierType": "40",
           "CurrentStatus": "Active",
           "DBAssetID": "FPS-2445",
           "DSPermission": "Acquire",
           "DataStage": "Acquire",
           "FieldVisitDate": "2019-06-04T08:59:45",
           "FieldVisitedBy": "KK, RC",
           "FishPassageBarrierStatusCode": "99",
           "FishPassageFeatureTypeCode": 1,
           "FishPresent": "No",
           "FishUse": 10,
           "FishUseCriteriaCode": 12,
           "FloodingImpactsToRoad": "No",
           "GlobalID": "{5B384EEC-4FEA-4192-BA83-85A0E6C06561}",
           "InfrastructureDBAssetID": null,
           "InspectedBy": "KK, RC",
           "InspectedDate": "2019-06-04T08:59:45",
           "InspectionStatus": "Level A Complete Level B Needed",
           "InventoryArea": 3,
           "LastEditBy": "rcrawford",
           "LastEditDate": "2019-10-02T08:16:53",
           "LoadDate": "2019-04-01T12:00:00",
           "LoadedBy": "randleb",
           "Method": null,
           "NoAssessmentReason": null,
           "Notes": "Both ends of culvert buried under cobble/boulder",
           "OBJECTID": 25,
           "OfficeReviewBy": "Kat",
           "OwnerEntity": "Roads",
           "PercentFishPassability": "99",
           "PollutionIndicator": "Floatables",
           "PotentialSpecies": null,
           "Priority": null,
           "QCFlag": null,
           "Revisit": null,
           "USPermission": "Acquire",
           "WDFWID": null
          },
          "type": "Feature"
         },
         {
          "geometry": {
           "coordinates": [
            -122.0749723182169,
            47.257113594132136
           ],
           "type": "Point"
          },
          "id": "25",
          "properties": {
           "AboveNaturalBarrier": null,
           "ApprovedBy": null,
           "ApprovedDate": null,
           "AssetID": 2446,
           "AssignedTo": null,
           "BarrierType": "40",
           "CurrentStatus": "Active",
           "DBAssetID": "FPS-2446",
           "DSPermission": "Acquire",
           "DataStage": "Acquire",
           "FieldVisitDate": "2019-06-04T20:15:54",
           "FieldVisitedBy": "KK, RC",
           "FishPassageBarrierStatusCode": "99",
           "FishPassageFeatureTypeCode": 1,
           "FishPresent": "No",
           "FishUse": 10,
           "FishUseCriteriaCode": 12,
           "FloodingImpactsToRoad": "No",
           "GlobalID": "{1D082D73-F88E-4AB0-83EC-ADE287CC9780}",
           "InfrastructureDBAssetID": null,
           "InspectedBy": "KK, RC",
           "InspectedDate": "2019-06-04T20:15:54",
           "InspectionStatus": "Level A Complete Level B Needed",
           "InventoryArea": 3,
           "LastEditBy": "rcrawford",
           "LastEditDate": "2019-10-02T08:16:58",
           "LoadDate": "2019-04-01T12:00:00",
           "LoadedBy": "randleb",
           "Method": null,
           "NoAssessmentReason": null,
           "Notes": null,
           "OBJECTID": 26,
           "OfficeReviewBy": "Kat",
           "OwnerEntity": "Roads",
           "PercentFishPassability": "99",
           "PollutionIndicator": "Floatables",
           "PotentialSpecies": null,
           "Priority": null,
           "QCFlag": null,
           "Revisit": null,
           "USPermission": "Acquire",
           "WDFWID": null
          },
          "type": "Feature"
         },
         {
          "geometry": {
           "coordinates": [
            -122.27914428280963,
            47.3143706194005
           ],
           "type": "Point"
          },
          "id": "26",
          "properties": {
           "AboveNaturalBarrier": null,
           "ApprovedBy": null,
           "ApprovedDate": null,
           "AssetID": 2447,
           "AssignedTo": null,
           "BarrierType": "40",
           "CurrentStatus": "Active",
           "DBAssetID": "FPS-2447",
           "DSPermission": "Acquire",
           "DataStage": "Acquire",
           "FieldVisitDate": "2019-06-12T18:42:09",
           "FieldVisitedBy": "RC, LL, KK, ZM, AW",
           "FishPassageBarrierStatusCode": "99",
           "FishPassageFeatureTypeCode": 1,
           "FishPresent": "No",
           "FishUse": 10,
           "FishUseCriteriaCode": 12,
           "FloodingImpactsToRoad": "No",
           "GlobalID": "{F2296C26-06A6-459B-A09A-86D367E66E66}",
           "InfrastructureDBAssetID": null,
           "InspectedBy": "RC, LL, KK, ZM, AW",
           "InspectedDate": "2019-06-12T18:42:09",
           "InspectionStatus": "Level A Complete Level B Needed",
           "InventoryArea": 4,
           "LastEditBy": "rcrawford",
           "LastEditDate": "2019-10-02T08:16:59",
           "LoadDate": "2019-04-01T12:00:00",
           "LoadedBy": "randleb",
           "Method": null,
           "NoAssessmentReason": null,
           "Notes": "Level b recommended during winter when noxious weeds aren’t in way, still need downstream permission... also site is prone to flooding/deep water ",
           "OBJECTID": 27,
           "OfficeReviewBy": null,
           "OwnerEntity": "Roads",
           "PercentFishPassability": "99",
           "PollutionIndicator": "Floatables",
           "PotentialSpecies": null,
           "Priority": null,
           "QCFlag": null,
           "Revisit": null,
           "USPermission": "Acquire",
           "WDFWID": null
          },
          "type": "Feature"
         },
         {
          "geometry": {
           "coordinates": [
            -122.15238887226663,
            47.40141801851318
           ],
           "type": "Point"
          },
          "id": "27",
          "properties": {
           "AboveNaturalBarrier": null,
           "ApprovedBy": null,
           "ApprovedDate": null,
           "AssetID": 3032,
           "AssignedTo": null,
           "BarrierType": "33",
           "CurrentStatus": "Active",
           "DBAssetID": "FPS-3032",
           "DSPermission": null,
           "DataStage": "QC",
           "FieldVisitDate": "2019-10-17T20:56:39",
           "FieldVisitedBy": "ZM LL",
           "FishPassageBarrierStatusCode": "10",
           "FishPassageFeatureTypeCode": 1,
           "FishPresent": "No",
           "FishUse": 10,
           "FishUseCriteriaCode": 12,
           "FloodingImpactsToRoad": "Yes",
           "GlobalID": "{18318B2B-A492-41B8-8002-A3E338555B30}",
           "InfrastructureDBAssetID": null,
           "InspectedBy": "ZM LL",
           "InspectedDate": "2019-10-17T20:56:39",
           "InspectionStatus": "Level A Complete Level B Needed",
           "InventoryArea": 5,
           "LastEditBy": "ZM LL",
           "LastEditDate": "2019-10-17T20:56:39",
           "LoadDate": "2019-04-01T12:00:00",
           "LoadedBy": "randleb",
           "Method": "Other",
           "NoAssessmentReason": null,
           "Notes": "Wetland DS. Lvl b not applicable ",
           "OBJECTID": 28,
           "OfficeReviewBy": "Zach",
           "OwnerEntity": "Roads",
           "PercentFishPassability": "30",
           "PollutionIndicator": "Not Applicable",
           "PotentialSpecies": " Coho, Steelhead, SR Cutthroat, Resident Trout",
           "Priority": null,
           "QCFlag": null,
           "Revisit": null,
           "USPermission": null,
           "WDFWID": "983227"
          },
          "type": "Feature"
         },
         {
          "geometry": {
           "coordinates": [
            -122.48867891427383,
            47.429237169631925
           ],
           "type": "Point"
          },
          "id": "28",
          "properties": {
           "AboveNaturalBarrier": null,
           "ApprovedBy": null,
           "ApprovedDate": null,
           "AssetID": 109,
           "AssignedTo": null,
           "BarrierType": "40",
           "CurrentStatus": "Active",
           "DBAssetID": "FPS-109",
           "DSPermission": "Acquire",
           "DataStage": "Process",
           "FieldVisitDate": "2019-08-08T20:26:59",
           "FieldVisitedBy": "KK, LL, AW",
           "FishPassageBarrierStatusCode": "99",
           "FishPassageFeatureTypeCode": 1,
           "FishPresent": "No",
           "FishUse": 10,
           "FishUseCriteriaCode": 12,
           "FloodingImpactsToRoad": "No",
           "GlobalID": "{19E7205F-C2F1-4598-ADD0-1A12E168D1BB}",
           "InfrastructureDBAssetID": null,
           "InspectedBy": "KK, LL, AW",
           "InspectedDate": "2019-08-07T22:19:56",
           "InspectionStatus": "Level A and Level B Complete",
           "InventoryArea": 7,
           "LastEditBy": "rcrawford",
           "LastEditDate": "2019-10-02T08:15:13",
           "LoadDate": "2019-04-01T12:00:00",
           "LoadedBy": "randleb",
           "Method": null,
           "NoAssessmentReason": null,
           "Notes": "Met Estavan, at 12028 SW Cemetery Rd (parcel #0122029059) (206) 571-8869",
           "OBJECTID": 29,
           "OfficeReviewBy": "Liora",
           "OwnerEntity": "Roads",
           "PercentFishPassability": "99",
           "PollutionIndicator": "Not Applicable",
           "PotentialSpecies": null,
           "Priority": null,
           "QCFlag": null,
           "Revisit": null,
           "USPermission": "Acquire",
           "WDFWID": null
          },
          "type": "Feature"
         },
         {
          "geometry": {
           "coordinates": [
            -122.03138082124933,
            47.45032479790286
           ],
           "type": "Point"
          },
          "id": "29",
          "properties": {
           "AboveNaturalBarrier": null,
           "ApprovedBy": null,
           "ApprovedDate": null,
           "AssetID": 1861,
           "AssignedTo": null,
           "BarrierType": "40",
           "CurrentStatus": "Active",
           "DBAssetID": "FPS-1861",
           "DSPermission": "Acquire",
           "DataStage": "Process",
           "FieldVisitDate": "2019-09-24T17:36:20",
           "FieldVisitedBy": "KK, RC, LL, CM, ZM",
           "FishPassageBarrierStatusCode": "99",
           "FishPassageFeatureTypeCode": 1,
           "FishPresent": "No",
           "FishUse": 10,
           "FishUseCriteriaCode": 12,
           "FloodingImpactsToRoad": "No",
           "GlobalID": "{6DC11471-2EB8-4FC1-BA32-0A64515EB907}",
           "InfrastructureDBAssetID": null,
           "InspectedBy": "KK, RC, LL, CM",
           "InspectedDate": "2019-09-18T18:11:58",
           "InspectionStatus": "Level A and Level B Complete",
           "InventoryArea": 8,
           "LastEditBy": "rcrawford",
           "LastEditDate": "2019-10-02T08:44:41",
           "LoadDate": "2019-04-01T12:00:00",
           "LoadedBy": "randleb",
           "Method": null,
           "NoAssessmentReason": null,
           "Notes": null,
           "OBJECTID": 30,
           "OfficeReviewBy": null,
           "OwnerEntity": "Roads",
           "PercentFishPassability": "99",
           "PollutionIndicator": "Floatables",
           "PotentialSpecies": null,
           "Priority": null,
           "QCFlag": null,
           "Revisit": null,
           "USPermission": "Acquire",
           "WDFWID": null
          },
          "type": "Feature"
         },
         {
          "geometry": {
           "coordinates": [
            -122.0620199528421,
            47.437224141909084
           ],
           "type": "Point"
          },
          "id": "30",
          "properties": {
           "AboveNaturalBarrier": null,
           "ApprovedBy": null,
           "ApprovedDate": null,
           "AssetID": 2411,
           "AssignedTo": null,
           "BarrierType": null,
           "CurrentStatus": "Active",
           "DBAssetID": "FPS-2411",
           "DSPermission": null,
           "DataStage": "Field Review",
           "FieldVisitDate": "2019-10-09T00:00:00",
           "FieldVisitedBy": "RC, CM",
           "FishPassageBarrierStatusCode": "99",
           "FishPassageFeatureTypeCode": 1,
           "FishPresent": "No",
           "FishUse": 10,
           "FishUseCriteriaCode": 12,
           "FloodingImpactsToRoad": null,
           "GlobalID": "{1B985E72-0999-409B-9A6D-3050D9B42B63}",
           "InfrastructureDBAssetID": null,
           "InspectedBy": "RC, CM",
           "InspectedDate": "2019-10-09T00:00:00",
           "InspectionStatus": "Level A Complete Level B Needed",
           "InventoryArea": 8,
           "LastEditBy": "rcrawford",
           "LastEditDate": "2019-10-21T08:39:55",
           "LoadDate": "2019-04-01T12:00:00",
           "LoadedBy": "randleb",
           "Method": null,
           "NoAssessmentReason": null,
           "Notes": null,
           "OBJECTID": 31,
           "OfficeReviewBy": "Rachel",
           "OwnerEntity": "Roads",
           "PercentFishPassability": "99",
           "PollutionIndicator": null,
           "PotentialSpecies": null,
           "Priority": null,
           "QCFlag": "FloodingImpactsToRoad null |FishPassageFeatureTypeCode null ",
           "Revisit": "Brush Clearing",
           "USPermission": null,
           "WDFWID": null
          },
          "type": "Feature"
         },
         {
          "geometry": {
           "coordinates": [
            -122.03621470858396,
            47.437038443920024
           ],
           "type": "Point"
          },
          "id": "31",
          "properties": {
           "AboveNaturalBarrier": null,
           "ApprovedBy": null,
           "ApprovedDate": null,
           "AssetID": 3042,
           "AssignedTo": null,
           "BarrierType": null,
           "CurrentStatus": "Active",
           "DBAssetID": "FPS-3042",
           "DSPermission": null,
           "DataStage": "Acquire",
           "FieldVisitDate": null,
           "FieldVisitedBy": "RC, CM",
           "FishPassageBarrierStatusCode": null,
           "FishPassageFeatureTypeCode": 1,
           "FishPresent": "No",
           "FishUse": 10,
           "FishUseCriteriaCode": 12,
           "FloodingImpactsToRoad": "No",
           "GlobalID": "{161E6F5A-C510-480A-8824-043EF1423CFB}",
           "InfrastructureDBAssetID": null,
           "InspectedBy": "RC, CM",
           "InspectedDate": "2019-10-09T21:17:20",
           "InspectionStatus": "Level A Complete Level B Needed",
           "InventoryArea": 8,
           "LastEditBy": "rcrawford",
           "LastEditDate": "2019-10-14T07:42:47",
           "LoadDate": "2019-04-01T12:00:00",
           "LoadedBy": "randleb",
           "Method": null,
           "NoAssessmentReason": null,
           "Notes": null,
           "OBJECTID": 32,
           "OfficeReviewBy": null,
           "OwnerEntity": "Roads",
           "PercentFishPassability": null,
           "PollutionIndicator": "Not Applicable",
           "PotentialSpecies": null,
           "Priority": null,
           "QCFlag": "FieldVisitDate null ",
           "Revisit": null,
           "USPermission": null,
           "WDFWID": null
          },
          "type": "Feature"
         },
         {
          "geometry": {
           "coordinates": [
            -121.97374902951283,
            47.21387827134918
           ],
           "type": "Point"
          },
          "id": "32",
          "properties": {
           "AboveNaturalBarrier": null,
           "ApprovedBy": null,
           "ApprovedDate": null,
           "AssetID": 2123,
           "AssignedTo": null,
           "BarrierType": "40",
           "CurrentStatus": "Active",
           "DBAssetID": "FPS-2123",
           "DSPermission": "Acquire",
           "DataStage": "Acquire",
           "FieldVisitDate": null,
           "FieldVisitedBy": null,
           "FishPassageBarrierStatusCode": "99",
           "FishPassageFeatureTypeCode": 1,
           "FishPresent": null,
           "FishUse": 10,
           "FishUseCriteriaCode": 13,
           "FloodingImpactsToRoad": null,
           "GlobalID": "{1909A9AA-1D85-4AA6-BD6C-6298747FB612}",
           "InfrastructureDBAssetID": null,
           "InspectedBy": "Washington Department of Fish and Wildlife",
           "InspectedDate": "2018-01-24T00:00:00",
           "InspectionStatus": "Level A Complete Level B Needed",
           "InventoryArea": 3,
           "LastEditBy": "randleb",
           "LastEditDate": "2019-06-28T13:00:18",
           "LoadDate": "2019-04-01T12:00:00",
           "LoadedBy": "randleb",
           "Method": null,
           "NoAssessmentReason": null,
           "Notes": "Inspected within last 5 years",
           "OBJECTID": 33,
           "OfficeReviewBy": null,
           "OwnerEntity": "Roads",
           "PercentFishPassability": "99",
           "PollutionIndicator": null,
           "PotentialSpecies": " Chum, Chinook, Coho, Steelhead, SR Cutthroat, Resident Trout",
           "Priority": null,
           "QCFlag": "FieldVisitDate null ",
           "Revisit": null,
           "USPermission": "Acquire",
           "WDFWID": "880003"
          },
          "type": "Feature"
         },
         {
          "geometry": {
           "coordinates": [
            -122.03231846796976,
            47.48210394046733
           ],
           "type": "Point"
          },
          "id": "33",
          "properties": {
           "AboveNaturalBarrier": null,
           "ApprovedBy": null,
           "ApprovedDate": null,
           "AssetID": 2103,
           "AssignedTo": null,
           "BarrierType": "40",
           "CurrentStatus": "Active",
           "DBAssetID": "FPS-2103",
           "DSPermission": "Acquire",
           "DataStage": "Process",
           "FieldVisitDate": "2019-09-23T22:21:53",
           "FieldVisitedBy": "KK, ZM, LL, RC",
           "FishPassageBarrierStatusCode": "99",
           "FishPassageFeatureTypeCode": 1,
           "FishPresent": "Yes",
           "FishUse": 10,
           "FishUseCriteriaCode": 11,
           "FloodingImpactsToRoad": "No",
           "GlobalID": "{C51541D5-15B5-4292-B766-871CD91994FF}",
           "InfrastructureDBAssetID": null,
           "InspectedBy": "KK, ZM, LL, RC",
           "InspectedDate": "2019-09-23T22:21:53",
           "InspectionStatus": "Level A and Level B Complete",
           "InventoryArea": 8,
           "LastEditBy": "rcrawford",
           "LastEditDate": "2019-10-02T08:44:36",
           "LoadDate": "2019-04-01T12:00:00",
           "LoadedBy": "randleb",
           "Method": null,
           "NoAssessmentReason": null,
           "Notes": null,
           "OBJECTID": 34,
           "OfficeReviewBy": "Liora",
           "OwnerEntity": "Roads",
           "PercentFishPassability": "99",
           "PollutionIndicator": "Not Applicable",
           "PotentialSpecies": null,
           "Priority": null,
           "QCFlag": null,
           "Revisit": null,
           "USPermission": "Acquire",
           "WDFWID": null
          },
          "type": "Feature"
         },
         {
          "geometry": {
           "coordinates": [
            -122.08929777401997,
            47.25731455316543
           ],
           "type": "Point"
          },
          "id": "34",
          "properties": {
           "AboveNaturalBarrier": null,
           "ApprovedBy": null,
           "ApprovedDate": null,
           "AssetID": 1813,
           "AssignedTo": null,
           "BarrierType": "40",
           "CurrentStatus": "Active",
           "DBAssetID": "FPS-1813",
           "DSPermission": "Acquire",
           "DataStage": "Process",
           "FieldVisitDate": "2019-06-03T19:01:01",
           "FieldVisitedBy": "KK, RC",
           "FishPassageBarrierStatusCode": "99",
           "FishPassageFeatureTypeCode": 1,
           "FishPresent": "No",
           "FishUse": 10,
           "FishUseCriteriaCode": 12,
           "FloodingImpactsToRoad": "No",
           "GlobalID": "{B76F97A0-9885-40B9-B442-7BEC7A9BB353}",
           "InfrastructureDBAssetID": null,
           "InspectedBy": "KK, RC",
           "InspectedDate": "2019-06-03T19:01:01",
           "InspectionStatus": "Level A and Level B Complete",
           "InventoryArea": 3,
           "LastEditBy": "randleb",
           "LastEditDate": "2019-09-19T12:31:58",
           "LoadDate": "2019-04-01T12:00:00",
           "LoadedBy": "randleb",
           "Method": null,
           "NoAssessmentReason": null,
           "Notes": null,
           "OBJECTID": 35,
           "OfficeReviewBy": "Rachel",
           "OwnerEntity": "Roads",
           "PercentFishPassability": "99",
           "PollutionIndicator": "Floatables",
           "PotentialSpecies": null,
           "Priority": null,
           "QCFlag": null,
           "Revisit": null,
           "USPermission": "Acquire",
           "WDFWID": null
          },
          "type": "Feature"
         },
         {
          "geometry": {
           "coordinates": [
            -121.9824284588826,
            47.4221335377924
           ],
           "type": "Point"
          },
          "id": "35",
          "properties": {
           "AboveNaturalBarrier": null,
           "ApprovedBy": null,
           "ApprovedDate": null,
           "AssetID": 1448,
           "AssignedTo": null,
           "BarrierType": "40",
           "CurrentStatus": "Active",
           "DBAssetID": "FPS-1448",
           "DSPermission": "Acquire",
           "DataStage": "Process",
           "FieldVisitDate": "2019-04-22T20:16:08",
           "FieldVisitedBy": "KK, AW, LL, ZM",
           "FishPassageBarrierStatusCode": "Unknown",
           "FishPassageFeatureTypeCode": 1,
           "FishPresent": "No",
           "FishUse": 10,
           "FishUseCriteriaCode": 12,
           "FloodingImpactsToRoad": "No",
           "GlobalID": "{998D4FEE-D33B-4E15-807C-7EBC19D74999}",
           "InfrastructureDBAssetID": null,
           "InspectedBy": "KK, AW, LL, ZM",
           "InspectedDate": "2019-04-22T20:16:08",
           "InspectionStatus": "Level A and Level B Complete",
           "InventoryArea": 1,
           "LastEditBy": "wongand",
           "LastEditDate": "2019-10-15T13:12:43",
           "LoadDate": "2019-04-01T12:00:00",
           "LoadedBy": "randleb",
           "Method": null,
           "NoAssessmentReason": null,
           "Notes": "See Level B for FPS-1449",
           "OBJECTID": 36,
           "OfficeReviewBy": null,
           "OwnerEntity": "Roads",
           "PercentFishPassability": "99",
           "PollutionIndicator": "Not Applicable",
           "PotentialSpecies": null,
           "Priority": null,
           "QCFlag": null,
           "Revisit": null,
           "USPermission": "Acquire",
           "WDFWID": null
          },
          "type": "Feature"
         },
         {
          "geometry": {
           "coordinates": [
            -122.10737273902886,
            47.47339581625336
           ],
           "type": "Point"
          },
          "id": "36",
          "properties": {
           "AboveNaturalBarrier": null,
           "ApprovedBy": null,
           "ApprovedDate": null,
           "AssetID": 1480,
           "AssignedTo": null,
           "BarrierType": "40",
           "CurrentStatus": "Active",
           "DBAssetID": "FPS-1480",
           "DSPermission": "Acquire",
           "DataStage": "Process",
           "FieldVisitDate": "2019-10-01T21:12:50",
           "FieldVisitedBy": "ZM RC",
           "FishPassageBarrierStatusCode": "99",
           "FishPassageFeatureTypeCode": 1,
           "FishPresent": "No",
           "FishUse": 10,
           "FishUseCriteriaCode": 12,
           "FloodingImpactsToRoad": "No",
           "GlobalID": "{F0B05584-7213-4A1C-886F-91344464F0DC}",
           "InfrastructureDBAssetID": null,
           "InspectedBy": "ZM RC",
           "InspectedDate": "2019-10-01T21:12:50",
           "InspectionStatus": "Level A and Level B Complete",
           "InventoryArea": 8,
           "LastEditBy": "rcrawford",
           "LastEditDate": "2019-10-03T07:20:01",
           "LoadDate": "2019-04-01T12:00:00",
           "LoadedBy": "randleb",
           "Method": null,
           "NoAssessmentReason": null,
           "Notes": null,
           "OBJECTID": 37,
           "OfficeReviewBy": "Rachel",
           "OwnerEntity": "Roads",
           "PercentFishPassability": "99",
           "PollutionIndicator": "Not Applicable",
           "PotentialSpecies": null,
           "Priority": null,
           "QCFlag": null,
           "Revisit": null,
           "USPermission": "Acquire",
           "WDFWID": null
          },
          "type": "Feature"
         },
         {
          "geometry": {
           "coordinates": [
            -122.24351693675275,
            47.49169752197195
           ],
           "type": "Point"
          },
          "id": "37",
          "properties": {
           "AboveNaturalBarrier": null,
           "ApprovedBy": null,
           "ApprovedDate": null,
           "AssetID": 2264,
           "AssignedTo": null,
           "BarrierType": "40",
           "CurrentStatus": "Active",
           "DBAssetID": "FPS-2264",
           "DSPermission": null,
           "DataStage": "QC",
           "FieldVisitDate": "2019-04-25T16:33:47",
           "FieldVisitedBy": "KK, ZM, LL",
           "FishPassageBarrierStatusCode": "99",
           "FishPassageFeatureTypeCode": 1,
           "FishPresent": "No",
           "FishUse": 10,
           "FishUseCriteriaCode": 12,
           "FloodingImpactsToRoad": "No",
           "GlobalID": "{52941497-A6D3-4F66-9B22-BB14443A9E4B}",
           "InfrastructureDBAssetID": null,
           "InspectedBy": "KK, ZM, LL",
           "InspectedDate": "2019-04-25T16:33:47",
           "InspectionStatus": "Level A Complete Level B Needed",
           "InventoryArea": 6,
           "LastEditBy": "kkrohn",
           "LastEditDate": "2019-10-02T08:05:12",
           "LoadDate": "2019-04-25T16:33:47",
           "LoadedBy": "KK, ZM, LL",
           "Method": null,
           "NoAssessmentReason": null,
           "Notes": "Paint buckets upstream; closed conveyance downstream",
           "OBJECTID": 38,
           "OfficeReviewBy": "Zach",
           "OwnerEntity": "Parks",
           "PercentFishPassability": "99",
           "PollutionIndicator": "Other",
           "PotentialSpecies": null,
           "Priority": null,
           "QCFlag": null,
           "Revisit": null,
           "USPermission": null,
           "WDFWID": null
          },
          "type": "Feature"
         },
         {
          "geometry": {
           "coordinates": [
            -122.13471652297933,
            47.6895091355531
           ],
           "type": "Point"
          },
          "id": "38",
          "properties": {
           "AboveNaturalBarrier": "Inspected within last 5 years",
           "ApprovedBy": null,
           "ApprovedDate": null,
           "AssetID": 1877,
           "AssignedTo": null,
           "BarrierType": "40",
           "CurrentStatus": "Active",
           "DBAssetID": "FPS-1877",
           "DSPermission": null,
           "DataStage": "Acquire",
           "FieldVisitDate": null,
           "FieldVisitedBy": null,
           "FishPassageBarrierStatusCode": "99",
           "FishPassageFeatureTypeCode": 1,
           "FishPresent": null,
           "FishUse": 10,
           "FishUseCriteriaCode": 12,
           "FloodingImpactsToRoad": null,
           "GlobalID": "{4E887B21-DBC2-4BDC-88BD-DBC42F5C989C}",
           "InfrastructureDBAssetID": null,
           "InspectedBy": "Washington Conservation Corps",
           "InspectedDate": "2016-04-04T00:00:00",
           "InspectionStatus": "Level A Complete Level B Needed",
           "InventoryArea": 12,
           "LastEditBy": "randleb",
           "LastEditDate": "2019-06-28T13:00:42",
           "LoadDate": "2019-04-01T12:00:00",
           "LoadedBy": "randleb",
           "Method": null,
           "NoAssessmentReason": null,
           "Notes": null,
           "OBJECTID": 39,
           "OfficeReviewBy": null,
           "OwnerEntity": "Roads",
           "PercentFishPassability": "99",
           "PollutionIndicator": null,
           "PotentialSpecies": " Sockeye, Coho, Steelhead, SR Cutthroat, Resident Trout",
           "Priority": null,
           "QCFlag": "FieldVisitDate null ",
           "Revisit": null,
           "USPermission": null,
           "WDFWID": "GCM010"
          },
          "type": "Feature"
         },
         {
          "geometry": {
           "coordinates": [
            -121.96320413782989,
            47.18170315578191
           ],
           "type": "Point"
          },
          "id": "39",
          "properties": {
           "AboveNaturalBarrier": null,
           "ApprovedBy": null,
           "ApprovedDate": null,
           "AssetID": 9496,
           "AssignedTo": null,
           "BarrierType": "31",
           "CurrentStatus": "Active",
           "DBAssetID": "FPS-9496",
           "DSPermission": null,
           "DataStage": "Acquire",
           "FieldVisitDate": "2019-10-14T22:00:12",
           "FieldVisitedBy": "BF, LL",
           "FishPassageBarrierStatusCode": null,
           "FishPassageFeatureTypeCode": 1,
           "FishPresent": "No",
           "FishUse": 10,
           "FishUseCriteriaCode": 12,
           "FloodingImpactsToRoad": "No",
           "GlobalID": "{E1B84297-5860-4A2A-8D97-03632A12CB50}",
           "InfrastructureDBAssetID": null,
           "InspectedBy": "BF, LL",
           "InspectedDate": "2019-10-14T22:00:12",
           "InspectionStatus": "Level A Complete Level B Needed",
           "InventoryArea": 3,
           "LastEditBy": "llewellynl",
           "LastEditDate": "2019-10-16T07:23:12",
           "LoadDate": "2019-10-14T21:42:05",
           "LoadedBy": "LL, BF",
           "Method": "Other",
           "NoAssessmentReason": null,
           "Notes": "Need to conduct Level B",
           "OBJECTID": 40,
           "OfficeReviewBy": "Liora",
           "OwnerEntity": "Roads",
           "PercentFishPassability": null,
           "PollutionIndicator": "Floatables",
           "PotentialSpecies": null,
           "Priority": null,
           "QCFlag": "PercentFishPassability null ",
           "Revisit": "Other",
           "USPermission": null,
           "WDFWID": null
          },
          "type": "Feature"
         },
         {
          "geometry": {
           "coordinates": [
            -122.12772561390501,
            47.260834518516106
           ],
           "type": "Point"
          },
          "id": "40",
          "properties": {
           "AboveNaturalBarrier": "Inspected within last 5 years",
           "ApprovedBy": null,
           "ApprovedDate": null,
           "AssetID": 2046,
           "AssignedTo": null,
           "BarrierType": "40",
           "CurrentStatus": "Active",
           "DBAssetID": "FPS-2046",
           "DSPermission": "Acquire",
           "DataStage": "Acquire",
           "FieldVisitDate": null,
           "FieldVisitedBy": null,
           "FishPassageBarrierStatusCode": "99",
           "FishPassageFeatureTypeCode": 1,
           "FishPresent": null,
           "FishUse": 10,
           "FishUseCriteriaCode": 12,
           "FloodingImpactsToRoad": null,
           "GlobalID": "{F09D7FE3-4A5A-48F2-ABED-B6C935298D5A}",
           "InfrastructureDBAssetID": null,
           "InspectedBy": "Washington Department of Fish and Wildlife",
           "InspectedDate": "2014-10-20T00:00:00",
           "InspectionStatus": "Level A Complete Level B Needed",
           "InventoryArea": 3,
           "LastEditBy": "randleb",
           "LastEditDate": "2019-06-28T13:00:17",
           "LoadDate": "2019-04-01T12:00:00",
           "LoadedBy": "randleb",
           "Method": null,
           "NoAssessmentReason": null,
           "Notes": null,
           "OBJECTID": 41,
           "OfficeReviewBy": null,
           "OwnerEntity": "Roads",
           "PercentFishPassability": "99",
           "PollutionIndicator": null,
           "PotentialSpecies": " Coho, Steelhead, SR Cutthroat, Resident Trout",
           "Priority": null,
           "QCFlag": "FieldVisitDate null ",
           "Revisit": null,
           "USPermission": "Acquire",
           "WDFWID": "105 S012721a"
          },
          "type": "Feature"
         },
         {
          "geometry": {
           "coordinates": [
            -122.07921785017031,
            47.25734589984706
           ],
           "type": "Point"
          },
          "id": "41",
          "properties": {
           "AboveNaturalBarrier": null,
           "ApprovedBy": null,
           "ApprovedDate": null,
           "AssetID": 2017,
           "AssignedTo": null,
           "BarrierType": "40",
           "CurrentStatus": "Active",
           "DBAssetID": "FPS-2017",
           "DSPermission": "Acquire",
           "DataStage": "Acquire",
           "FieldVisitDate": "2019-06-04T19:58:18",
           "FieldVisitedBy": "KK, RC",
           "FishPassageBarrierStatusCode": "99",
           "FishPassageFeatureTypeCode": 1,
           "FishPresent": "No",
           "FishUse": 10,
           "FishUseCriteriaCode": 12,
           "FloodingImpactsToRoad": "No",
           "GlobalID": "{33B86FA6-74CC-46C4-86E6-A06C80D88516}",
           "InfrastructureDBAssetID": null,
           "InspectedBy": "KK, RC",
           "InspectedDate": "2019-06-04T19:58:18",
           "InspectionStatus": "Level A Complete Level B Needed",
           "InventoryArea": 3,
           "LastEditBy": "rcrawford",
           "LastEditDate": "2019-10-02T08:16:46",
           "LoadDate": "2019-04-01T12:00:00",
           "LoadedBy": "randleb",
           "Method": null,
           "NoAssessmentReason": null,
           "Notes": "Channel overgrown with buttercup",
           "OBJECTID": 42,
           "OfficeReviewBy": "Kat",
           "OwnerEntity": "Roads",
           "PercentFishPassability": "99",
           "PollutionIndicator": "Floatables",
           "PotentialSpecies": null,
           "Priority": null,
           "QCFlag": null,
           "Revisit": null,
           "USPermission": "Acquire",
           "WDFWID": null
          },
          "type": "Feature"
         },
         {
          "geometry": {
           "coordinates": [
            -122.09504585221691,
            47.70334796812943
           ],
           "type": "Point"
          },
          "id": "42",
          "properties": {
           "AboveNaturalBarrier": "Inspected within last 5 years",
           "ApprovedBy": null,
           "ApprovedDate": null,
           "AssetID": 2692,
           "AssignedTo": null,
           "BarrierType": "40",
           "CurrentStatus": "Active",
           "DBAssetID": "FPS-2692",
           "DSPermission": null,
           "DataStage": "Acquire",
           "FieldVisitDate": null,
           "FieldVisitedBy": null,
           "FishPassageBarrierStatusCode": "99",
           "FishPassageFeatureTypeCode": 1,
           "FishPresent": null,
           "FishUse": 10,
           "FishUseCriteriaCode": 12,
           "FloodingImpactsToRoad": null,
           "GlobalID": "{AAC54D22-0493-4586-8437-87F1A8792E5A}",
           "InfrastructureDBAssetID": null,
           "InspectedBy": "Washington Conservation Corps",
           "InspectedDate": "2015-05-11T00:00:00",
           "InspectionStatus": "Level A Complete Level B Needed",
           "InventoryArea": 12,
           "LastEditBy": "randleb",
           "LastEditDate": "2019-06-28T13:00:29",
           "LoadDate": "2019-04-01T12:00:00",
           "LoadedBy": "randleb",
           "Method": null,
           "NoAssessmentReason": null,
           "Notes": null,
           "OBJECTID": 43,
           "OfficeReviewBy": null,
           "OwnerEntity": "Roads",
           "PercentFishPassability": "99",
           "PollutionIndicator": null,
           "PotentialSpecies": " Sockeye, Coho, Steelhead, SR Cutthroat, Resident Trout",
           "Priority": null,
           "QCFlag": "FieldVisitDate null ",
           "Revisit": null,
           "USPermission": null,
           "WDFWID": "EIM010"
          },
          "type": "Feature"
         },
         {
          "geometry": {
           "coordinates": [
            -122.47001001132232,
            47.410938172645565
           ],
           "type": "Point"
          },
          "id": "43",
          "properties": {
           "AboveNaturalBarrier": null,
           "ApprovedBy": null,
           "ApprovedDate": null,
           "AssetID": 175,
           "AssignedTo": null,
           "BarrierType": "40",
           "CurrentStatus": "Active",
           "DBAssetID": "FPS-175",
           "DSPermission": "Acquire",
           "DataStage": "QC",
           "FieldVisitDate": "2019-08-19T20:30:23",
           "FieldVisitedBy": "ZM KK",
           "FishPassageBarrierStatusCode": "99",
           "FishPassageFeatureTypeCode": 1,
           "FishPresent": "No",
           "FishUse": 10,
           "FishUseCriteriaCode": 12,
           "FloodingImpactsToRoad": "No",
           "GlobalID": "{6EAAE669-3D87-451F-904A-B4969EE58C54}",
           "InfrastructureDBAssetID": null,
           "InspectedBy": "ZM KK",
           "InspectedDate": "2019-08-19T20:30:23",
           "InspectionStatus": "Level A Complete Level B Needed",
           "InventoryArea": 7,
           "LastEditBy": "rcrawford",
           "LastEditDate": "2019-10-02T08:15:43",
           "LoadDate": "2019-04-01T12:00:00",
           "LoadedBy": "randleb",
           "Method": null,
           "NoAssessmentReason": null,
           "Notes": "Too much brush to complete LVL B DS or bankfulls-- or need to access further down property to access more open area of stream (for DS Xsection). DS control will be a problem no matter what due to overgrown blackberry",
           "OBJECTID": 44,
           "OfficeReviewBy": "Zach",
           "OwnerEntity": "Roads",
           "PercentFishPassability": "99",
           "PollutionIndicator": "Poor standing water quality",
           "PotentialSpecies": null,
           "Priority": null,
           "QCFlag": null,
           "Revisit": "Brush Clearing",
           "USPermission": "Acquire",
           "WDFWID": null
          },
          "type": "Feature"
         },
         {
          "geometry": {
           "coordinates": [
            -122.13307584398396,
            47.49324732900878
           ],
           "type": "Point"
          },
          "id": "44",
          "properties": {
           "AboveNaturalBarrier": null,
           "ApprovedBy": null,
           "ApprovedDate": null,
           "AssetID": 239,
           "AssignedTo": null,
           "BarrierType": "40",
           "CurrentStatus": "Active",
           "DBAssetID": "FPS-239",
           "DSPermission": "Acquire",
           "DataStage": "Process",
           "FieldVisitDate": "2019-09-19T22:06:02",
           "FieldVisitedBy": "RC, KK",
           "FishPassageBarrierStatusCode": "99",
           "FishPassageFeatureTypeCode": 1,
           "FishPresent": "No",
           "FishUse": 10,
           "FishUseCriteriaCode": 12,
           "FloodingImpactsToRoad": "No",
           "GlobalID": "{949A40CC-DFAD-4FE9-9374-047938A0819B}",
           "InfrastructureDBAssetID": null,
           "InspectedBy": "RC, KK",
           "InspectedDate": "2019-09-17T22:06:02",
           "InspectionStatus": "Level A and Level B Complete",
           "InventoryArea": 8,
           "LastEditBy": "rcrawford",
           "LastEditDate": "2019-10-02T08:44:35",
           "LoadDate": "2019-04-01T12:00:00",
           "LoadedBy": "randleb",
           "Method": null,
           "NoAssessmentReason": null,
           "Notes": null,
           "OBJECTID": 45,
           "OfficeReviewBy": "Kat",
           "OwnerEntity": "Roads",
           "PercentFishPassability": "99",
           "PollutionIndicator": "Not Applicable",
           "PotentialSpecies": null,
           "Priority": null,
           "QCFlag": null,
           "Revisit": null,
           "USPermission": "Acquire",
           "WDFWID": null
          },
          "type": "Feature"
         },
         {
          "geometry": {
           "coordinates": [
            -122.10888104004717,
            47.4752135358705
           ],
           "type": "Point"
          },
          "id": "45",
          "properties": {
           "AboveNaturalBarrier": null,
           "ApprovedBy": null,
           "ApprovedDate": null,
           "AssetID": 1484,
           "AssignedTo": null,
           "BarrierType": "40",
           "CurrentStatus": "Active",
           "DBAssetID": "FPS-1484",
           "DSPermission": "Acquire",
           "DataStage": "Process",
           "FieldVisitDate": "2019-10-14T20:37:20",
           "FieldVisitedBy": "RC, ZM",
           "FishPassageBarrierStatusCode": "99",
           "FishPassageFeatureTypeCode": 1,
           "FishPresent": "No",
           "FishUse": 10,
           "FishUseCriteriaCode": 12,
           "FloodingImpactsToRoad": "No",
           "GlobalID": "{9982B08F-69A0-4376-97CC-930BE9E7015D}",
           "InfrastructureDBAssetID": null,
           "InspectedBy": "RC, ZM",
           "InspectedDate": "2019-10-03T20:37:20",
           "InspectionStatus": "Level A and Level B Complete",
           "InventoryArea": 8,
           "LastEditBy": "rcrawford",
           "LastEditDate": "2019-10-15T07:46:35",
           "LoadDate": "2019-04-01T12:00:00",
           "LoadedBy": "randleb",
           "Method": null,
           "NoAssessmentReason": null,
           "Notes": null,
           "OBJECTID": 46,
           "OfficeReviewBy": "Rachel",
           "OwnerEntity": "Roads",
           "PercentFishPassability": "99",
           "PollutionIndicator": "Not Applicable",
           "PotentialSpecies": null,
           "Priority": null,
           "QCFlag": null,
           "Revisit": null,
           "USPermission": "Acquire",
           "WDFWID": null
          },
          "type": "Feature"
         },
         {
          "geometry": {
           "coordinates": [
            -122.08978422632097,
            47.257305960388436
           ],
           "type": "Point"
          },
          "id": "46",
          "properties": {
           "AboveNaturalBarrier": null,
           "ApprovedBy": null,
           "ApprovedDate": null,
           "AssetID": 4157,
           "AssignedTo": null,
           "BarrierType": "40",
           "CurrentStatus": "Active",
           "DBAssetID": "FPS-4157",
           "DSPermission": "Acquire",
           "DataStage": "Process",
           "FieldVisitDate": "2019-06-03T21:39:21",
           "FieldVisitedBy": "KK, RC, AW",
           "FishPassageBarrierStatusCode": "99",
           "FishPassageFeatureTypeCode": 1,
           "FishPresent": "No",
           "FishUse": 10,
           "FishUseCriteriaCode": 12,
           "FloodingImpactsToRoad": "No",
           "GlobalID": "{BA2649B4-29C3-46D1-8BA0-F637DA6328A0}",
           "InfrastructureDBAssetID": null,
           "InspectedBy": "KK, RC, AW",
           "InspectedDate": "2019-06-03T21:39:21",
           "InspectionStatus": "Level A and Level B Complete",
           "InventoryArea": 3,
           "LastEditBy": "randleb",
           "LastEditDate": "2019-09-19T12:31:58",
           "LoadDate": "2019-06-03T21:39:54",
           "LoadedBy": "KK",
           "Method": null,
           "NoAssessmentReason": null,
           "Notes": null,
           "OBJECTID": 47,
           "OfficeReviewBy": "Kat",
           "OwnerEntity": "Roads",
           "PercentFishPassability": "99",
           "PollutionIndicator": "Floatables",
           "PotentialSpecies": null,
           "Priority": null,
           "QCFlag": null,
           "Revisit": null,
           "USPermission": "Acquire",
           "WDFWID": null
          },
          "type": "Feature"
         },
         {
          "geometry": {
           "coordinates": [
            -122.09007565685566,
            47.25718707725552
           ],
           "type": "Point"
          },
          "id": "47",
          "properties": {
           "AboveNaturalBarrier": null,
           "ApprovedBy": null,
           "ApprovedDate": null,
           "AssetID": 4158,
           "AssignedTo": null,
           "BarrierType": "40",
           "CurrentStatus": "Active",
           "DBAssetID": "FPS-4158",
           "DSPermission": null,
           "DataStage": "Process",
           "FieldVisitDate": "2019-06-04T16:14:14",
           "FieldVisitedBy": "KK, RC",
           "FishPassageBarrierStatusCode": "99",
           "FishPassageFeatureTypeCode": 1,
           "FishPresent": "No",
           "FishUse": 10,
           "FishUseCriteriaCode": 12,
           "FloodingImpactsToRoad": "No",
           "GlobalID": "{28F29429-3F47-4B82-960A-BA4BBFD28131}",
           "InfrastructureDBAssetID": null,
           "InspectedBy": "KK, RC",
           "InspectedDate": "2019-06-04T16:14:14",
           "InspectionStatus": "Level A and Level B Complete",
           "InventoryArea": 3,
           "LastEditBy": "randleb",
           "LastEditDate": "2019-09-19T12:32:00",
           "LoadDate": "2019-06-04T16:14:14",
           "LoadedBy": "KK, RC",
           "Method": null,
           "NoAssessmentReason": null,
           "Notes": null,
           "OBJECTID": 48,
           "OfficeReviewBy": "Kat",
           "OwnerEntity": "Roads",
           "PercentFishPassability": "99",
           "PollutionIndicator": "Floatables",
           "PotentialSpecies": null,
           "Priority": null,
           "QCFlag": null,
           "Revisit": null,
           "USPermission": null,
           "WDFWID": null
          },
          "type": "Feature"
         },
         {
          "geometry": {
           "coordinates": [
            -122.08970345716615,
            47.25718902565803
           ],
           "type": "Point"
          },
          "id": "48",
          "properties": {
           "AboveNaturalBarrier": null,
           "ApprovedBy": null,
           "ApprovedDate": null,
           "AssetID": 4159,
           "AssignedTo": null,
           "BarrierType": "40",
           "CurrentStatus": "Active",
           "DBAssetID": "FPS-4159",
           "DSPermission": null,
           "DataStage": "Process",
           "FieldVisitDate": "2019-06-04T17:14:04",
           "FieldVisitedBy": "KK, RC",
           "FishPassageBarrierStatusCode": "99",
           "FishPassageFeatureTypeCode": 1,
           "FishPresent": "No",
           "FishUse": 10,
           "FishUseCriteriaCode": 12,
           "FloodingImpactsToRoad": "No",
           "GlobalID": "{57557867-3204-4CEB-AD7E-9D188725A03C}",
           "InfrastructureDBAssetID": null,
           "InspectedBy": "KK, RC",
           "InspectedDate": "2019-06-04T17:14:04",
           "InspectionStatus": "Level A and Level B Complete",
           "InventoryArea": 3,
           "LastEditBy": "randleb",
           "LastEditDate": "2019-09-19T12:32:00",
           "LoadDate": "2019-06-04T17:14:04",
           "LoadedBy": "KK, RC",
           "Method": null,
           "NoAssessmentReason": null,
           "Notes": "Culvert assets number 72,190",
           "OBJECTID": 49,
           "OfficeReviewBy": "Kat",
           "OwnerEntity": "Roads",
           "PercentFishPassability": "99",
           "PollutionIndicator": "Floatables",
           "PotentialSpecies": null,
           "Priority": null,
           "QCFlag": null,
           "Revisit": null,
           "USPermission": null,
           "WDFWID": null
          },
          "type": "Feature"
         },
         {
          "geometry": {
           "coordinates": [
            -122.1093419487747,
            47.386952594417
           ],
           "type": "Point"
          },
          "id": "49",
          "properties": {
           "AboveNaturalBarrier": null,
           "ApprovedBy": null,
           "ApprovedDate": null,
           "AssetID": 1997,
           "AssignedTo": null,
           "BarrierType": "20",
           "CurrentStatus": "Active",
           "DBAssetID": "FPS-1997",
           "DSPermission": "Acquire",
           "DataStage": "Office Review",
           "FieldVisitDate": "2019-10-22T18:15:33",
           "FieldVisitedBy": "KK, ZM",
           "FishPassageBarrierStatusCode": "10",
           "FishPassageFeatureTypeCode": 1,
           "FishPresent": "No",
           "FishUse": 10,
           "FishUseCriteriaCode": 10,
           "FloodingImpactsToRoad": "No",
           "GlobalID": "{7D77B252-226C-4315-A5A2-15E28371DED3}",
           "InfrastructureDBAssetID": null,
           "InspectedBy": "Washington Department of Fish and Wildlife",
           "InspectedDate": "2009-06-16T00:00:00",
           "InspectionStatus": "Level A and Level B Complete",
           "InventoryArea": 5,
           "LastEditBy": "KK, ZM",
           "LastEditDate": "2019-10-22T18:15:33",
           "LoadDate": "2019-04-01T12:00:00",
           "LoadedBy": "randleb",
           "Method": "LA",
           "NoAssessmentReason": null,
           "Notes": null,
           "OBJECTID": 50,
           "OfficeReviewBy": "Zach",
           "OwnerEntity": "Roads",
           "PercentFishPassability": "10",
           "PollutionIndicator": "Not Applicable",
           "PotentialSpecies": " Chinook, Coho, Steelhead, SR Cutthroat, Resident Trout",
           "Priority": null,
           "QCFlag": null,
           "Revisit": null,
           "USPermission": "Acquire",
           "WDFWID": "810110"
          },
          "type": "Feature"
         },
         {
          "geometry": {
           "coordinates": [
            -122.13323515288744,
            47.49230284021548
           ],
           "type": "Point"
          },
          "id": "50",
          "properties": {
           "AboveNaturalBarrier": null,
           "ApprovedBy": null,
           "ApprovedDate": null,
           "AssetID": 2261,
           "AssignedTo": null,
           "BarrierType": "40",
           "CurrentStatus": "Active",
           "DBAssetID": "FPS-2261",
           "DSPermission": "Acquire",
           "DataStage": "Acquire",
           "FieldVisitDate": "2019-09-19T19:08:35",
           "FieldVisitedBy": "KK, RC",
           "FishPassageBarrierStatusCode": "99",
           "FishPassageFeatureTypeCode": 6,
           "FishPresent": "No",
           "FishUse": 10,
           "FishUseCriteriaCode": 12,
           "FloodingImpactsToRoad": "No",
           "GlobalID": "{970B257C-B6C0-4E11-8467-EADE41BDAC5A}",
           "InfrastructureDBAssetID": null,
           "InspectedBy": "KK, RC",
           "InspectedDate": "2019-09-19T19:08:35",
           "InspectionStatus": "Level A Complete Level B Needed",
           "InventoryArea": 8,
           "LastEditBy": "rcrawford",
           "LastEditDate": "2019-10-02T08:44:32",
           "LoadDate": "2019-04-01T12:00:00",
           "LoadedBy": "randleb",
           "Method": null,
           "NoAssessmentReason": null,
           "Notes": "Could not assess 2.0 or 3.0 or 4.0 or 5.0 due to lip overhanging pipe inlets and outlets ",
           "OBJECTID": 51,
           "OfficeReviewBy": "Kat",
           "OwnerEntity": "Roads",
           "PercentFishPassability": "99",
           "PollutionIndicator": "Poor standing water quality",
           "PotentialSpecies": null,
           "Priority": null,
           "QCFlag": null,
           "Revisit": null,
           "USPermission": "Acquire",
           "WDFWID": null
          },
          "type": "Feature"
         },
         {
          "geometry": {
           "coordinates": [
            -122.14153671492424,
            47.468009887672
           ],
           "type": "Point"
          },
          "id": "51",
          "properties": {
           "AboveNaturalBarrier": null,
           "ApprovedBy": null,
           "ApprovedDate": null,
           "AssetID": 9433,
           "AssignedTo": null,
           "BarrierType": "40",
           "CurrentStatus": "Active",
           "DBAssetID": "FPS-9433",
           "DSPermission": null,
           "DataStage": "Process",
           "FieldVisitDate": "2019-10-07T18:03:23",
           "FieldVisitedBy": "KK, LL",
           "FishPassageBarrierStatusCode": "99",
           "FishPassageFeatureTypeCode": 1,
           "FishPresent": "No",
           "FishUse": 10,
           "FishUseCriteriaCode": 12,
           "FloodingImpactsToRoad": "No",
           "GlobalID": "{59D6270E-6155-4B10-A1A2-B4DC66E9268C}",
           "InfrastructureDBAssetID": null,
           "InspectedBy": "KK, LL",
           "InspectedDate": "2019-10-01T21:14:51",
           "InspectionStatus": "Level A and Level B Complete",
           "InventoryArea": 8,
           "LastEditBy": "kkrohn",
           "LastEditDate": "2019-10-08T07:39:33",
           "LoadDate": "2019-09-25T18:25:39",
           "LoadedBy": "KK, ZM",
           "Method": null,
           "NoAssessmentReason": null,
           "Notes": "Confused about construction and altering of stream flow (flow currently routed in ditch thru this culvert but it looks like it will be rerouted through newly constructed channel). Outlet of this trib to cedar filled in with rip rap near bulkhead",
           "OBJECTID": 52,
           "OfficeReviewBy": "Kat",
           "OwnerEntity": "Roads",
           "PercentFishPassability": "99",
           "PollutionIndicator": "Floatables",
           "PotentialSpecies": null,
           "Priority": null,
           "QCFlag": null,
           "Revisit": null,
           "USPermission": null,
           "WDFWID": null
          },
          "type": "Feature"
         },
         {
          "geometry": {
           "coordinates": [
            -121.96341714240373,
            47.18049009889207
           ],
           "type": "Point"
          },
          "id": "52",
          "properties": {
           "AboveNaturalBarrier": null,
           "ApprovedBy": null,
           "ApprovedDate": null,
           "AssetID": 9490,
           "AssignedTo": null,
           "BarrierType": null,
           "CurrentStatus": "Active",
           "DBAssetID": "FPS-9490",
           "DSPermission": null,
           "DataStage": "Process",
           "FieldVisitDate": "2019-10-14T18:47:45",
           "FieldVisitedBy": "LL,BF",
           "FishPassageBarrierStatusCode": "99",
           "FishPassageFeatureTypeCode": 1,
           "FishPresent": "No",
           "FishUse": 10,
           "FishUseCriteriaCode": 12,
           "FloodingImpactsToRoad": "No",
           "GlobalID": "{57312CE2-5E9D-4CB9-9A6A-587555D63602}",
           "InfrastructureDBAssetID": null,
           "InspectedBy": "LL,BF",
           "InspectedDate": "2019-10-14T18:47:45",
           "InspectionStatus": "Level A and Level B Complete",
           "InventoryArea": 3,
           "LastEditBy": "llewellynl",
           "LastEditDate": "2019-10-15T16:59:17",
           "LoadDate": "2019-10-14T18:47:45",
           "LoadedBy": "LL,BF",
           "Method": null,
           "NoAssessmentReason": null,
           "Notes": null,
           "OBJECTID": 53,
           "OfficeReviewBy": "Liora",
           "OwnerEntity": "Roads",
           "PercentFishPassability": "99",
           "PollutionIndicator": "Not Applicable",
           "PotentialSpecies": null,
           "Priority": null,
           "QCFlag": null,
           "Revisit": null,
           "USPermission": null,
           "WDFWID": null
          },
          "type": "Feature"
         }
        ],
        "type": "FeatureCollection"
       },
       "name": "Level B Sites"
      }
     },
     "3ad998650f1f45a89c71ff773787791d": {
      "model_module": "jupyter-leaflet",
      "model_module_version": "^0.11.4",
      "model_name": "LeafletMapStyleModel",
      "state": {
       "_model_module_version": "^0.11.4",
       "_view_count": null,
       "_view_module": "@jupyter-widgets/base",
       "_view_module_version": "1.2.0",
       "_view_name": "StyleView",
       "cursor": "grab"
      }
     },
     "3d465b5c243049bcb5d12fb858f370ba": {
      "model_module": "@jupyter-widgets/controls",
      "model_module_version": "1.5.0",
      "model_name": "TextareaModel",
      "state": {
       "description": "ID:",
       "disabled": true,
       "layout": "IPY_MODEL_831a8a516fff48dc98df33748cf608f7",
       "style": "IPY_MODEL_89074714ff8a4594ad6a47346d7e7940",
       "value": "FPS-2425"
      }
     },
     "400ead45b11d4d07a75b58efb830118a": {
      "model_module": "@jupyter-widgets/base",
      "model_module_version": "1.2.0",
      "model_name": "LayoutModel",
      "state": {}
     },
     "5c5e2708030c4f39918d1ff93648dc32": {
      "model_module": "jupyter-leaflet",
      "model_module_version": "^0.11.4",
      "model_name": "LeafletCircleMarkerModel",
      "state": {
       "_model_module_version": "^0.11.4",
       "_view_count": null,
       "_view_module_version": "^0.11.4",
       "fill_color": "blue",
       "location": [
        47.51324591666263,
        -122.31042579366114
       ],
       "name": "Buffer",
       "options": [
        "class_name",
        "color",
        "dash_array",
        "fill",
        "fill_color",
        "fill_opacity",
        "line_cap",
        "line_join",
        "opacity",
        "pointer_events",
        "radius",
        "stroke",
        "weight"
       ],
       "radius": 50,
       "stroke": false
      }
     },
     "60540d3fbfc34b22b83f7dab5928c473": {
      "model_module": "@jupyter-widgets/controls",
      "model_module_version": "1.5.0",
      "model_name": "ButtonStyleModel",
      "state": {}
     },
     "6c2682de0e944405b4fcffbbda65dcb2": {
      "model_module": "@jupyter-widgets/base",
      "model_module_version": "1.2.0",
      "model_name": "LayoutModel",
      "state": {
       "margin": "10px 10px 10px 10px"
      }
     },
     "6e35172b79454c64a87dc44b30a7aaf7": {
      "model_module": "@jupyter-widgets/base",
      "model_module_version": "1.2.0",
      "model_name": "LayoutModel",
      "state": {}
     },
     "7bbc9a2fded74c689ab817a40e857943": {
      "model_module": "jupyter-leaflet",
      "model_module_version": "^0.11.4",
      "model_name": "LeafletLayersControlModel",
      "state": {
       "_model_module_version": "^0.11.4",
       "_view_count": null,
       "_view_module_version": "^0.11.4",
       "options": [
        "position"
       ],
       "position": "topright"
      }
     },
     "814aecc2d91a43f19aa25bdca6483e75": {
      "model_module": "@jupyter-widgets/base",
      "model_module_version": "1.2.0",
      "model_name": "LayoutModel",
      "state": {}
     },
     "831a8a516fff48dc98df33748cf608f7": {
      "model_module": "@jupyter-widgets/base",
      "model_module_version": "1.2.0",
      "model_name": "LayoutModel",
      "state": {}
     },
     "89074714ff8a4594ad6a47346d7e7940": {
      "model_module": "@jupyter-widgets/controls",
      "model_module_version": "1.5.0",
      "model_name": "DescriptionStyleModel",
      "state": {
       "description_width": ""
      }
     },
     "92ff0ed7e10c47c7b26e7986ebe37acb": {
      "model_module": "jupyter-leaflet",
      "model_module_version": "^0.11.4",
      "model_name": "LeafletGeoJSONModel",
      "state": {
       "_model_module_version": "^0.11.4",
       "_view_count": null,
       "_view_module_version": "^0.11.4",
       "data": {
        "features": [
         {
          "geometry": {
           "coordinates": [
            [
             [
              [
               -122.31038700387867,
               47.513512344592904
              ],
              [
               -122.31029717235027,
               47.513512344592904
              ],
              [
               -122.31029717235027,
               47.51360217612132
              ],
              [
               -122.31011750929345,
               47.51360217612132
              ],
              [
               -122.31011750929345,
               47.513512344592904
              ],
              [
               -122.31002767776504,
               47.513512344592904
              ],
              [
               -122.31002767776504,
               47.51342251306449
              ],
              [
               -122.30993784623662,
               47.51342251306449
              ],
              [
               -122.30993784623662,
               47.51333268153608
              ],
              [
               -122.30984801470821,
               47.51333268153608
              ],
              [
               -122.30984801470821,
               47.51324285000767
              ],
              [
               -122.3097581831798,
               47.51324285000767
              ],
              [
               -122.3097581831798,
               47.51315301847926
              ],
              [
               -122.30957852012297,
               47.51315301847926
              ],
              [
               -122.30957852012297,
               47.513063186950845
              ],
              [
               -122.30948868859456,
               47.513063186950845
              ],
              [
               -122.30948868859456,
               47.51243436625196
              ],
              [
               -122.30939885706614,
               47.51243436625196
              ],
              [
               -122.30939885706614,
               47.51126655638261
              ],
              [
               -122.30948868859456,
               47.51126655638261
              ],
              [
               -122.30948868859456,
               47.510458072626896
              ],
              [
               -122.30939885706614,
               47.510458072626896
              ],
              [
               -122.30939885706614,
               47.510188578041664
              ],
              [
               -122.30930902553774,
               47.510188578041664
              ],
              [
               -122.30930902553774,
               47.509739420399605
              ],
              [
               -122.30921919400933,
               47.509739420399605
              ],
              [
               -122.30921919400933,
               47.50964958887119
              ],
              [
               -122.30912936248092,
               47.50964958887119
              ],
              [
               -122.30912936248092,
               47.50938009428595
              ],
              [
               -122.3090395309525,
               47.50938009428595
              ],
              [
               -122.3090395309525,
               47.509020768172306
              ],
              [
               -122.30894969942409,
               47.509020768172306
              ],
              [
               -122.30894969942409,
               47.50866144205866
              ],
              [
               -122.30885986789568,
               47.50866144205866
              ],
              [
               -122.30885986789568,
               47.5082122844166
              ],
              [
               -122.30877003636726,
               47.5082122844166
              ],
              [
               -122.30877003636726,
               47.50812245288819
              ],
              [
               -122.30868020483885,
               47.50812245288819
              ],
              [
               -122.30868020483885,
               47.508032621359774
              ],
              [
               -122.30859037331044,
               47.508032621359774
              ],
              [
               -122.30859037331044,
               47.50731396913248
              ],
              [
               -122.30850054178202,
               47.50731396913248
              ],
              [
               -122.30850054178202,
               47.50722413760407
              ],
              [
               -122.30841071025361,
               47.50722413760407
              ],
              [
               -122.30841071025361,
               47.507134306075656
              ],
              [
               -122.30832087872521,
               47.507134306075656
              ],
              [
               -122.30832087872521,
               47.50704447454724
              ],
              [
               -122.3082310471968,
               47.50704447454724
              ],
              [
               -122.3082310471968,
               47.50695464301883
              ],
              [
               -122.30814121566839,
               47.50695464301883
              ],
              [
               -122.30814121566839,
               47.50524784397901
              ],
              [
               -122.30805138413997,
               47.50524784397901
              ],
              [
               -122.30805138413997,
               47.50488851786536
              ],
              [
               -122.30796155261156,
               47.50488851786536
              ],
              [
               -122.30796155261156,
               47.50452919175171
              ],
              [
               -122.30787172108315,
               47.50452919175171
              ],
              [
               -122.30787172108315,
               47.50434952869489
              ],
              [
               -122.30778188955473,
               47.50434952869489
              ],
              [
               -122.30778188955473,
               47.504259697166475
              ],
              [
               -122.30769205802632,
               47.504259697166475
              ],
              [
               -122.30769205802632,
               47.50416986563806
              ],
              [
               -122.3076022264979,
               47.50416986563806
              ],
              [
               -122.3076022264979,
               47.50390037105283
              ],
              [
               -122.30751239496949,
               47.50390037105283
              ],
              [
               -122.30751239496949,
               47.503810539524416
              ],
              [
               -122.30733273191268,
               47.503810539524416
              ],
              [
               -122.30733273191268,
               47.503541044939176
              ],
              [
               -122.30742256344108,
               47.503541044939176
              ],
              [
               -122.3076022264979,
               47.503541044939176
              ],
              [
               -122.3076022264979,
               47.50345121341076
              ],
              [
               -122.30769205802632,
               47.50345121341076
              ],
              [
               -122.30769205802632,
               47.50336138188236
              ],
              [
               -122.30778188955473,
               47.50336138188236
              ],
              [
               -122.30778188955473,
               47.503271550353944
              ],
              [
               -122.30787172108315,
               47.503271550353944
              ],
              [
               -122.30787172108315,
               47.50318171882553
              ],
              [
               -122.30796155261156,
               47.50318171882553
              ],
              [
               -122.30805138413997,
               47.50318171882553
              ],
              [
               -122.30805138413997,
               47.50309188729712
              ],
              [
               -122.30814121566839,
               47.50309188729712
              ],
              [
               -122.30814121566839,
               47.503002055768704
              ],
              [
               -122.3082310471968,
               47.503002055768704
              ],
              [
               -122.3082310471968,
               47.5029122242403
              ],
              [
               -122.30832087872521,
               47.5029122242403
              ],
              [
               -122.30841071025361,
               47.5029122242403
              ],
              [
               -122.30841071025361,
               47.502822392711884
              ],
              [
               -122.30850054178202,
               47.502822392711884
              ],
              [
               -122.30859037331044,
               47.502822392711884
              ],
              [
               -122.30859037331044,
               47.50273256118347
              ],
              [
               -122.30868020483885,
               47.50273256118347
              ],
              [
               -122.30868020483885,
               47.50264272965506
              ],
              [
               -122.30894969942409,
               47.50264272965506
              ],
              [
               -122.30894969942409,
               47.50273256118347
              ],
              [
               -122.30921919400933,
               47.50273256118347
              ],
              [
               -122.30921919400933,
               47.50264272965506
              ],
              [
               -122.30930902553774,
               47.50264272965506
              ],
              [
               -122.30939885706614,
               47.50264272965506
              ],
              [
               -122.30939885706614,
               47.502552898126645
              ],
              [
               -122.30948868859456,
               47.502552898126645
              ],
              [
               -122.30966835165138,
               47.502552898126645
              ],
              [
               -122.30966835165138,
               47.50246306659823
              ],
              [
               -122.3097581831798,
               47.50246306659823
              ],
              [
               -122.30984801470821,
               47.50246306659823
              ],
              [
               -122.30984801470821,
               47.502373235069825
              ],
              [
               -122.30993784623662,
               47.502373235069825
              ],
              [
               -122.31002767776504,
               47.502373235069825
              ],
              [
               -122.31002767776504,
               47.50228340354141
              ],
              [
               -122.31029717235027,
               47.50228340354141
              ],
              [
               -122.31029717235027,
               47.502373235069825
              ],
              [
               -122.31083616152074,
               47.502373235069825
              ],
              [
               -122.31083616152074,
               47.50228340354141
              ],
              [
               -122.31092599304915,
               47.50228340354141
              ],
              [
               -122.31101582457757,
               47.50228340354141
              ],
              [
               -122.31101582457757,
               47.502193572013
              ],
              [
               -122.31110565610598,
               47.502193572013
              ],
              [
               -122.31110565610598,
               47.502103740484586
              ],
              [
               -122.3111954876344,
               47.502103740484586
              ],
              [
               -122.3111954876344,
               47.50201390895617
              ],
              [
               -122.3112853191628,
               47.50201390895617
              ],
              [
               -122.3112853191628,
               47.501924077427766
              ],
              [
               -122.3113751506912,
               47.501924077427766
              ],
              [
               -122.3113751506912,
               47.50183424589935
              ],
              [
               -122.31146498221962,
               47.50183424589935
              ],
              [
               -122.31146498221962,
               47.50174441437094
              ],
              [
               -122.31155481374803,
               47.50174441437094
              ],
              [
               -122.31155481374803,
               47.50129525672888
              ],
              [
               -122.31146498221962,
               47.50129525672888
              ],
              [
               -122.31146498221962,
               47.50120542520047
              ],
              [
               -122.3113751506912,
               47.50120542520047
              ],
              [
               -122.3113751506912,
               47.50102576214364
              ],
              [
               -122.3112853191628,
               47.50102576214364
              ],
              [
               -122.3112853191628,
               47.500935930615235
              ],
              [
               -122.3111954876344,
               47.500935930615235
              ],
              [
               -122.3111954876344,
               47.50084609908682
              ],
              [
               -122.31110565610598,
               47.50084609908682
              ],
              [
               -122.31110565610598,
               47.50075626755841
              ],
              [
               -122.31101582457757,
               47.50075626755841
              ],
              [
               -122.31101582457757,
               47.500666436029995
              ],
              [
               -122.31110565610598,
               47.500666436029995
              ],
              [
               -122.31110565610598,
               47.50057660450158
              ],
              [
               -122.3111954876344,
               47.50057660450158
              ],
              [
               -122.3111954876344,
               47.50048677297317
              ],
              [
               -122.3112853191628,
               47.50048677297317
              ],
              [
               -122.3112853191628,
               47.50039694144476
              ],
              [
               -122.3113751506912,
               47.50039694144476
              ],
              [
               -122.3113751506912,
               47.50030710991635
              ],
              [
               -122.31146498221962,
               47.50030710991635
              ],
              [
               -122.31146498221962,
               47.500217278387936
              ],
              [
               -122.31155481374803,
               47.500217278387936
              ],
              [
               -122.31209380291851,
               47.500217278387936
              ],
              [
               -122.31209380291851,
               47.50012744685952
              ],
              [
               -122.31218363444692,
               47.50012744685952
              ],
              [
               -122.31218363444692,
               47.50003761533111
              ],
              [
               -122.31227346597534,
               47.50003761533111
              ],
              [
               -122.31227346597534,
               47.4999477838027
              ],
              [
               -122.31236329750374,
               47.4999477838027
              ],
              [
               -122.31236329750374,
               47.49985795227429
              ],
              [
               -122.31245312903215,
               47.49985795227429
              ],
              [
               -122.31245312903215,
               47.49976812074588
              ],
              [
               -122.31254296056056,
               47.49976812074588
              ],
              [
               -122.31254296056056,
               47.499678289217464
              ],
              [
               -122.31263279208898,
               47.499678289217464
              ],
              [
               -122.31263279208898,
               47.49958845768905
              ],
              [
               -122.31272262361739,
               47.49958845768905
              ],
              [
               -122.31272262361739,
               47.49949862616064
              ],
              [
               -122.3128124551458,
               47.49949862616064
              ],
              [
               -122.3128124551458,
               47.49940879463223
              ],
              [
               -122.31290228667422,
               47.49940879463223
              ],
              [
               -122.31290228667422,
               47.499229131575404
              ],
              [
               -122.31299211820263,
               47.499229131575404
              ],
              [
               -122.31299211820263,
               47.49913930004699
              ],
              [
               -122.31308194973104,
               47.49913930004699
              ],
              [
               -122.31308194973104,
               47.49904946851858
              ],
              [
               -122.31317178125946,
               47.49904946851858
              ],
              [
               -122.31317178125946,
               47.49895963699017
              ],
              [
               -122.31326161278787,
               47.49895963699017
              ],
              [
               -122.31326161278787,
               47.49886980546176
              ],
              [
               -122.31335144431627,
               47.49886980546176
              ],
              [
               -122.31335144431627,
               47.498779973933345
              ],
              [
               -122.31344127584468,
               47.498779973933345
              ],
              [
               -122.31344127584468,
               47.49869014240493
              ],
              [
               -122.3135311073731,
               47.49869014240493
              ],
              [
               -122.3135311073731,
               47.49860031087652
              ],
              [
               -122.31362093890151,
               47.49860031087652
              ],
              [
               -122.31362093890151,
               47.498510479348106
              ],
              [
               -122.31371077042992,
               47.498510479348106
              ],
              [
               -122.31371077042992,
               47.4984206478197
              ],
              [
               -122.31380060195833,
               47.4984206478197
              ],
              [
               -122.31380060195833,
               47.498330816291286
              ],
              [
               -122.31389043348675,
               47.498330816291286
              ],
              [
               -122.31389043348675,
               47.49824098476287
              ],
              [
               -122.31398026501516,
               47.49824098476287
              ],
              [
               -122.31398026501516,
               47.49815115323446
              ],
              [
               -122.31407009654357,
               47.49815115323446
              ],
              [
               -122.31407009654357,
               47.49806132170605
              ],
              [
               -122.31415992807199,
               47.49806132170605
              ],
              [
               -122.31415992807199,
               47.49797149017764
              ],
              [
               -122.3142497596004,
               47.49797149017764
              ],
              [
               -122.3142497596004,
               47.49788165864923
              ],
              [
               -122.3143395911288,
               47.49788165864923
              ],
              [
               -122.3143395911288,
               47.497791827120814
              ],
              [
               -122.31442942265721,
               47.497791827120814
              ],
              [
               -122.31442942265721,
               47.4977019955924
              ],
              [
               -122.31451925418563,
               47.4977019955924
              ],
              [
               -122.31451925418563,
               47.497522332535574
              ],
              [
               -122.31460908571404,
               47.497522332535574
              ],
              [
               -122.31460908571404,
               47.49743250100717
              ],
              [
               -122.31469891724245,
               47.49743250100717
              ],
              [
               -122.31469891724245,
               47.497342669478755
              ],
              [
               -122.31478874877087,
               47.497342669478755
              ],
              [
               -122.31478874877087,
               47.49725283795034
              ],
              [
               -122.31487858029928,
               47.49725283795034
              ],
              [
               -122.31487858029928,
               47.497073174893515
              ],
              [
               -122.31496841182769,
               47.497073174893515
              ],
              [
               -122.31496841182769,
               47.49716300642193
              ],
              [
               -122.3150582433561,
               47.49716300642193
              ],
              [
               -122.3150582433561,
               47.49725283795034
              ],
              [
               -122.31514807488452,
               47.49725283795034
              ],
              [
               -122.31514807488452,
               47.497342669478755
              ],
              [
               -122.31523790641293,
               47.497342669478755
              ],
              [
               -122.31523790641293,
               47.49743250100717
              ],
              [
               -122.31532773794133,
               47.49743250100717
              ],
              [
               -122.31532773794133,
               47.497522332535574
              ],
              [
               -122.31541756946974,
               47.497522332535574
              ],
              [
               -122.31541756946974,
               47.49761216406399
              ],
              [
               -122.31559723252657,
               47.49761216406399
              ],
              [
               -122.31559723252657,
               47.4977019955924
              ],
              [
               -122.31568706405498,
               47.4977019955924
              ],
              [
               -122.31568706405498,
               47.497791827120814
              ],
              [
               -122.3157768955834,
               47.497791827120814
              ],
              [
               -122.3157768955834,
               47.49788165864923
              ],
              [
               -122.31586672711181,
               47.49788165864923
              ],
              [
               -122.31586672711181,
               47.49797149017764
              ],
              [
               -122.31604639016864,
               47.49797149017764
              ],
              [
               -122.31604639016864,
               47.49824098476287
              ],
              [
               -122.31613622169705,
               47.49824098476287
              ],
              [
               -122.31613622169705,
               47.498330816291286
              ],
              [
               -122.31622605322546,
               47.498330816291286
              ],
              [
               -122.31622605322546,
               47.4984206478197
              ],
              [
               -122.31631588475386,
               47.4984206478197
              ],
              [
               -122.31631588475386,
               47.498510479348106
              ],
              [
               -122.31667521086752,
               47.498510479348106
              ],
              [
               -122.31667521086752,
               47.49860031087652
              ],
              [
               -122.31685487392434,
               47.49860031087652
              ],
              [
               -122.31685487392434,
               47.49869014240493
              ],
              [
               -122.31703453698117,
               47.49869014240493
              ],
              [
               -122.31703453698117,
               47.49931896310382
              ],
              [
               -122.31712436850958,
               47.49931896310382
              ],
              [
               -122.31712436850958,
               47.49949862616064
              ],
              [
               -122.317214200038,
               47.49949862616064
              ],
              [
               -122.317214200038,
               47.49958845768905
              ],
              [
               -122.3173040315664,
               47.49958845768905
              ],
              [
               -122.3173040315664,
               47.49985795227429
              ],
              [
               -122.31739386309481,
               47.49985795227429
              ],
              [
               -122.31739386309481,
               47.50084609908682
              ],
              [
               -122.3173040315664,
               47.50084609908682
              ],
              [
               -122.3173040315664,
               47.50129525672888
              ],
              [
               -122.317214200038,
               47.50129525672888
              ],
              [
               -122.317214200038,
               47.502193572013
              ],
              [
               -122.31712436850958,
               47.502193572013
              ],
              [
               -122.31712436850958,
               47.5029122242403
              ],
              [
               -122.317214200038,
               47.5029122242403
              ],
              [
               -122.317214200038,
               47.50345121341076
              ],
              [
               -122.31712436850958,
               47.50345121341076
              ],
              [
               -122.31712436850958,
               47.503720707996
              ],
              [
               -122.31703453698117,
               47.503720707996
              ],
              [
               -122.31703453698117,
               47.503810539524416
              ],
              [
               -122.31694470545276,
               47.503810539524416
              ],
              [
               -122.31694470545276,
               47.50452919175171
              ],
              [
               -122.31703453698117,
               47.50452919175171
              ],
              [
               -122.31703453698117,
               47.50461902328012
              ],
              [
               -122.31712436850958,
               47.50461902328012
              ],
              [
               -122.31712436850958,
               47.50497834939377
              ],
              [
               -122.317214200038,
               47.50497834939377
              ],
              [
               -122.317214200038,
               47.50515801245059
              ],
              [
               -122.3173040315664,
               47.50515801245059
              ],
              [
               -122.3173040315664,
               47.505697001621066
              ],
              [
               -122.317214200038,
               47.505697001621066
              ],
              [
               -122.317214200038,
               47.50587666467789
              ],
              [
               -122.31712436850958,
               47.50587666467789
              ],
              [
               -122.31712436850958,
               47.506146159263125
              ],
              [
               -122.31703453698117,
               47.506146159263125
              ],
              [
               -122.31703453698117,
               47.50632582231995
              ],
              [
               -122.31694470545276,
               47.50632582231995
              ],
              [
               -122.31694470545276,
               47.50686481149042
              ],
              [
               -122.31685487392434,
               47.50686481149042
              ],
              [
               -122.31685487392434,
               47.50740380066089
              ],
              [
               -122.31676504239593,
               47.50740380066089
              ],
              [
               -122.31667521086752,
               47.50740380066089
              ],
              [
               -122.31667521086752,
               47.5074936321893
              ],
              [
               -122.3165853793391,
               47.5074936321893
              ],
              [
               -122.3165853793391,
               47.507583463717715
              ],
              [
               -122.31649554781069,
               47.507583463717715
              ],
              [
               -122.31649554781069,
               47.509020768172306
              ],
              [
               -122.31640571628228,
               47.509020768172306
              ],
              [
               -122.31640571628228,
               47.50920043122913
              ],
              [
               -122.31631588475386,
               47.50920043122913
              ],
              [
               -122.31631588475386,
               47.509290262757546
              ],
              [
               -122.31622605322546,
               47.509290262757546
              ],
              [
               -122.31622605322546,
               47.50938009428595
              ],
              [
               -122.31613622169705,
               47.50938009428595
              ],
              [
               -122.31613622169705,
               47.509469925814365
              ],
              [
               -122.31604639016864,
               47.509469925814365
              ],
              [
               -122.31604639016864,
               47.50955975734278
              ],
              [
               -122.31595655864022,
               47.50955975734278
              ],
              [
               -122.31595655864022,
               47.50964958887119
              ],
              [
               -122.31586672711181,
               47.50964958887119
              ],
              [
               -122.31586672711181,
               47.509739420399605
              ],
              [
               -122.3157768955834,
               47.509739420399605
              ],
              [
               -122.3157768955834,
               47.50982925192802
              ],
              [
               -122.31568706405498,
               47.50982925192802
              ],
              [
               -122.31568706405498,
               47.509919083456424
              ],
              [
               -122.31559723252657,
               47.509919083456424
              ],
              [
               -122.31550740099816,
               47.509919083456424
              ],
              [
               -122.31550740099816,
               47.51000891498484
              ],
              [
               -122.31541756946974,
               47.51000891498484
              ],
              [
               -122.31541756946974,
               47.51009874651325
              ],
              [
               -122.31532773794133,
               47.51009874651325
              ],
              [
               -122.31532773794133,
               47.510188578041664
              ],
              [
               -122.31523790641293,
               47.510188578041664
              ],
              [
               -122.31523790641293,
               47.51027840957008
              ],
              [
               -122.31514807488452,
               47.51027840957008
              ],
              [
               -122.31514807488452,
               47.51036824109848
              ],
              [
               -122.31487858029928,
               47.51036824109848
              ],
              [
               -122.31478874877087,
               47.51036824109848
              ],
              [
               -122.31478874877087,
               47.510458072626896
              ],
              [
               -122.31469891724245,
               47.510458072626896
              ],
              [
               -122.31460908571404,
               47.510458072626896
              ],
              [
               -122.31460908571404,
               47.51054790415531
              ],
              [
               -122.31451925418563,
               47.51054790415531
              ],
              [
               -122.31451925418563,
               47.51063773568372
              ],
              [
               -122.31442942265721,
               47.51063773568372
              ],
              [
               -122.31442942265721,
               47.510727567212136
              ],
              [
               -122.3143395911288,
               47.510727567212136
              ],
              [
               -122.3143395911288,
               47.51081739874055
              ],
              [
               -122.3142497596004,
               47.51081739874055
              ],
              [
               -122.3142497596004,
               47.510907230268955
              ],
              [
               -122.31415992807199,
               47.510907230268955
              ],
              [
               -122.31415992807199,
               47.51099706179737
              ],
              [
               -122.31407009654357,
               47.51099706179737
              ],
              [
               -122.31407009654357,
               47.51108689332578
              ],
              [
               -122.31389043348675,
               47.51108689332578
              ],
              [
               -122.31380060195833,
               47.51108689332578
              ],
              [
               -122.31380060195833,
               47.511176724854195
              ],
              [
               -122.31371077042992,
               47.511176724854195
              ],
              [
               -122.31371077042992,
               47.51126655638261
              ],
              [
               -122.31362093890151,
               47.51126655638261
              ],
              [
               -122.31362093890151,
               47.511356387911015
              ],
              [
               -122.3135311073731,
               47.511356387911015
              ],
              [
               -122.3135311073731,
               47.51144621943943
              ],
              [
               -122.31308194973104,
               47.51144621943943
              ],
              [
               -122.31299211820263,
               47.51144621943943
              ],
              [
               -122.31299211820263,
               47.51153605096784
              ],
              [
               -122.31290228667422,
               47.51153605096784
              ],
              [
               -122.31290228667422,
               47.511625882496254
              ],
              [
               -122.3128124551458,
               47.511625882496254
              ],
              [
               -122.3128124551458,
               47.51171571402467
              ],
              [
               -122.31272262361739,
               47.51171571402467
              ],
              [
               -122.31272262361739,
               47.51189537708149
              ],
              [
               -122.31263279208898,
               47.51189537708149
              ],
              [
               -122.31263279208898,
               47.5119852086099
              ],
              [
               -122.31254296056056,
               47.5119852086099
              ],
              [
               -122.31254296056056,
               47.51207504013831
              ],
              [
               -122.31245312903215,
               47.51207504013831
              ],
              [
               -122.31245312903215,
               47.51216487166673
              ],
              [
               -122.31236329750374,
               47.51216487166673
              ],
              [
               -122.31236329750374,
               47.512344534723546
              ],
              [
               -122.31227346597534,
               47.512344534723546
              ],
              [
               -122.31227346597534,
               47.51243436625196
              ],
              [
               -122.31218363444692,
               47.51243436625196
              ],
              [
               -122.31218363444692,
               47.51252419778037
              ],
              [
               -122.31209380291851,
               47.51252419778037
              ],
              [
               -122.31209380291851,
               47.512614029308786
              ],
              [
               -122.3120039713901,
               47.512614029308786
              ],
              [
               -122.3120039713901,
               47.5127038608372
              ],
              [
               -122.31191413986168,
               47.5127038608372
              ],
              [
               -122.31191413986168,
               47.51279369236561
              ],
              [
               -122.31182430833327,
               47.51279369236561
              ],
              [
               -122.31182430833327,
               47.51288352389402
              ],
              [
               -122.31173447680486,
               47.51288352389402
              ],
              [
               -122.31173447680486,
               47.51297335542243
              ],
              [
               -122.31164464527644,
               47.51297335542243
              ],
              [
               -122.31164464527644,
               47.513063186950845
              ],
              [
               -122.31155481374803,
               47.513063186950845
              ],
              [
               -122.31155481374803,
               47.51315301847926
              ],
              [
               -122.31146498221962,
               47.51315301847926
              ],
              [
               -122.31146498221962,
               47.51324285000767
              ],
              [
               -122.3113751506912,
               47.51324285000767
              ],
              [
               -122.3113751506912,
               47.51333268153608
              ],
              [
               -122.3112853191628,
               47.51333268153608
              ],
              [
               -122.3112853191628,
               47.51342251306449
              ],
              [
               -122.3111954876344,
               47.51342251306449
              ],
              [
               -122.31110565610598,
               47.51342251306449
              ],
              [
               -122.31110565610598,
               47.513512344592904
              ],
              [
               -122.31092599304915,
               47.513512344592904
              ],
              [
               -122.31092599304915,
               47.51342251306449
              ],
              [
               -122.31038700387867,
               47.51342251306449
              ],
              [
               -122.31038700387867,
               47.513512344592904
              ]
             ]
            ],
            [
             [
              [
               -122.31047683540709,
               47.51360217612132
              ],
              [
               -122.31038700387867,
               47.51360217612132
              ],
              [
               -122.31038700387867,
               47.513512344592904
              ],
              [
               -122.31047683540709,
               47.513512344592904
              ],
              [
               -122.31047683540709,
               47.51360217612132
              ]
             ]
            ],
            [
             [
              [
               -122.31047683540709,
               47.51360217612132
              ],
              [
               -122.3105666669355,
               47.51360217612132
              ],
              [
               -122.31101582457757,
               47.51360217612132
              ],
              [
               -122.31101582457757,
               47.51369200764973
              ],
              [
               -122.3111954876344,
               47.51369200764973
              ],
              [
               -122.3111954876344,
               47.51387167070655
              ],
              [
               -122.31110565610598,
               47.51387167070655
              ],
              [
               -122.31110565610598,
               47.51396150223496
              ],
              [
               -122.31083616152074,
               47.51396150223496
              ],
              [
               -122.31083616152074,
               47.51387167070655
              ],
              [
               -122.31065649846391,
               47.51387167070655
              ],
              [
               -122.31065649846391,
               47.513781839178144
              ],
              [
               -122.3105666669355,
               47.513781839178144
              ],
              [
               -122.3105666669355,
               47.51369200764973
              ],
              [
               -122.31047683540709,
               47.51369200764973
              ],
              [
               -122.31047683540709,
               47.51360217612132
              ]
             ]
            ]
           ],
           "type": "MultiPolygon"
          },
          "id": "1",
          "properties": {},
          "type": "Feature"
         }
        ],
        "type": "FeatureCollection"
       },
       "name": "watershed"
      }
     },
     "93a6794c31c240d79fa6401182d13842": {
      "model_module": "@jupyter-widgets/base",
      "model_module_version": "1.2.0",
      "model_name": "LayoutModel",
      "state": {
       "height": "400px"
      }
     },
     "aa4c049e2ba44ee7aac650acae4df842": {
      "model_module": "jupyter-leaflet",
      "model_module_version": "^0.11.4",
      "model_name": "LeafletGeoJSONModel",
      "state": {
       "_model_module_version": "^0.11.4",
       "_view_count": null,
       "_view_module_version": "^0.11.4",
       "data": {
        "features": [
         {
          "geometry": {
           "coordinates": [
            [
             [
              [
               -122.31038700387867,
               47.513512344592904
              ],
              [
               -122.31029717235027,
               47.513512344592904
              ],
              [
               -122.31029717235027,
               47.51360217612132
              ],
              [
               -122.31011750929345,
               47.51360217612132
              ],
              [
               -122.31011750929345,
               47.513512344592904
              ],
              [
               -122.31002767776504,
               47.513512344592904
              ],
              [
               -122.31002767776504,
               47.51342251306449
              ],
              [
               -122.30993784623662,
               47.51342251306449
              ],
              [
               -122.30993784623662,
               47.51333268153608
              ],
              [
               -122.30984801470821,
               47.51333268153608
              ],
              [
               -122.30984801470821,
               47.51324285000767
              ],
              [
               -122.3097581831798,
               47.51324285000767
              ],
              [
               -122.3097581831798,
               47.51315301847926
              ],
              [
               -122.30957852012297,
               47.51315301847926
              ],
              [
               -122.30957852012297,
               47.513063186950845
              ],
              [
               -122.30948868859456,
               47.513063186950845
              ],
              [
               -122.30948868859456,
               47.51243436625196
              ],
              [
               -122.30939885706614,
               47.51243436625196
              ],
              [
               -122.30939885706614,
               47.51126655638261
              ],
              [
               -122.30948868859456,
               47.51126655638261
              ],
              [
               -122.30948868859456,
               47.510458072626896
              ],
              [
               -122.30939885706614,
               47.510458072626896
              ],
              [
               -122.30939885706614,
               47.510188578041664
              ],
              [
               -122.30930902553774,
               47.510188578041664
              ],
              [
               -122.30930902553774,
               47.509739420399605
              ],
              [
               -122.30921919400933,
               47.509739420399605
              ],
              [
               -122.30921919400933,
               47.50964958887119
              ],
              [
               -122.30912936248092,
               47.50964958887119
              ],
              [
               -122.30912936248092,
               47.50938009428595
              ],
              [
               -122.3090395309525,
               47.50938009428595
              ],
              [
               -122.3090395309525,
               47.509020768172306
              ],
              [
               -122.30894969942409,
               47.509020768172306
              ],
              [
               -122.30894969942409,
               47.50866144205866
              ],
              [
               -122.30885986789568,
               47.50866144205866
              ],
              [
               -122.30885986789568,
               47.5082122844166
              ],
              [
               -122.30877003636726,
               47.5082122844166
              ],
              [
               -122.30877003636726,
               47.50812245288819
              ],
              [
               -122.30868020483885,
               47.50812245288819
              ],
              [
               -122.30868020483885,
               47.508032621359774
              ],
              [
               -122.30859037331044,
               47.508032621359774
              ],
              [
               -122.30859037331044,
               47.50731396913248
              ],
              [
               -122.30850054178202,
               47.50731396913248
              ],
              [
               -122.30850054178202,
               47.50722413760407
              ],
              [
               -122.30841071025361,
               47.50722413760407
              ],
              [
               -122.30841071025361,
               47.507134306075656
              ],
              [
               -122.30832087872521,
               47.507134306075656
              ],
              [
               -122.30832087872521,
               47.50704447454724
              ],
              [
               -122.3082310471968,
               47.50704447454724
              ],
              [
               -122.3082310471968,
               47.50695464301883
              ],
              [
               -122.30814121566839,
               47.50695464301883
              ],
              [
               -122.30814121566839,
               47.50524784397901
              ],
              [
               -122.30805138413997,
               47.50524784397901
              ],
              [
               -122.30805138413997,
               47.50488851786536
              ],
              [
               -122.30796155261156,
               47.50488851786536
              ],
              [
               -122.30796155261156,
               47.50452919175171
              ],
              [
               -122.30787172108315,
               47.50452919175171
              ],
              [
               -122.30787172108315,
               47.50434952869489
              ],
              [
               -122.30778188955473,
               47.50434952869489
              ],
              [
               -122.30778188955473,
               47.504259697166475
              ],
              [
               -122.30769205802632,
               47.504259697166475
              ],
              [
               -122.30769205802632,
               47.50416986563806
              ],
              [
               -122.3076022264979,
               47.50416986563806
              ],
              [
               -122.3076022264979,
               47.50390037105283
              ],
              [
               -122.30751239496949,
               47.50390037105283
              ],
              [
               -122.30751239496949,
               47.503810539524416
              ],
              [
               -122.30733273191268,
               47.503810539524416
              ],
              [
               -122.30733273191268,
               47.503541044939176
              ],
              [
               -122.30742256344108,
               47.503541044939176
              ],
              [
               -122.3076022264979,
               47.503541044939176
              ],
              [
               -122.3076022264979,
               47.50345121341076
              ],
              [
               -122.30769205802632,
               47.50345121341076
              ],
              [
               -122.30769205802632,
               47.50336138188236
              ],
              [
               -122.30778188955473,
               47.50336138188236
              ],
              [
               -122.30778188955473,
               47.503271550353944
              ],
              [
               -122.30787172108315,
               47.503271550353944
              ],
              [
               -122.30787172108315,
               47.50318171882553
              ],
              [
               -122.30796155261156,
               47.50318171882553
              ],
              [
               -122.30805138413997,
               47.50318171882553
              ],
              [
               -122.30805138413997,
               47.50309188729712
              ],
              [
               -122.30814121566839,
               47.50309188729712
              ],
              [
               -122.30814121566839,
               47.503002055768704
              ],
              [
               -122.3082310471968,
               47.503002055768704
              ],
              [
               -122.3082310471968,
               47.5029122242403
              ],
              [
               -122.30832087872521,
               47.5029122242403
              ],
              [
               -122.30841071025361,
               47.5029122242403
              ],
              [
               -122.30841071025361,
               47.502822392711884
              ],
              [
               -122.30850054178202,
               47.502822392711884
              ],
              [
               -122.30859037331044,
               47.502822392711884
              ],
              [
               -122.30859037331044,
               47.50273256118347
              ],
              [
               -122.30868020483885,
               47.50273256118347
              ],
              [
               -122.30868020483885,
               47.50264272965506
              ],
              [
               -122.30894969942409,
               47.50264272965506
              ],
              [
               -122.30894969942409,
               47.50273256118347
              ],
              [
               -122.30921919400933,
               47.50273256118347
              ],
              [
               -122.30921919400933,
               47.50264272965506
              ],
              [
               -122.30930902553774,
               47.50264272965506
              ],
              [
               -122.30939885706614,
               47.50264272965506
              ],
              [
               -122.30939885706614,
               47.502552898126645
              ],
              [
               -122.30948868859456,
               47.502552898126645
              ],
              [
               -122.30966835165138,
               47.502552898126645
              ],
              [
               -122.30966835165138,
               47.50246306659823
              ],
              [
               -122.3097581831798,
               47.50246306659823
              ],
              [
               -122.30984801470821,
               47.50246306659823
              ],
              [
               -122.30984801470821,
               47.502373235069825
              ],
              [
               -122.30993784623662,
               47.502373235069825
              ],
              [
               -122.31002767776504,
               47.502373235069825
              ],
              [
               -122.31002767776504,
               47.50228340354141
              ],
              [
               -122.31029717235027,
               47.50228340354141
              ],
              [
               -122.31029717235027,
               47.502373235069825
              ],
              [
               -122.31083616152074,
               47.502373235069825
              ],
              [
               -122.31083616152074,
               47.50228340354141
              ],
              [
               -122.31092599304915,
               47.50228340354141
              ],
              [
               -122.31101582457757,
               47.50228340354141
              ],
              [
               -122.31101582457757,
               47.502193572013
              ],
              [
               -122.31110565610598,
               47.502193572013
              ],
              [
               -122.31110565610598,
               47.502103740484586
              ],
              [
               -122.3111954876344,
               47.502103740484586
              ],
              [
               -122.3111954876344,
               47.50201390895617
              ],
              [
               -122.3112853191628,
               47.50201390895617
              ],
              [
               -122.3112853191628,
               47.501924077427766
              ],
              [
               -122.3113751506912,
               47.501924077427766
              ],
              [
               -122.3113751506912,
               47.50183424589935
              ],
              [
               -122.31146498221962,
               47.50183424589935
              ],
              [
               -122.31146498221962,
               47.50174441437094
              ],
              [
               -122.31155481374803,
               47.50174441437094
              ],
              [
               -122.31155481374803,
               47.50129525672888
              ],
              [
               -122.31146498221962,
               47.50129525672888
              ],
              [
               -122.31146498221962,
               47.50120542520047
              ],
              [
               -122.3113751506912,
               47.50120542520047
              ],
              [
               -122.3113751506912,
               47.50102576214364
              ],
              [
               -122.3112853191628,
               47.50102576214364
              ],
              [
               -122.3112853191628,
               47.500935930615235
              ],
              [
               -122.3111954876344,
               47.500935930615235
              ],
              [
               -122.3111954876344,
               47.50084609908682
              ],
              [
               -122.31110565610598,
               47.50084609908682
              ],
              [
               -122.31110565610598,
               47.50075626755841
              ],
              [
               -122.31101582457757,
               47.50075626755841
              ],
              [
               -122.31101582457757,
               47.500666436029995
              ],
              [
               -122.31110565610598,
               47.500666436029995
              ],
              [
               -122.31110565610598,
               47.50057660450158
              ],
              [
               -122.3111954876344,
               47.50057660450158
              ],
              [
               -122.3111954876344,
               47.50048677297317
              ],
              [
               -122.3112853191628,
               47.50048677297317
              ],
              [
               -122.3112853191628,
               47.50039694144476
              ],
              [
               -122.3113751506912,
               47.50039694144476
              ],
              [
               -122.3113751506912,
               47.50030710991635
              ],
              [
               -122.31146498221962,
               47.50030710991635
              ],
              [
               -122.31146498221962,
               47.500217278387936
              ],
              [
               -122.31155481374803,
               47.500217278387936
              ],
              [
               -122.31209380291851,
               47.500217278387936
              ],
              [
               -122.31209380291851,
               47.50012744685952
              ],
              [
               -122.31218363444692,
               47.50012744685952
              ],
              [
               -122.31218363444692,
               47.50003761533111
              ],
              [
               -122.31227346597534,
               47.50003761533111
              ],
              [
               -122.31227346597534,
               47.4999477838027
              ],
              [
               -122.31236329750374,
               47.4999477838027
              ],
              [
               -122.31236329750374,
               47.49985795227429
              ],
              [
               -122.31245312903215,
               47.49985795227429
              ],
              [
               -122.31245312903215,
               47.49976812074588
              ],
              [
               -122.31254296056056,
               47.49976812074588
              ],
              [
               -122.31254296056056,
               47.499678289217464
              ],
              [
               -122.31263279208898,
               47.499678289217464
              ],
              [
               -122.31263279208898,
               47.49958845768905
              ],
              [
               -122.31272262361739,
               47.49958845768905
              ],
              [
               -122.31272262361739,
               47.49949862616064
              ],
              [
               -122.3128124551458,
               47.49949862616064
              ],
              [
               -122.3128124551458,
               47.49940879463223
              ],
              [
               -122.31290228667422,
               47.49940879463223
              ],
              [
               -122.31290228667422,
               47.499229131575404
              ],
              [
               -122.31299211820263,
               47.499229131575404
              ],
              [
               -122.31299211820263,
               47.49913930004699
              ],
              [
               -122.31308194973104,
               47.49913930004699
              ],
              [
               -122.31308194973104,
               47.49904946851858
              ],
              [
               -122.31317178125946,
               47.49904946851858
              ],
              [
               -122.31317178125946,
               47.49895963699017
              ],
              [
               -122.31326161278787,
               47.49895963699017
              ],
              [
               -122.31326161278787,
               47.49886980546176
              ],
              [
               -122.31335144431627,
               47.49886980546176
              ],
              [
               -122.31335144431627,
               47.498779973933345
              ],
              [
               -122.31344127584468,
               47.498779973933345
              ],
              [
               -122.31344127584468,
               47.49869014240493
              ],
              [
               -122.3135311073731,
               47.49869014240493
              ],
              [
               -122.3135311073731,
               47.49860031087652
              ],
              [
               -122.31362093890151,
               47.49860031087652
              ],
              [
               -122.31362093890151,
               47.498510479348106
              ],
              [
               -122.31371077042992,
               47.498510479348106
              ],
              [
               -122.31371077042992,
               47.4984206478197
              ],
              [
               -122.31380060195833,
               47.4984206478197
              ],
              [
               -122.31380060195833,
               47.498330816291286
              ],
              [
               -122.31389043348675,
               47.498330816291286
              ],
              [
               -122.31389043348675,
               47.49824098476287
              ],
              [
               -122.31398026501516,
               47.49824098476287
              ],
              [
               -122.31398026501516,
               47.49815115323446
              ],
              [
               -122.31407009654357,
               47.49815115323446
              ],
              [
               -122.31407009654357,
               47.49806132170605
              ],
              [
               -122.31415992807199,
               47.49806132170605
              ],
              [
               -122.31415992807199,
               47.49797149017764
              ],
              [
               -122.3142497596004,
               47.49797149017764
              ],
              [
               -122.3142497596004,
               47.49788165864923
              ],
              [
               -122.3143395911288,
               47.49788165864923
              ],
              [
               -122.3143395911288,
               47.497791827120814
              ],
              [
               -122.31442942265721,
               47.497791827120814
              ],
              [
               -122.31442942265721,
               47.4977019955924
              ],
              [
               -122.31451925418563,
               47.4977019955924
              ],
              [
               -122.31451925418563,
               47.497522332535574
              ],
              [
               -122.31460908571404,
               47.497522332535574
              ],
              [
               -122.31460908571404,
               47.49743250100717
              ],
              [
               -122.31469891724245,
               47.49743250100717
              ],
              [
               -122.31469891724245,
               47.497342669478755
              ],
              [
               -122.31478874877087,
               47.497342669478755
              ],
              [
               -122.31478874877087,
               47.49725283795034
              ],
              [
               -122.31487858029928,
               47.49725283795034
              ],
              [
               -122.31487858029928,
               47.497073174893515
              ],
              [
               -122.31496841182769,
               47.497073174893515
              ],
              [
               -122.31496841182769,
               47.49716300642193
              ],
              [
               -122.3150582433561,
               47.49716300642193
              ],
              [
               -122.3150582433561,
               47.49725283795034
              ],
              [
               -122.31514807488452,
               47.49725283795034
              ],
              [
               -122.31514807488452,
               47.497342669478755
              ],
              [
               -122.31523790641293,
               47.497342669478755
              ],
              [
               -122.31523790641293,
               47.49743250100717
              ],
              [
               -122.31532773794133,
               47.49743250100717
              ],
              [
               -122.31532773794133,
               47.497522332535574
              ],
              [
               -122.31541756946974,
               47.497522332535574
              ],
              [
               -122.31541756946974,
               47.49761216406399
              ],
              [
               -122.31559723252657,
               47.49761216406399
              ],
              [
               -122.31559723252657,
               47.4977019955924
              ],
              [
               -122.31568706405498,
               47.4977019955924
              ],
              [
               -122.31568706405498,
               47.497791827120814
              ],
              [
               -122.3157768955834,
               47.497791827120814
              ],
              [
               -122.3157768955834,
               47.49788165864923
              ],
              [
               -122.31586672711181,
               47.49788165864923
              ],
              [
               -122.31586672711181,
               47.49797149017764
              ],
              [
               -122.31604639016864,
               47.49797149017764
              ],
              [
               -122.31604639016864,
               47.49824098476287
              ],
              [
               -122.31613622169705,
               47.49824098476287
              ],
              [
               -122.31613622169705,
               47.498330816291286
              ],
              [
               -122.31622605322546,
               47.498330816291286
              ],
              [
               -122.31622605322546,
               47.4984206478197
              ],
              [
               -122.31631588475386,
               47.4984206478197
              ],
              [
               -122.31631588475386,
               47.498510479348106
              ],
              [
               -122.31667521086752,
               47.498510479348106
              ],
              [
               -122.31667521086752,
               47.49860031087652
              ],
              [
               -122.31685487392434,
               47.49860031087652
              ],
              [
               -122.31685487392434,
               47.49869014240493
              ],
              [
               -122.31703453698117,
               47.49869014240493
              ],
              [
               -122.31703453698117,
               47.49931896310382
              ],
              [
               -122.31712436850958,
               47.49931896310382
              ],
              [
               -122.31712436850958,
               47.49949862616064
              ],
              [
               -122.317214200038,
               47.49949862616064
              ],
              [
               -122.317214200038,
               47.49958845768905
              ],
              [
               -122.3173040315664,
               47.49958845768905
              ],
              [
               -122.3173040315664,
               47.49985795227429
              ],
              [
               -122.31739386309481,
               47.49985795227429
              ],
              [
               -122.31739386309481,
               47.50084609908682
              ],
              [
               -122.3173040315664,
               47.50084609908682
              ],
              [
               -122.3173040315664,
               47.50129525672888
              ],
              [
               -122.317214200038,
               47.50129525672888
              ],
              [
               -122.317214200038,
               47.502193572013
              ],
              [
               -122.31712436850958,
               47.502193572013
              ],
              [
               -122.31712436850958,
               47.5029122242403
              ],
              [
               -122.317214200038,
               47.5029122242403
              ],
              [
               -122.317214200038,
               47.50345121341076
              ],
              [
               -122.31712436850958,
               47.50345121341076
              ],
              [
               -122.31712436850958,
               47.503720707996
              ],
              [
               -122.31703453698117,
               47.503720707996
              ],
              [
               -122.31703453698117,
               47.503810539524416
              ],
              [
               -122.31694470545276,
               47.503810539524416
              ],
              [
               -122.31694470545276,
               47.50452919175171
              ],
              [
               -122.31703453698117,
               47.50452919175171
              ],
              [
               -122.31703453698117,
               47.50461902328012
              ],
              [
               -122.31712436850958,
               47.50461902328012
              ],
              [
               -122.31712436850958,
               47.50497834939377
              ],
              [
               -122.317214200038,
               47.50497834939377
              ],
              [
               -122.317214200038,
               47.50515801245059
              ],
              [
               -122.3173040315664,
               47.50515801245059
              ],
              [
               -122.3173040315664,
               47.505697001621066
              ],
              [
               -122.317214200038,
               47.505697001621066
              ],
              [
               -122.317214200038,
               47.50587666467789
              ],
              [
               -122.31712436850958,
               47.50587666467789
              ],
              [
               -122.31712436850958,
               47.506146159263125
              ],
              [
               -122.31703453698117,
               47.506146159263125
              ],
              [
               -122.31703453698117,
               47.50632582231995
              ],
              [
               -122.31694470545276,
               47.50632582231995
              ],
              [
               -122.31694470545276,
               47.50686481149042
              ],
              [
               -122.31685487392434,
               47.50686481149042
              ],
              [
               -122.31685487392434,
               47.50740380066089
              ],
              [
               -122.31676504239593,
               47.50740380066089
              ],
              [
               -122.31667521086752,
               47.50740380066089
              ],
              [
               -122.31667521086752,
               47.5074936321893
              ],
              [
               -122.3165853793391,
               47.5074936321893
              ],
              [
               -122.3165853793391,
               47.507583463717715
              ],
              [
               -122.31649554781069,
               47.507583463717715
              ],
              [
               -122.31649554781069,
               47.509020768172306
              ],
              [
               -122.31640571628228,
               47.509020768172306
              ],
              [
               -122.31640571628228,
               47.50920043122913
              ],
              [
               -122.31631588475386,
               47.50920043122913
              ],
              [
               -122.31631588475386,
               47.509290262757546
              ],
              [
               -122.31622605322546,
               47.509290262757546
              ],
              [
               -122.31622605322546,
               47.50938009428595
              ],
              [
               -122.31613622169705,
               47.50938009428595
              ],
              [
               -122.31613622169705,
               47.509469925814365
              ],
              [
               -122.31604639016864,
               47.509469925814365
              ],
              [
               -122.31604639016864,
               47.50955975734278
              ],
              [
               -122.31595655864022,
               47.50955975734278
              ],
              [
               -122.31595655864022,
               47.50964958887119
              ],
              [
               -122.31586672711181,
               47.50964958887119
              ],
              [
               -122.31586672711181,
               47.509739420399605
              ],
              [
               -122.3157768955834,
               47.509739420399605
              ],
              [
               -122.3157768955834,
               47.50982925192802
              ],
              [
               -122.31568706405498,
               47.50982925192802
              ],
              [
               -122.31568706405498,
               47.509919083456424
              ],
              [
               -122.31559723252657,
               47.509919083456424
              ],
              [
               -122.31550740099816,
               47.509919083456424
              ],
              [
               -122.31550740099816,
               47.51000891498484
              ],
              [
               -122.31541756946974,
               47.51000891498484
              ],
              [
               -122.31541756946974,
               47.51009874651325
              ],
              [
               -122.31532773794133,
               47.51009874651325
              ],
              [
               -122.31532773794133,
               47.510188578041664
              ],
              [
               -122.31523790641293,
               47.510188578041664
              ],
              [
               -122.31523790641293,
               47.51027840957008
              ],
              [
               -122.31514807488452,
               47.51027840957008
              ],
              [
               -122.31514807488452,
               47.51036824109848
              ],
              [
               -122.31487858029928,
               47.51036824109848
              ],
              [
               -122.31478874877087,
               47.51036824109848
              ],
              [
               -122.31478874877087,
               47.510458072626896
              ],
              [
               -122.31469891724245,
               47.510458072626896
              ],
              [
               -122.31460908571404,
               47.510458072626896
              ],
              [
               -122.31460908571404,
               47.51054790415531
              ],
              [
               -122.31451925418563,
               47.51054790415531
              ],
              [
               -122.31451925418563,
               47.51063773568372
              ],
              [
               -122.31442942265721,
               47.51063773568372
              ],
              [
               -122.31442942265721,
               47.510727567212136
              ],
              [
               -122.3143395911288,
               47.510727567212136
              ],
              [
               -122.3143395911288,
               47.51081739874055
              ],
              [
               -122.3142497596004,
               47.51081739874055
              ],
              [
               -122.3142497596004,
               47.510907230268955
              ],
              [
               -122.31415992807199,
               47.510907230268955
              ],
              [
               -122.31415992807199,
               47.51099706179737
              ],
              [
               -122.31407009654357,
               47.51099706179737
              ],
              [
               -122.31407009654357,
               47.51108689332578
              ],
              [
               -122.31389043348675,
               47.51108689332578
              ],
              [
               -122.31380060195833,
               47.51108689332578
              ],
              [
               -122.31380060195833,
               47.511176724854195
              ],
              [
               -122.31371077042992,
               47.511176724854195
              ],
              [
               -122.31371077042992,
               47.51126655638261
              ],
              [
               -122.31362093890151,
               47.51126655638261
              ],
              [
               -122.31362093890151,
               47.511356387911015
              ],
              [
               -122.3135311073731,
               47.511356387911015
              ],
              [
               -122.3135311073731,
               47.51144621943943
              ],
              [
               -122.31308194973104,
               47.51144621943943
              ],
              [
               -122.31299211820263,
               47.51144621943943
              ],
              [
               -122.31299211820263,
               47.51153605096784
              ],
              [
               -122.31290228667422,
               47.51153605096784
              ],
              [
               -122.31290228667422,
               47.511625882496254
              ],
              [
               -122.3128124551458,
               47.511625882496254
              ],
              [
               -122.3128124551458,
               47.51171571402467
              ],
              [
               -122.31272262361739,
               47.51171571402467
              ],
              [
               -122.31272262361739,
               47.51189537708149
              ],
              [
               -122.31263279208898,
               47.51189537708149
              ],
              [
               -122.31263279208898,
               47.5119852086099
              ],
              [
               -122.31254296056056,
               47.5119852086099
              ],
              [
               -122.31254296056056,
               47.51207504013831
              ],
              [
               -122.31245312903215,
               47.51207504013831
              ],
              [
               -122.31245312903215,
               47.51216487166673
              ],
              [
               -122.31236329750374,
               47.51216487166673
              ],
              [
               -122.31236329750374,
               47.512344534723546
              ],
              [
               -122.31227346597534,
               47.512344534723546
              ],
              [
               -122.31227346597534,
               47.51243436625196
              ],
              [
               -122.31218363444692,
               47.51243436625196
              ],
              [
               -122.31218363444692,
               47.51252419778037
              ],
              [
               -122.31209380291851,
               47.51252419778037
              ],
              [
               -122.31209380291851,
               47.512614029308786
              ],
              [
               -122.3120039713901,
               47.512614029308786
              ],
              [
               -122.3120039713901,
               47.5127038608372
              ],
              [
               -122.31191413986168,
               47.5127038608372
              ],
              [
               -122.31191413986168,
               47.51279369236561
              ],
              [
               -122.31182430833327,
               47.51279369236561
              ],
              [
               -122.31182430833327,
               47.51288352389402
              ],
              [
               -122.31173447680486,
               47.51288352389402
              ],
              [
               -122.31173447680486,
               47.51297335542243
              ],
              [
               -122.31164464527644,
               47.51297335542243
              ],
              [
               -122.31164464527644,
               47.513063186950845
              ],
              [
               -122.31155481374803,
               47.513063186950845
              ],
              [
               -122.31155481374803,
               47.51315301847926
              ],
              [
               -122.31146498221962,
               47.51315301847926
              ],
              [
               -122.31146498221962,
               47.51324285000767
              ],
              [
               -122.3113751506912,
               47.51324285000767
              ],
              [
               -122.3113751506912,
               47.51333268153608
              ],
              [
               -122.3112853191628,
               47.51333268153608
              ],
              [
               -122.3112853191628,
               47.51342251306449
              ],
              [
               -122.3111954876344,
               47.51342251306449
              ],
              [
               -122.31110565610598,
               47.51342251306449
              ],
              [
               -122.31110565610598,
               47.513512344592904
              ],
              [
               -122.31092599304915,
               47.513512344592904
              ],
              [
               -122.31092599304915,
               47.51342251306449
              ],
              [
               -122.31038700387867,
               47.51342251306449
              ],
              [
               -122.31038700387867,
               47.513512344592904
              ]
             ]
            ],
            [
             [
              [
               -122.31047683540709,
               47.51360217612132
              ],
              [
               -122.31038700387867,
               47.51360217612132
              ],
              [
               -122.31038700387867,
               47.513512344592904
              ],
              [
               -122.31047683540709,
               47.513512344592904
              ],
              [
               -122.31047683540709,
               47.51360217612132
              ]
             ]
            ],
            [
             [
              [
               -122.31047683540709,
               47.51360217612132
              ],
              [
               -122.3105666669355,
               47.51360217612132
              ],
              [
               -122.31101582457757,
               47.51360217612132
              ],
              [
               -122.31101582457757,
               47.51369200764973
              ],
              [
               -122.3111954876344,
               47.51369200764973
              ],
              [
               -122.3111954876344,
               47.51387167070655
              ],
              [
               -122.31110565610598,
               47.51387167070655
              ],
              [
               -122.31110565610598,
               47.51396150223496
              ],
              [
               -122.31083616152074,
               47.51396150223496
              ],
              [
               -122.31083616152074,
               47.51387167070655
              ],
              [
               -122.31065649846391,
               47.51387167070655
              ],
              [
               -122.31065649846391,
               47.513781839178144
              ],
              [
               -122.3105666669355,
               47.513781839178144
              ],
              [
               -122.3105666669355,
               47.51369200764973
              ],
              [
               -122.31047683540709,
               47.51369200764973
              ],
              [
               -122.31047683540709,
               47.51360217612132
              ]
             ]
            ]
           ],
           "type": "MultiPolygon"
          },
          "id": "1",
          "properties": {},
          "type": "Feature"
         }
        ],
        "type": "FeatureCollection"
       },
       "name": "watershed"
      }
     },
     "b159e50abbbc459eac57879a6f655be5": {
      "model_module": "@jupyter-widgets/base",
      "model_module_version": "1.2.0",
      "model_name": "LayoutModel",
      "state": {
       "visibility": "visible"
      }
     },
     "bbbfa741f2dc440abbf466d7aab25a63": {
      "model_module": "@jupyter-widgets/base",
      "model_module_version": "1.2.0",
      "model_name": "LayoutModel",
      "state": {}
     },
     "bf8f5549526a41c4b40656de238aaf04": {
      "model_module": "@jupyter-widgets/controls",
      "model_module_version": "1.5.0",
      "model_name": "VBoxModel",
      "state": {
       "children": [
        "IPY_MODEL_21d23c56b2f64e899faf5933030c170b",
        "IPY_MODEL_fb49f8114e9f4ef1b73e9cc0db4149e1",
        "IPY_MODEL_d286cdcce5604c7dac45c18b4d8535c8"
       ],
       "layout": "IPY_MODEL_13976e1f29e64ec49829d42cef652483"
      }
     },
     "c91f464f16bb4f94bf219f081b896ec6": {
      "model_module": "jupyter-leaflet",
      "model_module_version": "^0.11.4",
      "model_name": "LeafletMapModel",
      "state": {
       "_dom_classes": [],
       "_model_module_version": "^0.11.4",
       "_view_count": null,
       "_view_module_version": "^0.11.4",
       "basemap": {
        "attribution": "Tiles &copy; Esri &mdash; Esri, DeLorme, NAVTEQ, TomTom, Intermap, iPC, USGS, FAO, NPS, NRCAN, GeoBase, Kadaster NL, Ordnance Survey, Esri Japan, METI, Esri China (Hong Kong), and the GIS User Community",
        "max_zoom": 20,
        "name": "Esri.WorldTopoMap",
        "url": "http://server.arcgisonline.com/ArcGIS/rest/services/World_Topo_Map/MapServer/tile/{z}/{y}/{x}"
       },
       "center": [
        47.51325876844644,
        -122.31027603149415
       ],
       "controls": [
        "IPY_MODEL_09f8d493b6d549008e5c2a23678c7f22",
        "IPY_MODEL_fca320bd50c84d55ba7437bf1b964b63",
        "IPY_MODEL_7bbc9a2fded74c689ab817a40e857943"
       ],
       "default_style": "IPY_MODEL_dd68e6e41fe647449fae67dddf41c4e8",
       "dragging_style": "IPY_MODEL_eb8598b93a714ec0a0b34166810f5fc1",
       "east": -122.2548294067383,
       "fullscreen": false,
       "interpolation": "bilinear",
       "layers": [
        "IPY_MODEL_f43709d140d1486c9a97434031eb9ad3",
        "IPY_MODEL_2d403d8790c140c5b697d801a4e8f5f2",
        "IPY_MODEL_5c5e2708030c4f39918d1ff93648dc32",
        "IPY_MODEL_aa4c049e2ba44ee7aac650acae4df842"
       ],
       "layout": "IPY_MODEL_93a6794c31c240d79fa6401182d13842",
       "modisdate": "yesterday",
       "north": 47.559615658083224,
       "options": [
        "basemap",
        "bounce_at_zoom_limits",
        "box_zoom",
        "center",
        "close_popup_on_click",
        "double_click_zoom",
        "dragging",
        "fullscreen",
        "inertia",
        "inertia_deceleration",
        "inertia_max_speed",
        "interpolation",
        "keyboard",
        "keyboard_pan_offset",
        "keyboard_zoom_offset",
        "max_zoom",
        "min_zoom",
        "scroll_wheel_zoom",
        "tap",
        "tap_tolerance",
        "touch_zoom",
        "world_copy_jump",
        "zoom",
        "zoom_animation_threshold",
        "zoom_start"
       ],
       "south": 47.466860892478806,
       "style": "IPY_MODEL_dd68e6e41fe647449fae67dddf41c4e8",
       "west": -122.36537933349611
      }
     },
     "ca34744a340d435d844a0871c8026e0d": {
      "model_module": "@jupyter-widgets/controls",
      "model_module_version": "1.5.0",
      "model_name": "FloatTextModel",
      "state": {
       "description": "Lat:",
       "disabled": true,
       "layout": "IPY_MODEL_6e35172b79454c64a87dc44b30a7aaf7",
       "step": null,
       "style": "IPY_MODEL_2ca80b2646dd46a9adae5f37185b8ee8",
       "value": 47.51324591666263
      }
     },
     "d286cdcce5604c7dac45c18b4d8535c8": {
      "model_module": "@jupyter-widgets/controls",
      "model_module_version": "1.5.0",
      "model_name": "LabelModel",
      "state": {
       "layout": "IPY_MODEL_b159e50abbbc459eac57879a6f655be5",
       "style": "IPY_MODEL_ef074af28388460eba8ee086092011cc",
       "value": "\n    DBID: \n\n\n    Done! Please proceed to the next cell."
      }
     },
     "dd68e6e41fe647449fae67dddf41c4e8": {
      "model_module": "jupyter-leaflet",
      "model_module_version": "^0.11.4",
      "model_name": "LeafletMapStyleModel",
      "state": {
       "_model_module_version": "^0.11.4",
       "_view_count": null,
       "_view_module": "@jupyter-widgets/base",
       "_view_module_version": "1.2.0",
       "_view_name": "StyleView",
       "cursor": "grab"
      }
     },
     "e9071c3d9f604d10a128128a5038c5cf": {
      "model_module": "@jupyter-widgets/jupyterlab-sidecar",
      "model_module_version": "1.0.0",
      "model_name": "SidecarModel",
      "state": {
       "layout": "IPY_MODEL_bbbfa741f2dc440abbf466d7aab25a63",
       "outputs": [
        {
         "data": {
          "application/vnd.jupyter.widget-view+json": {
           "model_id": "",
           "version_major": 2,
           "version_minor": 0
          },
          "text/plain": "VBox(children=(Map(basemap={'url': 'http://server.arcgisonline.com/ArcGIS/rest/services/World_Topo_Map/MapServ…"
         },
         "metadata": {},
         "output_type": "display_data"
        }
       ],
       "title": "Watershed Delineator"
      }
     },
     "eb8598b93a714ec0a0b34166810f5fc1": {
      "model_module": "jupyter-leaflet",
      "model_module_version": "^0.11.4",
      "model_name": "LeafletMapStyleModel",
      "state": {
       "_model_module_version": "^0.11.4",
       "_view_count": null,
       "_view_module": "@jupyter-widgets/base",
       "_view_module_version": "1.2.0",
       "_view_name": "StyleView",
       "cursor": "move"
      }
     },
     "ec3f6e9aadba4ee1acbaa0f0880c1fdf": {
      "model_module": "@jupyter-widgets/controls",
      "model_module_version": "1.5.0",
      "model_name": "DescriptionStyleModel",
      "state": {
       "description_width": ""
      }
     },
     "ef074af28388460eba8ee086092011cc": {
      "model_module": "@jupyter-widgets/controls",
      "model_module_version": "1.5.0",
      "model_name": "DescriptionStyleModel",
      "state": {
       "description_width": ""
      }
     },
     "f43709d140d1486c9a97434031eb9ad3": {
      "model_module": "jupyter-leaflet",
      "model_module_version": "^0.11.4",
      "model_name": "LeafletTileLayerModel",
      "state": {
       "_model_module_version": "^0.11.4",
       "_view_count": null,
       "_view_module_version": "^0.11.4",
       "attribution": "Tiles &copy; Esri &mdash; Esri, DeLorme, NAVTEQ, TomTom, Intermap, iPC, USGS, FAO, NPS, NRCAN, GeoBase, Kadaster NL, Ordnance Survey, Esri Japan, METI, Esri China (Hong Kong), and the GIS User Community",
       "base": true,
       "max_native_zoom": 18,
       "max_zoom": 20,
       "min_native_zoom": 0,
       "min_zoom": 1,
       "name": "Esri.WorldTopoMap",
       "no_wrap": false,
       "options": [
        "attribution",
        "detect_retina",
        "max_native_zoom",
        "max_zoom",
        "min_native_zoom",
        "min_zoom",
        "no_wrap",
        "tile_size",
        "tms"
       ],
       "url": "http://server.arcgisonline.com/ArcGIS/rest/services/World_Topo_Map/MapServer/tile/{z}/{y}/{x}"
      }
     },
     "fb49f8114e9f4ef1b73e9cc0db4149e1": {
      "model_module": "@jupyter-widgets/controls",
      "model_module_version": "1.5.0",
      "model_name": "VBoxModel",
      "state": {
       "children": [
        "IPY_MODEL_ca34744a340d435d844a0871c8026e0d",
        "IPY_MODEL_08893db94c124708bd00bf46c04c83c0",
        "IPY_MODEL_3d465b5c243049bcb5d12fb858f370ba"
       ],
       "layout": "IPY_MODEL_0bc0f38dafc6450c930316bb4611cc43"
      }
     },
     "fca320bd50c84d55ba7437bf1b964b63": {
      "model_module": "jupyter-leaflet",
      "model_module_version": "^0.11.4",
      "model_name": "LeafletAttributionControlModel",
      "state": {
       "_model_module_version": "^0.11.4",
       "_view_count": null,
       "_view_module_version": "^0.11.4",
       "options": [
        "position",
        "prefix"
       ],
       "position": "bottomright",
       "prefix": "Leaflet"
      }
     }
    },
    "version_major": 2,
    "version_minor": 0
   }
  }
 },
 "nbformat": 4,
 "nbformat_minor": 4
}
